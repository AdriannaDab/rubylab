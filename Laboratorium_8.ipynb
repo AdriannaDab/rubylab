{
 "metadata": {
  "language": "ruby",
  "name": "",
  "signature": "sha256:4e30954f64377155c08d6bc9259191aac8b4ef3ef455b0f010cb0a3c13afbfd6"
 },
 "nbformat": 3,
 "nbformat_minor": 0,
 "worksheets": [
  {
   "cells": [
    {
     "cell_type": "heading",
     "level": 1,
     "metadata": {},
     "source": [
      "Zapytania z\u0142o\u017cone"
     ]
    },
    {
     "cell_type": "markdown",
     "metadata": {},
     "source": [
      "Przed rozpocz\u0119ciem pracy konieczne jest skonfigurowanie bazy oraz za\u0142adowanie danych:\n",
      "```ruby\n",
      "$:.unshift \".\"\n",
      "require 'db_setup'\n",
      "require 'db_load'\n",
      "```"
     ]
    },
    {
     "cell_type": "code",
     "collapsed": false,
     "input": [
      "$:.unshift \".\"\n",
      "require 'db_setup'\n",
      "require 'db_load'\n"
     ],
     "language": "python",
     "metadata": {},
     "outputs": [
      {
       "output_type": "stream",
       "stream": "stdout",
       "text": [
        "==  AddIndicesMigration: migrating ============================================\n"
       ]
      },
      {
       "output_type": "stream",
       "stream": "stdout",
       "text": [
        "==  AddIndicesMigration: migrated (0.0000s) ===================================\n"
       ]
      },
      {
       "output_type": "stream",
       "stream": "stdout",
       "text": [
        "\n"
       ]
      },
      {
       "metadata": {},
       "output_type": "pyout",
       "prompt_number": 2,
       "text": [
        "true"
       ]
      }
     ],
     "prompt_number": 2
    },
    {
     "cell_type": "markdown",
     "metadata": {},
     "source": [
      "W dalszych zadaniach b\u0119dzie wykonywa\u0107 polecenia korzystaj\u0105c z nast\u0119puj\u0105cych klas, zmapowanych na odpowiadaj\u0105ce im \n",
      "table w bazie danych:\n",
      "```ruby\n",
      "class Author < ActiveRecord::Base\n",
      "  # name      (string)\n",
      "  # surname   (string)\n",
      "  # born      (datetime) \n",
      "  # died      (datetime)\n",
      "  # image_url (string)\n",
      "  \n",
      "  has_many :books\n",
      "end\n",
      "\n",
      "class Book < ActiveRecord::Base\n",
      "  # title     (string)\n",
      "  # author    (Author)\n",
      "  # published (integer)\n",
      "\n",
      "  belongs_to :author\n",
      "end\n",
      "```"
     ]
    },
    {
     "cell_type": "markdown",
     "metadata": {},
     "source": [
      "ActiveRecord udost\u0119pnia interfejs pozwalaj\u0105cy wyszukiwa\u0107 dane w bazie r\u00f3wnie\u017c z wykorzystaniem zwi\u0105zk\u00f3w zdefiniowanych pomi\u0119dzy\n",
      "klasami. Do definiowania tych zwi\u0105zk\u00f3w s\u0142u\u017c\u0105 polecenia `has_many`, `belongs_to`, `has_one` oraz `has_and_belongs_to_many`.\n",
      "Przyk\u0142adowo je\u015bli chcemy dowiedzie\u0107 si\u0119 kto by\u0142 autorem pierwszej ksi\u0105\u017cki wykonujemy zapytanie:\n",
      "```ruby\n",
      "book = Book.first\n",
      "puts book.title\n",
      "puts book.author\n",
      "```"
     ]
    },
    {
     "cell_type": "code",
     "collapsed": false,
     "input": [
      "book = Book.first\n",
      "puts book.title\n",
      "puts book.author"
     ],
     "language": "python",
     "metadata": {},
     "outputs": [
      {
       "output_type": "stream",
       "stream": "stdout",
       "text": [
        "V\u00e9gj\u00e1t\u00e9k (reg\u00e9ny)\n"
       ]
      },
      {
       "output_type": "stream",
       "stream": "stdout",
       "text": [
        "#<Author:0x00000002b19e08>\n"
       ]
      }
     ],
     "prompt_number": 2
    },
    {
     "cell_type": "markdown",
     "metadata": {},
     "source": [
      "Niestety prezentowany wynik nie jest zbyt u\u017cyteczny. Poniewa\u017c jednak metoda `author` zwraca obiekt, mo\u017cemy na nim wywo\u0142ywa\u0107 \n",
      "metody - tak samo jak w przypadku autora za\u0142adowanego bezpo\u015brednio z wykorzystaniem metod zdefiniowanych dla klasy `Author`\n",
      "```ruby\n",
      "book = Book.first\n",
      "puts book.title\n",
      "puts \"#{book.author.name} #{book.author.surname}\"\n",
      "```"
     ]
    },
    {
     "cell_type": "code",
     "collapsed": false,
     "input": [
      "book = Book.first\n",
      "puts book.title\n",
      "puts \"#{book.author.name} #{book.author.surname}\""
     ],
     "language": "python",
     "metadata": {},
     "outputs": [
      {
       "output_type": "stream",
       "stream": "stdout",
       "text": [
        "V\u00e9gj\u00e1t\u00e9k (reg\u00e9ny)\n"
       ]
      },
      {
       "output_type": "stream",
       "stream": "stdout",
       "text": [
        "Orson Scott Card\n"
       ]
      }
     ],
     "prompt_number": 3
    },
    {
     "cell_type": "markdown",
     "metadata": {},
     "source": [
      "Co wi\u0119cej, je\u015bli mamy do czynienia ze zwi\u0105zkiem jeden-do-wiele b\u0105d\u017a wiele-do-wiele, mo\u017cemy wywy\u0142ywa\u0107 wszystkie dotychczas poznane \n",
      "metody na kolekcji powi\u0105zanych obiekt\u00f3w. Istotnie u\u0142atwia to wyszukiwanie potrzebnych danych:\n",
      "```ruby\n",
      "books = Book.where(\"title like 'A%'\")\n",
      "books.each do |book|\n",
      "  puts book.title\n",
      "end\n",
      "\n",
      "author = Author.where(surname: \"To\u0142stoj\").first\n",
      "books = author.books.where(\"title like 'A%'\")\n",
      "books.each do |book|\n",
      "  puts book.title\n",
      "end\n",
      "```"
     ]
    },
    {
     "cell_type": "code",
     "collapsed": false,
     "input": [
      "books = Book.where(\"title like 'A%'\")\n",
      "books.each do |book|\n",
      "  puts book.title\n",
      "end\n",
      "\n",
      "author = Author.where(surname: \"To\u0142stoj\").first\n",
      "books = author.books.where(\"title like 'A%'\")\n",
      "books.each do |book|\n",
      "  puts book.title\n",
      "end"
     ],
     "language": "python",
     "metadata": {},
     "outputs": [
      {
       "output_type": "stream",
       "stream": "stdout",
       "text": [
        "Anna Karenina\n"
       ]
      },
      {
       "output_type": "stream",
       "stream": "stdout",
       "text": [
        "Azazel (powie\u015b\u0107)\n"
       ]
      },
      {
       "output_type": "stream",
       "stream": "stdout",
       "text": [
        "Anna Karenina\n"
       ]
      },
      {
       "metadata": {},
       "output_type": "pyout",
       "prompt_number": 4,
       "text": [
        "[#<Book id: 33, title: \"Anna Karenina\", language: nil, author_id: 64, published: 1877, image_url: \"http://commons.wikimedia.org/wiki/Special:FilePath...\">]"
       ]
      }
     ],
     "prompt_number": 4
    },
    {
     "cell_type": "markdown",
     "metadata": {},
     "source": [
      "R\u00f3\u017cnica pomi\u0119dzy tymi zapytaniami polega na tym, \u017ce w pierwszym przypadku szukamy ksi\u0105\u017cki, kt\u00f3rych tytu\u0142 zaczyna si\u0119 na \"A\" \n",
      "w ca\u0142ym zbiorze ksi\u0105\u017cek, a w drugi przypadku w\u015br\u00f3d ksi\u0105\u017cek napisanych przez To\u0142stoja."
     ]
    },
    {
     "cell_type": "markdown",
     "metadata": {},
     "source": [
      "Aby umo\u017cliwi\u0107 formatowanie wynik\u00f3w zapytania, IRuby udost\u0119pnia metod\u0119 `IRuby.html`, kt\u00f3ra pozwala na wy\u015bwietlanie kodu\n",
      "HTML. Przyk\u0142adowo\n",
      "```ruby\n",
      "IRuby.html \"<h1>Test HTML-a</h1>\"\n",
      "```"
     ]
    },
    {
     "cell_type": "code",
     "collapsed": false,
     "input": [
      "IRuby.html \"<h1>Test HTML-a</h1>\""
     ],
     "language": "python",
     "metadata": {},
     "outputs": [
      {
       "html": [
        "<h1>Test HTML-a</h1>"
       ],
       "metadata": {},
       "output_type": "pyout",
       "prompt_number": 6,
       "text": [
        "\"<h1>Test HTML-a</h1>\""
       ]
      }
     ],
     "prompt_number": 6
    },
    {
     "cell_type": "markdown",
     "metadata": {},
     "source": [
      "Dzi\u0119ki temu b\u0119dziemy mogli formatowa\u0107 wyniki zapyta\u0144, a wszczeg\u00f3lno\u015bci wy\u015bwietla\u0107 obrazy przedstwiaj\u0105ce autor\u00f3w oraz ksi\u0105\u017cki. \n",
      "Nale\u017cy jednak wzi\u0105\u0107 pod uwag\u0119, \u017ce nie wszystkie ksi\u0105\u017cki oraz nie wszyscy autorzy posiadaj\u0105 odpowiadaj\u0105ce im obrazki.\n",
      "Aby wy\u015bwietli\u0107 imi\u0119, nazwisko oraz obraz pierwszego autora piszemy:\n",
      "```ruby\n",
      "author = Author.where(\"image_url is not null\").first\n",
      "IRuby.html \"<h1>#{author.name} #{author.surname}</h1><img src='#{author.image_url}'/>\"\n",
      "```"
     ]
    },
    {
     "cell_type": "code",
     "collapsed": false,
     "input": [
      "author = Author.where(\"image_url is not null\").first\n",
      "IRuby.html \"<h1>#{author.name} #{author.surname}</h1><img src='#{author.image_url}'/>\""
     ],
     "language": "python",
     "metadata": {},
     "outputs": [
      {
       "html": [
        "<h1>Orson Scott Card</h1><img src='http://commons.wikimedia.org/wiki/Special:FilePath/Orson_Scott_Card_at_BYU_Symposium_20080216_closeup.jpg?width=300'/>"
       ],
       "metadata": {},
       "output_type": "pyout",
       "prompt_number": 30,
       "text": [
        "\"<h1>Orson Scott Card</h1><img src='http://commons.wikimedia.org/wiki/Special:FilePath/Orson_Scott_Card_at_BYU_Symposium_20080216_closeup.jpg?width=300'/>\""
       ]
      }
     ],
     "prompt_number": 30
    },
    {
     "cell_type": "markdown",
     "metadata": {},
     "source": [
      "Mo\u017cemy r\u00f3wnie\u017c zdefniowa\u0107 funkcj\u0119, np. `display_author`, kt\u00f3rej zadaniem b\u0119dzie wy\u015bwietlenie autora w tej postaci. \n",
      "Jedyny problem polega na tym, \u017ce funkcja `IRuby.html` mo\u017ce by\u0107 wywo\u0142ywana tylko raz. Dlatego je\u015bli chcemy wy\u015bwietli\u0107 kilku autor\u00f3w,\n",
      "musimy po\u0142\u0105czy\u0107 odpowiadaj\u0105ce im kody HTML i wynik przekaza\u0107 do funkcji `html`\n",
      "```ruby\n",
      "def display_author(author)\n",
      "  \"<h1>#{author.name} #{author.surname}</h1><img src='#{author.image_url}'/>\"\n",
      "end\n",
      "\n",
      "author_1 = Author.where(\"image_url is not null\").first\n",
      "author_2 = Author.where(\"image_url is not null\").offset(1).first\n",
      "document = display_author(author_1)\n",
      "document += display_author(author_2)\n",
      "IRuby.html document\n",
      "```"
     ]
    },
    {
     "cell_type": "code",
     "collapsed": false,
     "input": [
      "def display_author(author)\n",
      "  \"<h1>#{author.name} #{author.surname}</h1><img src='#{author.image_url}'/>\"\n",
      "end\n",
      "\n",
      "author_1 = Author.where(\"image_url is not null\").first\n",
      "author_2 = Author.where(\"image_url is not null\").offset(1).first\n",
      "document = display_author(author_1)\n",
      "document += display_author(author_2)\n",
      "IRuby.html document"
     ],
     "language": "python",
     "metadata": {},
     "outputs": [
      {
       "html": [
        "<h1>Orson Scott Card</h1><img src='http://commons.wikimedia.org/wiki/Special:FilePath/Orson_Scott_Card_at_BYU_Symposium_20080216_closeup.jpg?width=300'/><h1>Andrzej Sapkowski</h1><img src='http://commons.wikimedia.org/wiki/Special:FilePath/Sapkowski.jpg?width=300'/>"
       ],
       "metadata": {},
       "output_type": "pyout",
       "prompt_number": 8,
       "text": [
        "\"<h1>Orson Scott Card</h1><img src='http://commons.wikimedia.org/wiki/Special:FilePath/Orson_Scott_Card_at_BYU_Symposium_20080216_closeup.jpg?width=300'/><h1>Andrzej Sapkowski</h1><img src='http://commons.wikimedia.org/wiki/Special:FilePath/Sapkowski.jpg?width=300'/>\""
       ]
      }
     ],
     "prompt_number": 8
    },
    {
     "cell_type": "heading",
     "level": 2,
     "metadata": {},
     "source": [
      "Zadania"
     ]
    },
    {
     "cell_type": "heading",
     "level": 3,
     "metadata": {},
     "source": [
      "Zadanie 1"
     ]
    },
    {
     "cell_type": "markdown",
     "metadata": {},
     "source": [
      "Wy\u015bwietl wszystkich autor\u00f3w, kt\u00f3rzy urodzili si\u0119 przed rokiem 1900."
     ]
    },
    {
     "cell_type": "code",
     "collapsed": false,
     "input": [
      "authors = Author.where('born < ?',Date.parse(\"1899-12-31\")).all\n",
      "if authors\n",
      "  authors.each do |author|\n",
      "    puts author.name + \" \" + author.surname \n",
      "    #IRuby.html \"<h1> #{author.name} #{author.surname}</h1>\"\n",
      "\n",
      "  end\n",
      "  else\n",
      "    puts \"Nie ma\"\n",
      "  end\n",
      "#IRuby.html \"<h1>#{author.name} #{author.surname}</h1><img src='#{author.image_url}'/>\""
     ],
     "language": "python",
     "metadata": {},
     "outputs": [
      {
       "output_type": "stream",
       "stream": "stdout",
       "text": [
        "Juliusz S\u0142owacki\n"
       ]
      },
      {
       "output_type": "stream",
       "stream": "stdout",
       "text": [
        "Henryk Sienkiewicz\n"
       ]
      },
      {
       "output_type": "stream",
       "stream": "stdout",
       "text": [
        "Eliza Orzeszkowa\n"
       ]
      },
      {
       "output_type": "stream",
       "stream": "stdout",
       "text": [
        "Adam Mickiweicz\n"
       ]
      },
      {
       "output_type": "stream",
       "stream": "stdout",
       "text": [
        "Jack London\n"
       ]
      },
      {
       "output_type": "stream",
       "stream": "stdout",
       "text": [
        "Miko\u0142aj Kopernik\n"
       ]
      },
      {
       "output_type": "stream",
       "stream": "stdout",
       "text": [
        "Maria Franciszka Koz\u0142owska\n"
       ]
      },
      {
       "output_type": "stream",
       "stream": "stdout",
       "text": [
        "William Szekspir\n"
       ]
      },
      {
       "output_type": "stream",
       "stream": "stdout",
       "text": [
        "John Ronald Reuel Tolkien\n"
       ]
      },
      {
       "output_type": "stream",
       "stream": "stdout",
       "text": [
        "Aleksander Dumas (ojciec)\n"
       ]
      },
      {
       "output_type": "stream",
       "stream": "stdout",
       "text": [
        "Tadeusz Do\u0142\u0119ga-Mostowicz\n"
       ]
      },
      {
       "output_type": "stream",
       "stream": "stdout",
       "text": [
        "Vladimir Nabokov\n"
       ]
      },
      {
       "output_type": "stream",
       "stream": "stdout",
       "text": [
        "Adolf Hitler\n"
       ]
      },
      {
       "output_type": "stream",
       "stream": "stdout",
       "text": [
        "Benedykt Chmielowski\n"
       ]
      },
      {
       "output_type": "stream",
       "stream": "stdout",
       "text": [
        "Aldous Huxley\n"
       ]
      },
      {
       "output_type": "stream",
       "stream": "stdout",
       "text": [
        "Honor\u00e9 de Balzac\n"
       ]
      },
      {
       "output_type": "stream",
       "stream": "stdout",
       "text": [
        "Franz Kafka\n"
       ]
      },
      {
       "output_type": "stream",
       "stream": "stdout",
       "text": [
        "Howard Phillips Lovecraft\n"
       ]
      },
      {
       "output_type": "stream",
       "stream": "stdout",
       "text": [
        "Lew To\u0142stoj\n"
       ]
      },
      {
       "output_type": "stream",
       "stream": "stdout",
       "text": [
        "Ilja Ilf\n"
       ]
      },
      {
       "output_type": "stream",
       "stream": "stdout",
       "text": [
        "Gabriela Zapolska\n"
       ]
      },
      {
       "output_type": "stream",
       "stream": "stdout",
       "text": [
        "Clive Staples Lewis\n"
       ]
      },
      {
       "output_type": "stream",
       "stream": "stdout",
       "text": [
        "Adam Mickiewicz\n"
       ]
      },
      {
       "output_type": "stream",
       "stream": "stdout",
       "text": [
        "Iwan Turgieniew\n"
       ]
      },
      {
       "output_type": "stream",
       "stream": "stdout",
       "text": [
        "Lucy Maud Montgomery\n"
       ]
      },
      {
       "output_type": "stream",
       "stream": "stdout",
       "text": [
        "Aleksander Majkowski\n"
       ]
      },
      {
       "metadata": {},
       "output_type": "pyout",
       "prompt_number": 9,
       "text": [
        "[#<Author id: 17, name: \"Juliusz\", surname: \"S\u0142owacki\", born: \"1809-09-04\", died: \"1849-04-03\", image_url: nil>, #<Author id: 18, name: \"Henryk\", surname: \"Sienkiewicz\", born: \"1846-05-05\", died: \"1916-11-15\", image_url: nil>, #<Author id: 19, name: \"Eliza\", surname: \"Orzeszkowa\", born: \"1841-06-06\", died: \"1910-05-18\", image_url: nil>, #<Author id: 39, name: \"Adam\", surname: \"Mickiweicz\", born: \"1798-12-24\", died: \"1855-11-26\", image_url: nil>, #<Author id: 42, name: \"Jack\", surname: \"London\", born: \"1876-01-12\", died: \"1916-11-22\", image_url: \"http://commons.wikimedia.org/wiki/Special:FilePath...\">, #<Author id: 46, name: \"Miko\u0142aj\", surname: \"Kopernik\", born: \"1473-02-19\", died: \"1543-05-24\", image_url: \"http://commons.wikimedia.org/wiki/Special:FilePath...\">, #<Author id: 47, name: \"Maria Franciszka\", surname: \"Koz\u0142owska\", born: \"1862-05-27\", died: nil, image_url: \"http://commons.wikimedia.org/wiki/Special:FilePath...\">, #<Author id: 49, name: \"William\", surname: \"Szekspir\", born: \"1564-04-23\", died: \"1616-05-03\", image_url: \"http://commons.wikimedia.org/wiki/Special:FilePath...\">, #<Author id: 51, name: \"John Ronald Reuel\", surname: \"Tolkien\", born: \"1892-01-03\", died: \"1973-09-02\", image_url: \"http://commons.wikimedia.org/wiki/Special:FilePath...\">, #<Author id: 52, name: \"Aleksander Dumas\", surname: \"(ojciec)\", born: \"1802-07-24\", died: \"1870-12-05\", image_url: \"http://commons.wikimedia.org/wiki/Special:FilePath...\">, #<Author id: 53, name: \"Tadeusz\", surname: \"Do\u0142\u0119ga-Mostowicz\", born: \"1898-08-10\", died: \"1939-09-20\", image_url: \"http://commons.wikimedia.org/wiki/Special:FilePath...\">, #<Author id: 54, name: \"Vladimir\", surname: \"Nabokov\", born: \"1899-04-22\", died: \"1977-07-02\", image_url: \"http://commons.wikimedia.org/wiki/Special:FilePath...\">, #<Author id: 55, name: \"Adolf\", surname: \"Hitler\", born: \"1889-04-20\", died: \"1945-04-30\", image_url: \"http://commons.wikimedia.org/wiki/Special:FilePath...\">, #<Author id: 57, name: \"Benedykt\", surname: \"Chmielowski\", born: \"1700-03-20\", died: \"1763-04-07\", image_url: \"http://commons.wikimedia.org/wiki/Special:FilePath...\">, #<Author id: 58, name: \"Aldous\", surname: \"Huxley\", born: \"1894-07-26\", died: \"1963-11-22\", image_url: \"http://commons.wikimedia.org/wiki/Special:FilePath...\">, #<Author id: 59, name: \"Honor\u00e9 de\", surname: \"Balzac\", born: \"1799-05-20\", died: \"1850-08-18\", image_url: \"http://commons.wikimedia.org/wiki/Special:FilePath...\">, #<Author id: 60, name: \"Franz\", surname: \"Kafka\", born: \"1883-07-03\", died: \"1924-06-03\", image_url: \"http://commons.wikimedia.org/wiki/Special:FilePath...\">, #<Author id: 62, name: \"Howard Phillips\", surname: \"Lovecraft\", born: \"1890-08-20\", died: \"1937-03-15\", image_url: \"http://commons.wikimedia.org/wiki/Special:FilePath...\">, #<Author id: 64, name: \"Lew\", surname: \"To\u0142stoj\", born: \"1828-09-09\", died: \"1910-11-20\", image_url: \"http://commons.wikimedia.org/wiki/Special:FilePath...\">, #<Author id: 69, name: \"Ilja\", surname: \"Ilf\", born: \"1897-10-15\", died: \"1937-04-13\", image_url: \"http://commons.wikimedia.org/wiki/Special:FilePath...\">, #<Author id: 71, name: \"Gabriela\", surname: \"Zapolska\", born: \"1857-03-30\", died: \"1921-12-17\", image_url: \"http://commons.wikimedia.org/wiki/Special:FilePath...\">, #<Author id: 74, name: \"Clive Staples\", surname: \"Lewis\", born: \"1898-11-29\", died: \"1963-11-22\", image_url: \"http://commons.wikimedia.org/wiki/Special:FilePath...\">, #<Author id: 75, name: \"Adam\", surname: \"Mickiewicz\", born: \"1798-12-24\", died: \"1855-11-26\", image_url: \"http://commons.wikimedia.org/wiki/Special:FilePath...\">, #<Author id: 78, name: \"Iwan\", surname: \"Turgieniew\", born: \"1818-11-09\", died: \"1883-09-03\", image_url: \"http://commons.wikimedia.org/wiki/Special:FilePath...\">, #<Author id: 81, name: \"Lucy Maud\", surname: \"Montgomery\", born: \"1874-11-30\", died: \"1942-04-24\", image_url: \"http://commons.wikimedia.org/wiki/Special:FilePath...\">, #<Author id: 87, name: \"Aleksander\", surname: \"Majkowski\", born: \"1876-07-17\", died: \"1938-02-10\", image_url: \"http://commons.wikimedia.org/wiki/Special:FilePath...\">]"
       ]
      }
     ],
     "prompt_number": 9
    },
    {
     "cell_type": "heading",
     "level": 3,
     "metadata": {},
     "source": [
      "Zadanie 2"
     ]
    },
    {
     "cell_type": "markdown",
     "metadata": {},
     "source": [
      "Zmodyfikuj funkcj\u0119 wy\u015bwietlaj\u0105c\u0105 autor\u00f3w tak aby obejmowa\u0142a ich dat\u0119 urodzin i \u015bmierci w formacie `dzie\u0144.miesi\u0105c.rok`. Nast\u0119pnie wy\u015bwietl wszystkich autor\u00f3w,\n",
      "kt\u00f3rzy zmarli w XX wieku."
     ]
    },
    {
     "cell_type": "code",
     "collapsed": false,
     "input": [
      "authors = Author.where(died: (Date.parse(\"1901-1-1\")..Date.parse(\"2000-12-31\"))).all\n",
      "if authors\n",
      "  authors.each do |author|\n",
      "    puts \"#{author.name} #{author.surname} #{author.born.strftime(\"%d-%m-%Y\")} #{author.died.strftime(\"%d-%m-%Y\")} \" \n",
      "\n",
      "\n",
      "  end\n",
      "  else\n",
      "    puts \"Nie ma\"\n",
      "  end"
     ],
     "language": "python",
     "metadata": {},
     "outputs": [
      {
       "output_type": "stream",
       "stream": "stdout",
       "text": [
        "Henryk Sienkiewicz 05-05-1846 15-11-1916 \n"
       ]
      },
      {
       "output_type": "stream",
       "stream": "stdout",
       "text": [
        "Eliza Orzeszkowa 06-06-1841 18-05-1910 \n"
       ]
      },
      {
       "output_type": "stream",
       "stream": "stdout",
       "text": [
        "Jack London 12-01-1876 22-11-1916 \n"
       ]
      },
      {
       "output_type": "stream",
       "stream": "stdout",
       "text": [
        "Antoni Go\u0142ubiew 25-02-1907 27-06-1979 \n"
       ]
      },
      {
       "output_type": "stream",
       "stream": "stdout",
       "text": [
        "George Orwell 25-06-1903 21-01-1950 \n"
       ]
      },
      {
       "output_type": "stream",
       "stream": "stdout",
       "text": [
        "John Ronald Reuel Tolkien 03-01-1892 02-09-1973 \n"
       ]
      },
      {
       "output_type": "stream",
       "stream": "stdout",
       "text": [
        "Tadeusz Do\u0142\u0119ga-Mostowicz 10-08-1898 20-09-1939 \n"
       ]
      },
      {
       "output_type": "stream",
       "stream": "stdout",
       "text": [
        "Vladimir Nabokov 22-04-1899 02-07-1977 \n"
       ]
      },
      {
       "output_type": "stream",
       "stream": "stdout",
       "text": [
        "Adolf Hitler 20-04-1889 30-04-1945 \n"
       ]
      },
      {
       "output_type": "stream",
       "stream": "stdout",
       "text": [
        "Aldous Huxley 26-07-1894 22-11-1963 \n"
       ]
      },
      {
       "output_type": "stream",
       "stream": "stdout",
       "text": [
        "Franz Kafka 03-07-1883 03-06-1924 \n"
       ]
      },
      {
       "output_type": "stream",
       "stream": "stdout",
       "text": [
        "Howard Phillips Lovecraft 20-08-1890 15-03-1937 \n"
       ]
      },
      {
       "output_type": "stream",
       "stream": "stdout",
       "text": [
        "Karol Olgierd Borchardt 25-03-1905 20-05-1986 \n"
       ]
      },
      {
       "output_type": "stream",
       "stream": "stdout",
       "text": [
        "Lew To\u0142stoj 09-09-1828 20-11-1910 \n"
       ]
      },
      {
       "output_type": "stream",
       "stream": "stdout",
       "text": [
        "Janusz Zajdel 15-08-1938 19-07-1985 \n"
       ]
      },
      {
       "output_type": "stream",
       "stream": "stdout",
       "text": [
        "Isaac Asimov 04-10-1919 06-04-1992 \n"
       ]
      },
      {
       "output_type": "stream",
       "stream": "stdout",
       "text": [
        "Ilja Ilf 15-10-1897 13-04-1937 \n"
       ]
      },
      {
       "output_type": "stream",
       "stream": "stdout",
       "text": [
        "Jewgienij Pietrow (pisarz) 13-12-1903 02-07-1942 \n"
       ]
      },
      {
       "output_type": "stream",
       "stream": "stdout",
       "text": [
        "Gabriela Zapolska 30-03-1857 17-12-1921 \n"
       ]
      },
      {
       "output_type": "stream",
       "stream": "stdout",
       "text": [
        "Clive Staples Lewis 29-11-1898 22-11-1963 \n"
       ]
      },
      {
       "output_type": "stream",
       "stream": "stdout",
       "text": [
        "Lucy Maud Montgomery 30-11-1874 24-04-1942 \n"
       ]
      },
      {
       "output_type": "stream",
       "stream": "stdout",
       "text": [
        "Alfred Szklarski 21-01-1912 09-04-1992 \n"
       ]
      },
      {
       "output_type": "stream",
       "stream": "stdout",
       "text": [
        "Aleksander Majkowski 17-07-1876 10-02-1938 \n"
       ]
      },
      {
       "output_type": "stream",
       "stream": "stdout",
       "text": [
        "Ian Fleming 28-05-1908 12-08-1964 \n"
       ]
      },
      {
       "metadata": {},
       "output_type": "pyout",
       "prompt_number": 21,
       "text": [
        "[#<Author id: 18, name: \"Henryk\", surname: \"Sienkiewicz\", born: \"1846-05-05\", died: \"1916-11-15\", image_url: nil>, #<Author id: 19, name: \"Eliza\", surname: \"Orzeszkowa\", born: \"1841-06-06\", died: \"1910-05-18\", image_url: nil>, #<Author id: 42, name: \"Jack\", surname: \"London\", born: \"1876-01-12\", died: \"1916-11-22\", image_url: \"http://commons.wikimedia.org/wiki/Special:FilePath...\">, #<Author id: 45, name: \"Antoni\", surname: \"Go\u0142ubiew\", born: \"1907-02-25\", died: \"1979-06-27\", image_url: \"http://commons.wikimedia.org/wiki/Special:FilePath...\">, #<Author id: 48, name: \"George\", surname: \"Orwell\", born: \"1903-06-25\", died: \"1950-01-21\", image_url: \"http://commons.wikimedia.org/wiki/Special:FilePath...\">, #<Author id: 51, name: \"John Ronald Reuel\", surname: \"Tolkien\", born: \"1892-01-03\", died: \"1973-09-02\", image_url: \"http://commons.wikimedia.org/wiki/Special:FilePath...\">, #<Author id: 53, name: \"Tadeusz\", surname: \"Do\u0142\u0119ga-Mostowicz\", born: \"1898-08-10\", died: \"1939-09-20\", image_url: \"http://commons.wikimedia.org/wiki/Special:FilePath...\">, #<Author id: 54, name: \"Vladimir\", surname: \"Nabokov\", born: \"1899-04-22\", died: \"1977-07-02\", image_url: \"http://commons.wikimedia.org/wiki/Special:FilePath...\">, #<Author id: 55, name: \"Adolf\", surname: \"Hitler\", born: \"1889-04-20\", died: \"1945-04-30\", image_url: \"http://commons.wikimedia.org/wiki/Special:FilePath...\">, #<Author id: 58, name: \"Aldous\", surname: \"Huxley\", born: \"1894-07-26\", died: \"1963-11-22\", image_url: \"http://commons.wikimedia.org/wiki/Special:FilePath...\">, #<Author id: 60, name: \"Franz\", surname: \"Kafka\", born: \"1883-07-03\", died: \"1924-06-03\", image_url: \"http://commons.wikimedia.org/wiki/Special:FilePath...\">, #<Author id: 62, name: \"Howard Phillips\", surname: \"Lovecraft\", born: \"1890-08-20\", died: \"1937-03-15\", image_url: \"http://commons.wikimedia.org/wiki/Special:FilePath...\">, #<Author id: 63, name: \"Karol Olgierd\", surname: \"Borchardt\", born: \"1905-03-25\", died: \"1986-05-20\", image_url: \"http://commons.wikimedia.org/wiki/Special:FilePath...\">, #<Author id: 64, name: \"Lew\", surname: \"To\u0142stoj\", born: \"1828-09-09\", died: \"1910-11-20\", image_url: \"http://commons.wikimedia.org/wiki/Special:FilePath...\">, #<Author id: 66, name: \"Janusz\", surname: \"Zajdel\", born: \"1938-08-15\", died: \"1985-07-19\", image_url: \"http://commons.wikimedia.org/wiki/Special:FilePath...\">, #<Author id: 68, name: \"Isaac\", surname: \"Asimov\", born: \"1919-10-04\", died: \"1992-04-06\", image_url: \"http://commons.wikimedia.org/wiki/Special:FilePath...\">, #<Author id: 69, name: \"Ilja\", surname: \"Ilf\", born: \"1897-10-15\", died: \"1937-04-13\", image_url: \"http://commons.wikimedia.org/wiki/Special:FilePath...\">, #<Author id: 70, name: \"Jewgienij Pietrow\", surname: \"(pisarz)\", born: \"1903-12-13\", died: \"1942-07-02\", image_url: \"http://commons.wikimedia.org/wiki/Special:FilePath...\">, #<Author id: 71, name: \"Gabriela\", surname: \"Zapolska\", born: \"1857-03-30\", died: \"1921-12-17\", image_url: \"http://commons.wikimedia.org/wiki/Special:FilePath...\">, #<Author id: 74, name: \"Clive Staples\", surname: \"Lewis\", born: \"1898-11-29\", died: \"1963-11-22\", image_url: \"http://commons.wikimedia.org/wiki/Special:FilePath...\">, #<Author id: 81, name: \"Lucy Maud\", surname: \"Montgomery\", born: \"1874-11-30\", died: \"1942-04-24\", image_url: \"http://commons.wikimedia.org/wiki/Special:FilePath...\">, #<Author id: 83, name: \"Alfred\", surname: \"Szklarski\", born: \"1912-01-21\", died: \"1992-04-09\", image_url: \"http://commons.wikimedia.org/wiki/Special:FilePath...\">, #<Author id: 87, name: \"Aleksander\", surname: \"Majkowski\", born: \"1876-07-17\", died: \"1938-02-10\", image_url: \"http://commons.wikimedia.org/wiki/Special:FilePath...\">, #<Author id: 88, name: \"Ian\", surname: \"Fleming\", born: \"1908-05-28\", died: \"1964-08-12\", image_url: \"http://commons.wikimedia.org/wiki/Special:FilePath...\">]"
       ]
      }
     ],
     "prompt_number": 21
    },
    {
     "cell_type": "heading",
     "level": 3,
     "metadata": {},
     "source": [
      "Zadanie 3"
     ]
    },
    {
     "cell_type": "markdown",
     "metadata": {},
     "source": [
      "Wy\u015bwietl 5 najm\u0142odszych autor\u00f3w, kt\u00f3rzy posiadaj\u0105 przypisane zdj\u0119cie."
     ]
    },
    {
     "cell_type": "code",
     "collapsed": false,
     "input": [
      "authors = Author.where(\"image_url is not null\").limit(5).order(\"born desc\")\n",
      "  authors_str = \"\"\n",
      "  authors.each do |author|\n",
      "  #puts \"#{author.name} #{author.surname} #{author.born.strftime(\"%d-%m-%Y\")} #{author.died.strftime(\"%d-%m-%Y\")} \" \n",
      "  authors_str << \"<h1>#{author.name} #{author.surname}</h1><img src='#{author.image_url}'/>\"\n",
      "end\n",
      "IRuby.html authors_str"
     ],
     "language": "python",
     "metadata": {},
     "outputs": [
      {
       "html": [
        "<h1>Andrzej Pilipiuk</h1><img src='http://commons.wikimedia.org/wiki/Special:FilePath/Andrzej_Pilipiuk-Polcon2006.jpg?width=300'/><h1>J. K. Rowling</h1><img src='http://commons.wikimedia.org/wiki/Special:FilePath/J._K._Rowling_2010.jpg?width=300'/><h1>Rafa\u0142 A. Ziemkiewicz</h1><img src='http://commons.wikimedia.org/wiki/Special:FilePath/Rafa\u0142_Ziemkiewicz.jpg?width=300'/><h1>Boris Akunin</h1><img src='http://commons.wikimedia.org/wiki/Special:FilePath/Boris_Akunin_2012.jpg?width=300'/><h1>Orson Scott Card</h1><img src='http://commons.wikimedia.org/wiki/Special:FilePath/Orson_Scott_Card_at_BYU_Symposium_20080216_closeup.jpg?width=300'/>"
       ],
       "metadata": {},
       "output_type": "pyout",
       "prompt_number": 41,
       "text": [
        "\"<h1>Andrzej Pilipiuk</h1><img src='http://commons.wikimedia.org/wiki/Special:FilePath/Andrzej_Pilipiuk-Polcon2006.jpg?width=300'/><h1>J. K. Rowling</h1><img src='http://commons.wikimedia.org/wiki/Special:FilePath/J._K._Rowling_2010.jpg?width=300'/><h1>Rafa\u0142 A. Ziemkiewicz</h1><img src='http://commons.wikimedia.org/wiki/Special:FilePath/Rafa\u0142_Ziemkiewicz.jpg?width=300'/><h1>Boris Akunin</h1><img src='http://commons.wikimedia.org/wiki/Special:FilePath/Boris_Akunin_2012.jpg?width=300'/><h1>Orson Scott Card</h1><img src='http://commons.wikimedia.org/wiki/Special:FilePath/Orson_Scott_Card_at_BYU_Symposium_20080216_closeup.jpg?width=300'/>\""
       ]
      }
     ],
     "prompt_number": 41
    },
    {
     "cell_type": "heading",
     "level": 3,
     "metadata": {},
     "source": [
      "Zadanie 4"
     ]
    },
    {
     "cell_type": "markdown",
     "metadata": {},
     "source": [
      "Zdefiniuj funkcj\u0119 `display_book`, kt\u00f3ra b\u0119dzie zwraca\u0142a fragment kodu HTML obejmuj\u0105cy tytu\u0142 ksi\u0105\u017cki, rok jej wydania oraz\n",
      "przypisany obrazek.\n",
      "Wy\u015bwietl najwcze\u015bniej wydan\u0105 ksi\u0105\u017ck\u0119."
     ]
    },
    {
     "cell_type": "code",
     "collapsed": false,
     "input": [
      "def display_book(book)\n",
      "  \"<h1>#{book.title} #{book.published}</h1><img src='#{book.image_url}'/>\"\n",
      "end\n",
      "book = Book.where(\"image_url is not null\").where(\"published is not null\").order(\"published\").first\n",
      "\n",
      "IRuby.html display_book(book)\n"
     ],
     "language": "python",
     "metadata": {},
     "outputs": [
      {
       "html": [
        "<h1>Ojcowie i dzieci 0</h1><img src='http://commons.wikimedia.org/wiki/Special:FilePath/Otsy1880.jpg?width=300'/>"
       ],
       "metadata": {},
       "output_type": "pyout",
       "prompt_number": 86,
       "text": [
        "\"<h1>Ojcowie i dzieci 0</h1><img src='http://commons.wikimedia.org/wiki/Special:FilePath/Otsy1880.jpg?width=300'/>\""
       ]
      }
     ],
     "prompt_number": 86
    },
    {
     "cell_type": "heading",
     "level": 3,
     "metadata": {},
     "source": [
      "Zadanie 5"
     ]
    },
    {
     "cell_type": "code",
     "collapsed": false,
     "input": [
      "Book.all\n"
     ],
     "language": "python",
     "metadata": {},
     "outputs": [
      {
       "metadata": {},
       "output_type": "pyout",
       "prompt_number": 60,
       "text": [
        "#<ActiveRecord::Relation [#<Book id: 1, title: \"V\u00e9gj\u00e1t\u00e9k (reg\u00e9ny)\", language: nil, author_id: 40, published: nil, image_url: nil>, #<Book id: 2, title: \"Pani Jeziora (powie\u015b\u0107)\", language: nil, author_id: 41, published: 1999, image_url: nil>, #<Book id: 3, title: \"Bellew Zawierucha\", language: nil, author_id: 42, published: 1912, image_url: nil>, #<Book id: 4, title: \"Fa\u0142szywy trop (powie\u015b\u0107)\", language: nil, author_id: 43, published: 1995, image_url: nil>, #<Book id: 5, title: \"Bajki robot\u00f3w\", language: nil, author_id: 44, published: 1964, image_url: nil>, #<Book id: 6, title: \"Boles\u0142aw Chrobry (powie\u015b\u0107)\", language: nil, author_id: 45, published: 1947, image_url: nil>, #<Book id: 7, title: \"De revolutionibus orbium coelestium\", language: nil, author_id: 46, published: 1543, image_url: nil>, #<Book id: 8, title: \"Dzie\u0142o Wielkiego Mi\u0142osierdzia\", language: nil, author_id: 47, published: 1922, image_url: nil>, #<Book id: 9, title: \"Folwark zwierz\u0119cy\", language: nil, author_id: 48, published: 1945, image_url: \"http://commons.wikimedia.org/wiki/Special:FilePath...\">, #<Book id: 10, title: \"Hamlet\", language: nil, author_id: 49, published: nil, image_url: \"http://commons.wikimedia.org/wiki/Special:FilePath...\">, ...]>"
       ]
      }
     ],
     "prompt_number": 60
    },
    {
     "cell_type": "markdown",
     "metadata": {},
     "source": [
      "Wy\u015bwietl wszystkie ksi\u0105\u017cki, kt\u00f3re nie maj\u0105 przypisanego roku wydania."
     ]
    },
    {
     "cell_type": "code",
     "collapsed": false,
     "input": [
      "def display_book1(book)\n",
      "  \"<h1>#{book.title}</h1><img src='#{book.author.image_url}'/>\"\n",
      "end\n",
      "books = Book.where(\"published is null\").all\n",
      "puts books.size\n",
      "str = \"\"\n",
      "books.each do |book|\n",
      "  str << display_book1(book)\n",
      "end\n",
      "\n",
      "IRuby.html str"
     ],
     "language": "python",
     "metadata": {},
     "outputs": [
      {
       "output_type": "stream",
       "stream": "stdout",
       "text": [
        "2\n"
       ]
      },
      {
       "html": [
        "<h1>V\u00e9gj\u00e1t\u00e9k (reg\u00e9ny)</h1><img src='http://commons.wikimedia.org/wiki/Special:FilePath/Orson_Scott_Card_at_BYU_Symposium_20080216_closeup.jpg?width=300'/><h1>Hamlet</h1><img src='http://commons.wikimedia.org/wiki/Special:FilePath/Shakespeare.jpg?width=300'/>"
       ],
       "metadata": {},
       "output_type": "pyout",
       "prompt_number": 98,
       "text": [
        "\"<h1>V\u00e9gj\u00e1t\u00e9k (reg\u00e9ny)</h1><img src='http://commons.wikimedia.org/wiki/Special:FilePath/Orson_Scott_Card_at_BYU_Symposium_20080216_closeup.jpg?width=300'/><h1>Hamlet</h1><img src='http://commons.wikimedia.org/wiki/Special:FilePath/Shakespeare.jpg?width=300'/>\""
       ]
      }
     ],
     "prompt_number": 98
    },
    {
     "cell_type": "code",
     "collapsed": false,
     "input": [
      "Book.where('published is null').each do |book|\n",
      "  if book.published == nil\n",
      "    puts \"#{book.title} brak roku wydania\"\n",
      "  else\n",
      "    puts \"#{book.title} #{book.published}\"\n",
      "  end\n",
      "end"
     ],
     "language": "python",
     "metadata": {},
     "outputs": [
      {
       "output_type": "stream",
       "stream": "stdout",
       "text": [
        "V\u00e9gj\u00e1t\u00e9k (reg\u00e9ny) brak roku wydania\n"
       ]
      },
      {
       "output_type": "stream",
       "stream": "stdout",
       "text": [
        "Hamlet brak roku wydania\n"
       ]
      },
      {
       "metadata": {},
       "output_type": "pyout",
       "prompt_number": 103,
       "text": [
        "[#<Book id: 1, title: \"V\u00e9gj\u00e1t\u00e9k (reg\u00e9ny)\", language: nil, author_id: 40, published: nil, image_url: nil>, #<Book id: 10, title: \"Hamlet\", language: nil, author_id: 49, published: nil, image_url: \"http://commons.wikimedia.org/wiki/Special:FilePath...\">]"
       ]
      }
     ],
     "prompt_number": 103
    },
    {
     "cell_type": "heading",
     "level": 3,
     "metadata": {},
     "source": [
      "Zadanie 6"
     ]
    },
    {
     "cell_type": "markdown",
     "metadata": {},
     "source": [
      "Zmodyfikuj funkcj\u0119 `display_author` tak, aby wy\u015bwietla\u0142a r\u00f3wnie\u017c wszystkie ksi\u0105\u017cki napisane przez autora. U\u017cyj znacznika `<ul>`.\n",
      "Korzystaj\u0105c z tej funkcji wy\u015bwietl opis Stanis\u0142awa Lema."
     ]
    },
    {
     "cell_type": "code",
     "collapsed": false,
     "input": [
      "def display_author(author)\n",
      "  author = Author.where(surname: author).first\n",
      "  str = \"<h1>#{author.name} #{author.surname}</h1><img src='#{author.image_url}'/>\"\n",
      "  author.books.each do |book|\n",
      "    str << \"<ul><li><i>\\\"#{book.title}\\\"</i></li></ul>\"\n",
      "  end\n",
      "  str\n",
      "end\n",
      "\n",
      "document = display_author(\"Lem\")\n",
      "\n",
      "IRuby.html document"
     ],
     "language": "python",
     "metadata": {},
     "outputs": [
      {
       "html": [
        "<h1>Stanis\u0142aw Lem</h1><img src='http://commons.wikimedia.org/wiki/Special:FilePath/Stanislaw_Lem_2.jpg?width=300'/><ul><li><i>\"Bajki robot\u00f3w\"</i></li></ul><ul><li><i>\"Solaris (powie\u015b\u0107)\"</i></li></ul><ul><li><i>\"Bezsenno\u015b\u0107 (zbi\u00f3r opowiada\u0144)\"</i></li></ul><ul><li><i>\"G\u0142os Pana\"</i></li></ul><ul><li><i>\"Inwazja z Aldebarana (zbi\u00f3r opowiada\u0144)\"</i></li></ul><ul><li><i>\"Katar (powie\u015b\u0107)\"</i></li></ul><ul><li><i>\"Ksi\u0119ga robot\u00f3w\"</i></li></ul><ul><li><i>\"Maska (zbi\u00f3r dzie\u0142)\"</i></li></ul><ul><li><i>\"Niezwyci\u0119\u017cony i inne opowiadania\"</i></li></ul><ul><li><i>\"Noc ksi\u0119\u017cycowa\"</i></li></ul><ul><li><i>\"Pami\u0119tnik znaleziony w wannie\"</i></li></ul><ul><li><i>\"Polowanie (zbi\u00f3r opowiada\u0144)\"</i></li></ul><ul><li><i>\"Powt\u00f3rka (zbi\u00f3r dzie\u0142)\"</i></li></ul><ul><li><i>\"Po\u017cytek ze smoka\"</i></li></ul><ul><li><i>\"Rasa drapie\u017cc\u00f3w. Teksty ostatnie\"</i></li></ul><ul><li><i>\"Sezam i inne opowiadania\"</i></li></ul><ul><li><i>\"Summa technologiae\"</i></li></ul><ul><li><i>\"Wizja lokalna (powie\u015b\u0107)\"</i></li></ul>"
       ],
       "metadata": {},
       "output_type": "pyout",
       "prompt_number": 8,
       "text": [
        "\"<h1>Stanis\u0142aw Lem</h1><img src='http://commons.wikimedia.org/wiki/Special:FilePath/Stanislaw_Lem_2.jpg?width=300'/><ul><li><i>\\\"Bajki robot\u00f3w\\\"</i></li></ul><ul><li><i>\\\"Solaris (powie\u015b\u0107)\\\"</i></li></ul><ul><li><i>\\\"Bezsenno\u015b\u0107 (zbi\u00f3r opowiada\u0144)\\\"</i></li></ul><ul><li><i>\\\"G\u0142os Pana\\\"</i></li></ul><ul><li><i>\\\"Inwazja z Aldebarana (zbi\u00f3r opowiada\u0144)\\\"</i></li></ul><ul><li><i>\\\"Katar (powie\u015b\u0107)\\\"</i></li></ul><ul><li><i>\\\"Ksi\u0119ga robot\u00f3w\\\"</i></li></ul><ul><li><i>\\\"Maska (zbi\u00f3r dzie\u0142)\\\"</i></li></ul><ul><li><i>\\\"Niezwyci\u0119\u017cony i inne opowiadania\\\"</i></li></ul><ul><li><i>\\\"Noc ksi\u0119\u017cycowa\\\"</i></li></ul><ul><li><i>\\\"Pami\u0119tnik znaleziony w wannie\\\"</i></li></ul><ul><li><i>\\\"Polowanie (zbi\u00f3r opowiada\u0144)\\\"</i></li></ul><ul><li><i>\\\"Powt\u00f3rka (zbi\u00f3r dzie\u0142)\\\"</i></li></ul><ul><li><i>\\\"Po\u017cytek ze smoka\\\"</i></li></ul><ul><li><i>\\\"Rasa drapie\u017cc\u00f3w. Teksty ostatnie\\\"</i></li></ul><ul><li><i>\\\"Sezam i inne opowiadania\\\"</i></li></ul><ul><li><i>\\\"Summa technologiae\\\"</i></li></ul><ul><li><i>\\\"Wizja lokalna (powie\u015b\u0107)\\\"</i></li></ul>\""
       ]
      }
     ],
     "prompt_number": 8
    },
    {
     "cell_type": "heading",
     "level": 3,
     "metadata": {},
     "source": [
      "Zadanie 7"
     ]
    },
    {
     "cell_type": "markdown",
     "metadata": {},
     "source": [
      "W\u015br\u00f3d ksi\u0105\u017cek napisanych przez Lema wy\u015bwietl wszystkie, kt\u00f3re zawieraja w tytule s\u0142owo \"zbi\u00f3r\"."
     ]
    },
    {
     "cell_type": "code",
     "collapsed": false,
     "input": [
      "def display_author(author)\n",
      "  author = Author.where(surname: author).first\n",
      "  str = \"<h1>#{author.name} #{author.surname}</h1><img src='#{author.image_url}'/>\"\n",
      "  books = author.books.where(\"title like '%zbi\u00f3r%'\")\n",
      "  books.each do |book|\n",
      "   str << \"<ul><li><i>\\\"#{book.title}\\\"</i></li></ul>\"\n",
      "  end\n",
      "  str\n",
      "end\n",
      "\n",
      "document = display_author(\"Lem\")\n",
      "\n",
      "IRuby.html document"
     ],
     "language": "python",
     "metadata": {},
     "outputs": [
      {
       "html": [
        "<h1>Stanis\u0142aw Lem</h1><img src='http://commons.wikimedia.org/wiki/Special:FilePath/Stanislaw_Lem_2.jpg?width=300'/><ul><li><i>\"Bezsenno\u015b\u0107 (zbi\u00f3r opowiada\u0144)\"</i></li></ul><ul><li><i>\"Inwazja z Aldebarana (zbi\u00f3r opowiada\u0144)\"</i></li></ul><ul><li><i>\"Maska (zbi\u00f3r dzie\u0142)\"</i></li></ul><ul><li><i>\"Polowanie (zbi\u00f3r opowiada\u0144)\"</i></li></ul><ul><li><i>\"Powt\u00f3rka (zbi\u00f3r dzie\u0142)\"</i></li></ul>"
       ],
       "metadata": {},
       "output_type": "pyout",
       "prompt_number": 7,
       "text": [
        "\"<h1>Stanis\u0142aw Lem</h1><img src='http://commons.wikimedia.org/wiki/Special:FilePath/Stanislaw_Lem_2.jpg?width=300'/><ul><li><i>\\\"Bezsenno\u015b\u0107 (zbi\u00f3r opowiada\u0144)\\\"</i></li></ul><ul><li><i>\\\"Inwazja z Aldebarana (zbi\u00f3r opowiada\u0144)\\\"</i></li></ul><ul><li><i>\\\"Maska (zbi\u00f3r dzie\u0142)\\\"</i></li></ul><ul><li><i>\\\"Polowanie (zbi\u00f3r opowiada\u0144)\\\"</i></li></ul><ul><li><i>\\\"Powt\u00f3rka (zbi\u00f3r dzie\u0142)\\\"</i></li></ul>\""
       ]
      }
     ],
     "prompt_number": 7
    },
    {
     "cell_type": "heading",
     "level": 3,
     "metadata": {},
     "source": [
      "Zadanie 8"
     ]
    },
    {
     "cell_type": "markdown",
     "metadata": {},
     "source": [
      "W\u015br\u00f3d ksi\u0105\u017cek napisanych przez Lema wy\u015bwietl te, kt\u00f3re zosta\u0142y wydane w roku jego \u015bmierci."
     ]
    },
    {
     "cell_type": "code",
     "collapsed": false,
     "input": [
      "def display_author(author)\n",
      "  author = Author.where(surname: author).first\n",
      "  str = \"<h1>#{author.name} #{author.surname}</h1><img src='#{author.image_url}'/>\"\n",
      "  books = author.books.where(\"published == 2006\")\n",
      "  books.each do |book|\n",
      "   str << \"<ul><li><i>\\\"#{book.title}\\\"</i></li></ul>\"\n",
      "  end\n",
      "  str\n",
      "end\n",
      "\n",
      "document = display_author(\"Lem\")\n",
      "\n",
      "IRuby.html document"
     ],
     "language": "python",
     "metadata": {},
     "outputs": [
      {
       "html": [
        "<h1>Stanis\u0142aw Lem</h1><img src='http://commons.wikimedia.org/wiki/Special:FilePath/Stanislaw_Lem_2.jpg?width=300'/><ul><li><i>\"Rasa drapie\u017cc\u00f3w. Teksty ostatnie\"</i></li></ul>"
       ],
       "metadata": {},
       "output_type": "pyout",
       "prompt_number": 6,
       "text": [
        "\"<h1>Stanis\u0142aw Lem</h1><img src='http://commons.wikimedia.org/wiki/Special:FilePath/Stanislaw_Lem_2.jpg?width=300'/><ul><li><i>\\\"Rasa drapie\u017cc\u00f3w. Teksty ostatnie\\\"</i></li></ul>\""
       ]
      }
     ],
     "prompt_number": 6
    },
    {
     "cell_type": "code",
     "collapsed": false,
     "input": [
      "def display_author(author)\n",
      "  author = Author.where(surname: author).first\n",
      "  str = \"<h1>#{author.name} #{author.surname}</h1><img src='#{author.image_url}'/>\"\n",
      "  books = Book.where(author: author)\n",
      "  books.each do |book|\n",
      "    if book.published == author.died.strftime(\"%Y\")\n",
      "    str << \"<ul><li><i>\\\"#{book.title}\\\"</i></li></ul>\"\n",
      "  end\n",
      "  end\n",
      "    str\n",
      "end\n",
      "document = display_author(\"Lem\")\n",
      "\n",
      "IRuby.html document"
     ],
     "language": "python",
     "metadata": {},
     "outputs": [
      {
       "html": [
        "<h1>Stanis\u0142aw Lem</h1><img src='http://commons.wikimedia.org/wiki/Special:FilePath/Stanislaw_Lem_2.jpg?width=300'/>"
       ],
       "metadata": {},
       "output_type": "pyout",
       "prompt_number": 5,
       "text": [
        "\"<h1>Stanis\u0142aw Lem</h1><img src='http://commons.wikimedia.org/wiki/Special:FilePath/Stanislaw_Lem_2.jpg?width=300'/>\""
       ]
      }
     ],
     "prompt_number": 5
    },
    {
     "cell_type": "heading",
     "level": 3,
     "metadata": {},
     "source": [
      "Zadanie 9"
     ]
    },
    {
     "cell_type": "markdown",
     "metadata": {},
     "source": [
      "Wy\u015bwietl wszystkie ksi\u0105\u017cki znajduj\u0105ce si\u0119 w bazie. Opis powinien zawiera\u0107 tytu\u0142, imi\u0119 i nazwisko autora, rok wydania oraz \n",
      "obraz przedstawiaj\u0105cy ksi\u0105\u017ck\u0119 (o ile istnieje)."
     ]
    },
    {
     "cell_type": "code",
     "collapsed": false,
     "input": [
      "def display_book2(book)\n",
      "  \"<h1><i>\\\"#{book.title}\\\"</i> #{book.author.surname}</h1> - #{book.published}<img src='#{book.author.image_url}'/>\"\n",
      "end\n",
      "books = Book.where(\"image_url is not null\").where(\"published is not null\").all\n",
      "puts books.size\n",
      "str = \"\"\n",
      "books.each do |book|\n",
      "  str << display_book2(book)\n",
      "end\n",
      "\n",
      "IRuby.html str"
     ],
     "language": "python",
     "metadata": {},
     "outputs": [
      {
       "output_type": "stream",
       "stream": "stdout",
       "text": [
        "26\n"
       ]
      },
      {
       "html": [
        "<h1><i>\"Folwark zwierz\u0119cy\"</i> Orwell</h1> - 1945<img src='http://commons.wikimedia.org/wiki/Special:FilePath/GeoreOrwell.jpg?width=300'/><h1><i>\"Harry Potter\"</i> Rowling</h1> - 1997<img src='http://commons.wikimedia.org/wiki/Special:FilePath/J._K._Rowling_2010.jpg?width=300'/><h1><i>\"Hrabia Monte Christo\"</i> (ojciec)</h1> - 1844<img src='http://commons.wikimedia.org/wiki/Special:FilePath/Dumas_by_Nadar,_1855.jpg?width=300'/><h1><i>\"Krzy\u017cacy (powie\u015b\u0107)\"</i> Sienkiewicz</h1> - 1900<img src=''/><h1><i>\"Mein Kampf\"</i> Hitler</h1> - 1925<img src='http://commons.wikimedia.org/wiki/Special:FilePath/Hitler_portrait_crop.jpg?width=300'/><h1><i>\"Nad Niemnem\"</i> Orzeszkowa</h1> - 1888<img src=''/><h1><i>\"Nowe Ateny\"</i> Chmielowski</h1> - 1745<img src='http://commons.wikimedia.org/wiki/Special:FilePath/POL_COA_Na\u0142\u0119cz.svg?width=300'/><h1><i>\"Ogniem i mieczem\"</i> Sienkiewicz</h1> - 1884<img src=''/><h1><i>\"Ojciec Goriot\"</i> Balzac</h1> - 1835<img src='http://commons.wikimedia.org/wiki/Special:FilePath/HBalzac.jpg?width=300'/><h1><i>\"Proces (powie\u015b\u0107)\"</i> Kafka</h1> - 1925<img src='http://commons.wikimedia.org/wiki/Special:FilePath/Kafka1906.jpg?width=300'/><h1><i>\"Psa\u0142terz Dawid\u00f3w\"</i> Kochanowski</h1> - 1579<img src='http://commons.wikimedia.org/wiki/Special:FilePath/Jan_Kochanowski.png?width=300'/><h1><i>\"Quo vadis\"</i> Sienkiewicz</h1> - 1896<img src=''/><h1><i>\"Romeo i Julia\"</i> Szekspir</h1> - 1597<img src='http://commons.wikimedia.org/wiki/Special:FilePath/Shakespeare.jpg?width=300'/><h1><i>\"Silmarillion\"</i> Tolkien</h1> - 1977<img src='http://commons.wikimedia.org/wiki/Special:FilePath/Tolkien_1916.jpg?width=300'/><h1><i>\"Solaris (powie\u015b\u0107)\"</i> Lem</h1> - 1961<img src='http://commons.wikimedia.org/wiki/Special:FilePath/Stanislaw_Lem_2.jpg?width=300'/><h1><i>\"W\u0142adca Pier\u015bcieni\"</i> Tolkien</h1> - 1954<img src='http://commons.wikimedia.org/wiki/Special:FilePath/Tolkien_1916.jpg?width=300'/><h1><i>\"Anna Karenina\"</i> To\u0142stoj</h1> - 1877<img src='http://commons.wikimedia.org/wiki/Special:FilePath/Ilya_Efimovich_Repin_(1844-1930)_-_Portrait_of_Leo_Tolstoy_(1887).jpg?width=300'/><h1><i>\"Dives in misericordia\"</i> II</h1> - 1980<img src='http://commons.wikimedia.org/wiki/Special:FilePath/John_Paul_II_Medal_of_Freedom_2004.jpg?width=300'/><h1><i>\"Dwana\u015bcie krzese\u0142\"</i> Ilf</h1> - 1928<img src='http://commons.wikimedia.org/wiki/Special:FilePath/Ilya_Ilf.jpg?width=300'/><h1><i>\"Ksi\u0119gi narodu polskiego i pielgrzymstwa polskiego\"</i> Mickiewicz</h1> - 1832<img src='http://commons.wikimedia.org/wiki/Special:FilePath/Adam_Mickiewicz_by_Jan_Mieczkowski.jpg?width=300'/><h1><i>\"Ojcowie i dzieci\"</i> Turgieniew</h1> - 0<img src='http://commons.wikimedia.org/wiki/Special:FilePath/Turgenev_by_Repin.jpg?width=300'/><h1><i>\"Sen nocy letniej\"</i> Szekspir</h1> - 1600<img src='http://commons.wikimedia.org/wiki/Special:FilePath/Shakespeare.jpg?width=300'/><h1><i>\"Slavorum apostoli\"</i> II</h1> - 1985<img src='http://commons.wikimedia.org/wiki/Special:FilePath/John_Paul_II_Medal_of_Freedom_2004.jpg?width=300'/><h1><i>\"Ut unum sint\"</i> II</h1> - 1995<img src='http://commons.wikimedia.org/wiki/Special:FilePath/John_Paul_II_Medal_of_Freedom_2004.jpg?width=300'/><h1><i>\"Veritatis splendor\"</i> II</h1> - 1993<img src='http://commons.wikimedia.org/wiki/Special:FilePath/John_Paul_II_Medal_of_Freedom_2004.jpg?width=300'/><h1><i>\"Wojna i pok\u00f3j\"</i> To\u0142stoj</h1> - 1865<img src='http://commons.wikimedia.org/wiki/Special:FilePath/Ilya_Efimovich_Repin_(1844-1930)_-_Portrait_of_Leo_Tolstoy_(1887).jpg?width=300'/>"
       ],
       "metadata": {},
       "output_type": "pyout",
       "prompt_number": 4,
       "text": [
        "\"<h1><i>\\\"Folwark zwierz\u0119cy\\\"</i> Orwell</h1> - 1945<img src='http://commons.wikimedia.org/wiki/Special:FilePath/GeoreOrwell.jpg?width=300'/><h1><i>\\\"Harry Potter\\\"</i> Rowling</h1> - 1997<img src='http://commons.wikimedia.org/wiki/Special:FilePath/J._K._Rowling_2010.jpg?width=300'/><h1><i>\\\"Hrabia Monte Christo\\\"</i> (ojciec)</h1> - 1844<img src='http://commons.wikimedia.org/wiki/Special:FilePath/Dumas_by_Nadar,_1855.jpg?width=300'/><h1><i>\\\"Krzy\u017cacy (powie\u015b\u0107)\\\"</i> Sienkiewicz</h1> - 1900<img src=''/><h1><i>\\\"Mein Kampf\\\"</i> Hitler</h1> - 1925<img src='http://commons.wikimedia.org/wiki/Special:FilePath/Hitler_portrait_crop.jpg?width=300'/><h1><i>\\\"Nad Niemnem\\\"</i> Orzeszkowa</h1> - 1888<img src=''/><h1><i>\\\"Nowe Ateny\\\"</i> Chmielowski</h1> - 1745<img src='http://commons.wikimedia.org/wiki/Special:FilePath/POL_COA_Na\u0142\u0119cz.svg?width=300'/><h1><i>\\\"Ogniem i mieczem\\\"</i> Sienkiewicz</h1> - 1884<img src=''/><h1><i>\\\"Ojciec Goriot\\\"</i> Balzac</h1> - 1835<img src='http://commons.wikimedia.org/wiki/Special:FilePath/HBalzac.jpg?width=300'/><h1><i>\\\"Proces (powie\u015b\u0107)\\\"</i> Kafka</h1> - 1925<img src='http://commons.wikimedia.org/wiki/Special:FilePath/Kafka1906.jpg?width=300'/><h1><i>\\\"Psa\u0142terz Dawid\u00f3w\\\"</i> Kochanowski</h1> - 1579<img src='http://commons.wikimedia.org/wiki/Special:FilePath/Jan_Kochanowski.png?width=300'/><h1><i>\\\"Quo vadis\\\"</i> Sienkiewicz</h1> - 1896<img src=''/><h1><i>\\\"Romeo i Julia\\\"</i> Szekspir</h1> - 1597<img src='http://commons.wikimedia.org/wiki/Special:FilePath/Shakespeare.jpg?width=300'/><h1><i>\\\"Silmarillion\\\"</i> Tolkien</h1> - 1977<img src='http://commons.wikimedia.org/wiki/Special:FilePath/Tolkien_1916.jpg?width=300'/><h1><i>\\\"Solaris (powie\u015b\u0107)\\\"</i> Lem</h1> - 1961<img src='http://commons.wikimedia.org/wiki/Special:FilePath/Stanislaw_Lem_2.jpg?width=300'/><h1><i>\\\"W\u0142adca Pier\u015bcieni\\\"</i> Tolkien</h1> - 1954<img src='http://commons.wikimedia.org/wiki/Special:FilePath/Tolkien_1916.jpg?width=300'/><h1><i>\\\"Anna Karenina\\\"</i> To\u0142stoj</h1> - 1877<img src='http://commons.wikimedia.org/wiki/Special:FilePath/Ilya_Efimovich_Repin_(1844-1930)_-_Portrait_of_Leo_Tolstoy_(1887).jpg?width=300'/><h1><i>\\\"Dives in misericordia\\\"</i> II</h1> - 1980<img src='http://commons.wikimedia.org/wiki/Special:FilePath/John_Paul_II_Medal_of_Freedom_2004.jpg?width=300'/><h1><i>\\\"Dwana\u015bcie krzese\u0142\\\"</i> Ilf</h1> - 1928<img src='http://commons.wikimedia.org/wiki/Special:FilePath/Ilya_Ilf.jpg?width=300'/><h1><i>\\\"Ksi\u0119gi narodu polskiego i pielgrzymstwa polskiego\\\"</i> Mickiewicz</h1> - 1832<img src='http://commons.wikimedia.org/wiki/Special:FilePath/Adam_Mickiewicz_by_Jan_Mieczkowski.jpg?width=300'/><h1><i>\\\"Ojcowie i dzieci\\\"</i> Turgieniew</h1> - 0<img src='http://commons.wikimedia.org/wiki/Special:FilePath/Turgenev_by_Repin.jpg?width=300'/><h1><i>\\\"Sen nocy letniej\\\"</i> Szekspir</h1> - 1600<img src='http://commons.wikimedia.org/wiki/Special:FilePath/Shakespeare.jpg?width=300'/><h1><i>\\\"Slavorum apostoli\\\"</i> II</h1> - 1985<img src='http://commons.wikimedia.org/wiki/Special:FilePath/John_Paul_II_Medal_of_Freedom_2004.jpg?width=300'/><h1><i>\\\"Ut unum sint\\\"</i> II</h1> - 1995<img src='http://commons.wikimedia.org/wiki/Special:FilePath/John_Paul_II_Medal_of_Freedom_2004.jpg?width=300'/><h1><i>\\\"Veritatis splendor\\\"</i> II</h1> - 1993<img src='http://commons.wikimedia.org/wiki/Special:FilePath/John_Paul_II_Medal_of_Freedom_2004.jpg?width=300'/><h1><i>\\\"Wojna i pok\u00f3j\\\"</i> To\u0142stoj</h1> - 1865<img src='http://commons.wikimedia.org/wiki/Special:FilePath/Ilya_Efimovich_Repin_(1844-1930)_-_Portrait_of_Leo_Tolstoy_(1887).jpg?width=300'/>\""
       ]
      }
     ],
     "prompt_number": 4
    },
    {
     "cell_type": "heading",
     "level": 3,
     "metadata": {},
     "source": [
      "Zadanie 10"
     ]
    },
    {
     "cell_type": "markdown",
     "metadata": {},
     "source": [
      "Wy\u015bwietl wszystkich autor\u00f3w znajduj\u0105cych si\u0119 w bazie wraz z opisem zawieraj\u0105cym ich zdj\u0119cie, dat\u0119 urodzin i \u015bmierci oraz spis \n",
      "opublikowanych ksi\u0105\u017cek. Pami\u0119taj o odpowiednim sformatowaniu dat oraz o tym, \u017ce nie wszyscy autorzy maj\u0105 przypisane wszystkie\n",
      "informacje."
     ]
    },
    {
     "cell_type": "code",
     "collapsed": false,
     "input": [
      "def display_authors\n",
      "  author = Author.all\n",
      "  str = \"\"\n",
      "  author.each do |author|\n",
      "    str << \"<h1>#{author.name} #{author.surname}</h1> #{author.born} ---#{author.died}<img src='#{author.image_url}'/>\"\n",
      "\n",
      "  author.books.each do |book|\n",
      "    str << \"<ul><li><i>\\\"#{book.title}\\\"</i></li></ul>\"\n",
      "  end\n",
      "end\n",
      "  str\n",
      "end\n",
      "\n",
      "document = display_authors\n",
      "\n",
      "IRuby.html document"
     ],
     "language": "python",
     "metadata": {},
     "outputs": [
      {
       "html": [
        "<h1>Juliusz S\u0142owacki</h1> 1809-09-04 ---1849-04-03<img src=''/><h1>Henryk Sienkiewicz</h1> 1846-05-05 ---1916-11-15<img src=''/><ul><li><i>\"Krzy\u017cacy (powie\u015b\u0107)\"</i></li></ul><ul><li><i>\"Ogniem i mieczem\"</i></li></ul><ul><li><i>\"Quo vadis\"</i></li></ul><h1>Eliza Orzeszkowa</h1> 1841-06-06 ---1910-05-18<img src=''/><ul><li><i>\"Nad Niemnem\"</i></li></ul><h1>Adam Mickiweicz</h1> 1798-12-24 ---1855-11-26<img src=''/><h1>Orson Scott Card</h1> 1951-08-24 ---<img src='http://commons.wikimedia.org/wiki/Special:FilePath/Orson_Scott_Card_at_BYU_Symposium_20080216_closeup.jpg?width=300'/><ul><li><i>\"V\u00e9gj\u00e1t\u00e9k (reg\u00e9ny)\"</i></li></ul><h1>Andrzej Sapkowski</h1> 1948-06-21 ---<img src='http://commons.wikimedia.org/wiki/Special:FilePath/Sapkowski.jpg?width=300'/><ul><li><i>\"Pani Jeziora (powie\u015b\u0107)\"</i></li></ul><h1>Jack London</h1> 1876-01-12 ---1916-11-22<img src='http://commons.wikimedia.org/wiki/Special:FilePath/JackLondon02.jpeg?width=300'/><ul><li><i>\"Bellew Zawierucha\"</i></li></ul><h1>Henning Mankell</h1> 1948-02-03 ---<img src='http://commons.wikimedia.org/wiki/Special:FilePath/Henning_Mankell_3_2011_Shankbone.jpg?width=300'/><ul><li><i>\"Fa\u0142szywy trop (powie\u015b\u0107)\"</i></li></ul><h1>Stanis\u0142aw Lem</h1> 1921-09-12 ---2006-03-27<img src='http://commons.wikimedia.org/wiki/Special:FilePath/Stanislaw_Lem_2.jpg?width=300'/><ul><li><i>\"Bajki robot\u00f3w\"</i></li></ul><ul><li><i>\"Solaris (powie\u015b\u0107)\"</i></li></ul><ul><li><i>\"Bezsenno\u015b\u0107 (zbi\u00f3r opowiada\u0144)\"</i></li></ul><ul><li><i>\"G\u0142os Pana\"</i></li></ul><ul><li><i>\"Inwazja z Aldebarana (zbi\u00f3r opowiada\u0144)\"</i></li></ul><ul><li><i>\"Katar (powie\u015b\u0107)\"</i></li></ul><ul><li><i>\"Ksi\u0119ga robot\u00f3w\"</i></li></ul><ul><li><i>\"Maska (zbi\u00f3r dzie\u0142)\"</i></li></ul><ul><li><i>\"Niezwyci\u0119\u017cony i inne opowiadania\"</i></li></ul><ul><li><i>\"Noc ksi\u0119\u017cycowa\"</i></li></ul><ul><li><i>\"Pami\u0119tnik znaleziony w wannie\"</i></li></ul><ul><li><i>\"Polowanie (zbi\u00f3r opowiada\u0144)\"</i></li></ul><ul><li><i>\"Powt\u00f3rka (zbi\u00f3r dzie\u0142)\"</i></li></ul><ul><li><i>\"Po\u017cytek ze smoka\"</i></li></ul><ul><li><i>\"Rasa drapie\u017cc\u00f3w. Teksty ostatnie\"</i></li></ul><ul><li><i>\"Sezam i inne opowiadania\"</i></li></ul><ul><li><i>\"Summa technologiae\"</i></li></ul><ul><li><i>\"Wizja lokalna (powie\u015b\u0107)\"</i></li></ul><h1>Antoni Go\u0142ubiew</h1> 1907-02-25 ---1979-06-27<img src='http://commons.wikimedia.org/wiki/Special:FilePath/Antoni_Golubiew.jpg?width=300'/><ul><li><i>\"Boles\u0142aw Chrobry (powie\u015b\u0107)\"</i></li></ul><h1>Miko\u0142aj Kopernik</h1> 1473-02-19 ---1543-05-24<img src='http://commons.wikimedia.org/wiki/Special:FilePath/Nikolaus_Kopernikus.jpg?width=300'/><ul><li><i>\"De revolutionibus orbium coelestium\"</i></li></ul><h1>Maria Franciszka Koz\u0142owska</h1> 1862-05-27 ---<img src='http://commons.wikimedia.org/wiki/Special:FilePath/Mateczk_Koz\u0142owska.JPG?width=300'/><ul><li><i>\"Dzie\u0142o Wielkiego Mi\u0142osierdzia\"</i></li></ul><h1>George Orwell</h1> 1903-06-25 ---1950-01-21<img src='http://commons.wikimedia.org/wiki/Special:FilePath/GeoreOrwell.jpg?width=300'/><ul><li><i>\"Folwark zwierz\u0119cy\"</i></li></ul><ul><li><i>\"Droga na molo w Wigan\"</i></li></ul><h1>William Szekspir</h1> 1564-04-23 ---1616-05-03<img src='http://commons.wikimedia.org/wiki/Special:FilePath/Shakespeare.jpg?width=300'/><ul><li><i>\"Hamlet\"</i></li></ul><ul><li><i>\"Romeo i Julia\"</i></li></ul><ul><li><i>\"Sen nocy letniej\"</i></li></ul><h1>J. K. Rowling</h1> 1965-07-31 ---<img src='http://commons.wikimedia.org/wiki/Special:FilePath/J._K._Rowling_2010.jpg?width=300'/><ul><li><i>\"Harry Potter\"</i></li></ul><h1>John Ronald Reuel Tolkien</h1> 1892-01-03 ---1973-09-02<img src='http://commons.wikimedia.org/wiki/Special:FilePath/Tolkien_1916.jpg?width=300'/><ul><li><i>\"Hobbit, czyli tam i z powrotem\"</i></li></ul><ul><li><i>\"Silmarillion\"</i></li></ul><ul><li><i>\"W\u0142adca Pier\u015bcieni\"</i></li></ul><h1>Aleksander Dumas (ojciec)</h1> 1802-07-24 ---1870-12-05<img src='http://commons.wikimedia.org/wiki/Special:FilePath/Dumas_by_Nadar,_1855.jpg?width=300'/><ul><li><i>\"Hrabia Monte Christo\"</i></li></ul><h1>Tadeusz Do\u0142\u0119ga-Mostowicz</h1> 1898-08-10 ---1939-09-20<img src='http://commons.wikimedia.org/wiki/Special:FilePath/Tadeusz_Dolega-Mostowicz.jpg?width=300'/><ul><li><i>\"Kariera Nikodema Dyzmy\"</i></li></ul><h1>Vladimir Nabokov</h1> 1899-04-22 ---1977-07-02<img src='http://commons.wikimedia.org/wiki/Special:FilePath/Monument_Nabokov_Montreux_23.12.2006.jpg?width=300'/><ul><li><i>\"Lolita\"</i></li></ul><h1>Adolf Hitler</h1> 1889-04-20 ---1945-04-30<img src='http://commons.wikimedia.org/wiki/Special:FilePath/Hitler_portrait_crop.jpg?width=300'/><ul><li><i>\"Mein Kampf\"</i></li></ul><h1>Christopher Tolkien</h1> 1924-11-21 ---<img src=''/><ul><li><i>\"Niedoko\u0144czone opowie\u015bci\"</i></li></ul><h1>Benedykt Chmielowski</h1> 1700-03-20 ---1763-04-07<img src='http://commons.wikimedia.org/wiki/Special:FilePath/POL_COA_Na\u0142\u0119cz.svg?width=300'/><ul><li><i>\"Nowe Ateny\"</i></li></ul><h1>Aldous Huxley</h1> 1894-07-26 ---1963-11-22<img src='http://commons.wikimedia.org/wiki/Special:FilePath/Aldous_Huxley.JPG?width=300'/><ul><li><i>\"Nowy wspania\u0142y \u015bwiat\"</i></li></ul><h1>Honor\u00e9 de Balzac</h1> 1799-05-20 ---1850-08-18<img src='http://commons.wikimedia.org/wiki/Special:FilePath/HBalzac.jpg?width=300'/><ul><li><i>\"Ojciec Goriot\"</i></li></ul><h1>Franz Kafka</h1> 1883-07-03 ---1924-06-03<img src='http://commons.wikimedia.org/wiki/Special:FilePath/Kafka1906.jpg?width=300'/><ul><li><i>\"Proces (powie\u015b\u0107)\"</i></li></ul><h1>Jan Kochanowski</h1>  ---1584-08-22<img src='http://commons.wikimedia.org/wiki/Special:FilePath/Jan_Kochanowski.png?width=300'/><ul><li><i>\"Psa\u0142terz Dawid\u00f3w\"</i></li></ul><h1>Howard Phillips Lovecraft</h1> 1890-08-20 ---1937-03-15<img src='http://commons.wikimedia.org/wiki/Special:FilePath/Howard_Phillips_Lovecraft_in_1915.jpg?width=300'/><ul><li><i>\"Zew Cthulhu (opowiadanie)\"</i></li></ul><h1>Karol Olgierd Borchardt</h1> 1905-03-25 ---1986-05-20<img src='http://commons.wikimedia.org/wiki/Special:FilePath/Karol_Olgierd_Borchardt's_house_in_Gdynia.jpg?width=300'/><ul><li><i>\"Znaczy Kapitan\"</i></li></ul><h1>Lew To\u0142stoj</h1> 1828-09-09 ---1910-11-20<img src='http://commons.wikimedia.org/wiki/Special:FilePath/Ilya_Efimovich_Repin_(1844-1930)_-_Portrait_of_Leo_Tolstoy_(1887).jpg?width=300'/><ul><li><i>\"Anna Karenina\"</i></li></ul><ul><li><i>\"Wojna i pok\u00f3j\"</i></li></ul><h1>Boris Akunin</h1> 1956-05-20 ---<img src='http://commons.wikimedia.org/wiki/Special:FilePath/Boris_Akunin_2012.jpg?width=300'/><ul><li><i>\"Azazel (powie\u015b\u0107)\"</i></li></ul><ul><li><i>\"Dekorator\"</i></li></ul><ul><li><i>\"Diamentowa karoca\"</i></li></ul><ul><li><i>\"Gambit turecki\"</i></li></ul><ul><li><i>\"Kochanek \u015amierci\"</i></li></ul><ul><li><i>\"Kochanka \u015amierci\"</i></li></ul><ul><li><i>\"Koronacja (powie\u015b\u0107)\"</i></li></ul><ul><li><i>\"Lewiatan (powie\u015b\u0107)\"</i></li></ul><ul><li><i>\"Radca stanu (powie\u015b\u0107)\"</i></li></ul><ul><li><i>\"Walet pikowy (powie\u015b\u0107)\"</i></li></ul><ul><li><i>\"\u015amier\u0107 Achillesa\"</i></li></ul><h1>Janusz Zajdel</h1> 1938-08-15 ---1985-07-19<img src='http://commons.wikimedia.org/wiki/Special:FilePath/Janusz_A_Zajdel.jpg?width=300'/><ul><li><i>\"Ca\u0142a prawda o planecie Ksi\"</i></li></ul><h1>Jan Pawe\u0142 II</h1> 1920-05-18 ---2005-04-02<img src='http://commons.wikimedia.org/wiki/Special:FilePath/John_Paul_II_Medal_of_Freedom_2004.jpg?width=300'/><ul><li><i>\"Dives in misericordia\"</i></li></ul><ul><li><i>\"Slavorum apostoli\"</i></li></ul><ul><li><i>\"Ut unum sint\"</i></li></ul><ul><li><i>\"Veritatis splendor\"</i></li></ul><h1>Isaac Asimov</h1> 1919-10-04 ---1992-04-06<img src='http://commons.wikimedia.org/wiki/Special:FilePath/Isaac.Asimov01.jpg?width=300'/><ul><li><i>\"Druga Fundacja\"</i></li></ul><ul><li><i>\"Fundacja (powie\u015b\u0107)\"</i></li></ul><ul><li><i>\"Fundacja i Imperium\"</i></li></ul><ul><li><i>\"Preludium Fundacji\"</i></li></ul><h1>Ilja Ilf</h1> 1897-10-15 ---1937-04-13<img src='http://commons.wikimedia.org/wiki/Special:FilePath/Ilya_Ilf.jpg?width=300'/><ul><li><i>\"Dwana\u015bcie krzese\u0142\"</i></li></ul><h1>Jewgienij Pietrow (pisarz)</h1> 1903-12-13 ---1942-07-02<img src='http://commons.wikimedia.org/wiki/Special:FilePath/Yevgeny_Petrov.jpg?width=300'/><h1>Gabriela Zapolska</h1> 1857-03-30 ---1921-12-17<img src='http://commons.wikimedia.org/wiki/Special:FilePath/Gabriela_Zapolska.PNG?width=300'/><ul><li><i>\"Ich czworo\"</i></li></ul><h1>Jeffery Deaver</h1> 1950-05-06 ---<img src='http://commons.wikimedia.org/wiki/Special:FilePath/Jeffery_Deaver_October_2006.jpg?width=300'/><ul><li><i>\"Kamienna ma\u0142pa\"</i></li></ul><ul><li><i>\"Mag (powie\u015b\u0107 J. Deavera)\"</i></li></ul><h1>Terry Pratchett</h1> 1948-04-28 ---<img src='http://commons.wikimedia.org/wiki/Special:FilePath/Terry_Pratchett,_September_2009_1.jpg?width=300'/><ul><li><i>\"Kot w stanie czystym\"</i></li></ul><h1>Clive Staples Lewis</h1> 1898-11-29 ---1963-11-22<img src='http://commons.wikimedia.org/wiki/Special:FilePath/Statue_of_C.S._Lewis,_Belfast.jpg?width=300'/><ul><li><i>\"Ko\u0144 i jego ch\u0142opiec\"</i></li></ul><h1>Adam Mickiewicz</h1> 1798-12-24 ---1855-11-26<img src='http://commons.wikimedia.org/wiki/Special:FilePath/Adam_Mickiewicz_by_Jan_Mieczkowski.jpg?width=300'/><ul><li><i>\"Ksi\u0119gi narodu polskiego i pielgrzymstwa polskiego\"</i></li></ul><h1>Andrzej Pilipiuk</h1> 1974-03-20 ---<img src='http://commons.wikimedia.org/wiki/Special:FilePath/Andrzej_Pilipiuk-Polcon2006.jpg?width=300'/><ul><li><i>\"Kuzynki\"</i></li></ul><h1>Ursula K. Le Guin</h1> 1929-10-21 ---<img src='http://commons.wikimedia.org/wiki/Special:FilePath/UrsulaLeGuin.01.jpg?width=300'/><ul><li><i>\"Lewa r\u0119ka ciemno\u015bci\"</i></li></ul><ul><li><i>\"Czarnoksi\u0119\u017cnik z Archipelagu\"</i></li></ul><h1>Iwan Turgieniew</h1> 1818-11-09 ---1883-09-03<img src='http://commons.wikimedia.org/wiki/Special:FilePath/Turgenev_by_Repin.jpg?width=300'/><ul><li><i>\"Ojcowie i dzieci\"</i></li></ul><h1>George R. R. Martin</h1> 1948-09-20 ---<img src='http://commons.wikimedia.org/wiki/Special:FilePath/George_R_R_Martin_2011_Shankbone.JPG?width=300'/><ul><li><i>\"Pie\u015b\u0144 Lodu i Ognia\"</i></li></ul><h1>Ryszard Kapu\u015bci\u0144ski</h1> 1932-03-04 ---2007-01-23<img src='http://commons.wikimedia.org/wiki/Special:FilePath/Ryszard_Kapuscinski_by_Kubik_17.05.1997_-_cropped.jpg?width=300'/><ul><li><i>\"Podr\u00f3\u017ce z Herodotem\"</i></li></ul><h1>Lucy Maud Montgomery</h1> 1874-11-30 ---1942-04-24<img src='http://commons.wikimedia.org/wiki/Special:FilePath/Lucy_Maud_Montgomery.JPG?width=300'/><ul><li><i>\"Rilla ze Z\u0142otego Brzegu\"</i></li></ul><h1>Dorota Terakowska</h1> 1938-08-30 ---2004-01-04<img src='http://commons.wikimedia.org/wiki/Special:FilePath/Dorota_Terakowska_grob.jpg?width=300'/><ul><li><i>\"Tam gdzie spadaj\u0105 anio\u0142y\"</i></li></ul><h1>Alfred Szklarski</h1> 1912-01-21 ---1992-04-09<img src='http://commons.wikimedia.org/wiki/Special:FilePath/Katowice_-_pomnik_Alfred_Szklarski.JPG?width=300'/><ul><li><i>\"Tomek u \u017ar\u00f3de\u0142 Amazonki\"</i></li></ul><ul><li><i>\"Tomek w Gran Chaco\"</i></li></ul><ul><li><i>\"Tomek w grobowcach faraon\u00f3w\"</i></li></ul><h1>Adam Zelga</h1> 1953-03-11 ---<img src=''/><h1>Rafa\u0142 A. Ziemkiewicz</h1> 1964-09-13 ---<img src='http://commons.wikimedia.org/wiki/Special:FilePath/Rafa\u0142_Ziemkiewicz.jpg?width=300'/><ul><li><i>\"Walc stulecia\"</i></li></ul><h1>Anne Rice</h1> 1941-10-04 ---<img src='http://commons.wikimedia.org/wiki/Special:FilePath/Anne_Rice.jpg?width=300'/><ul><li><i>\"Wampir Lestat\"</i></li></ul><h1>Aleksander Majkowski</h1> 1876-07-17 ---1938-02-10<img src='http://commons.wikimedia.org/wiki/Special:FilePath/POL_Polonia_Restituta_Oficerski_BAR.svg?width=300'/><ul><li><i>\"\u017bycie i przygody Remusa\"</i></li></ul><h1>Ian Fleming</h1> 1908-05-28 ---1964-08-12<img src='http://commons.wikimedia.org/wiki/Special:FilePath/For_Your_Eyes_Only.jpg?width=300'/><ul><li><i>\"Casino Royale (powie\u015b\u0107)\"</i></li></ul><h1>Gene Wolfe</h1> 1931-05-07 ---<img src='http://commons.wikimedia.org/wiki/Special:FilePath/Gene_Wolfe,_2005.png?width=300'/><ul><li><i>\"Cie\u0144 kata\"</i></li></ul><h1>Paulo Coelho</h1> 1947-08-24 ---<img src='http://commons.wikimedia.org/wiki/Special:FilePath/Paulo_Coelho_nrkbeta.jpg?width=300'/><ul><li><i>\"Czarownica z Portobello\"</i></li></ul><h1>Tom Clancy</h1> 1947-04-12 ---2013-10-01<img src='http://commons.wikimedia.org/wiki/Special:FilePath/Tom_Clancy_at_Burns_Library_cropped.jpg?width=300'/><ul><li><i>\"Czas patriot\u00f3w (powie\u015b\u0107)\"</i></li></ul>"
       ],
       "metadata": {},
       "output_type": "pyout",
       "prompt_number": 3,
       "text": [
        "\"<h1>Juliusz S\u0142owacki</h1> 1809-09-04 ---1849-04-03<img src=''/><h1>Henryk Sienkiewicz</h1> 1846-05-05 ---1916-11-15<img src=''/><ul><li><i>\\\"Krzy\u017cacy (powie\u015b\u0107)\\\"</i></li></ul><ul><li><i>\\\"Ogniem i mieczem\\\"</i></li></ul><ul><li><i>\\\"Quo vadis\\\"</i></li></ul><h1>Eliza Orzeszkowa</h1> 1841-06-06 ---1910-05-18<img src=''/><ul><li><i>\\\"Nad Niemnem\\\"</i></li></ul><h1>Adam Mickiweicz</h1> 1798-12-24 ---1855-11-26<img src=''/><h1>Orson Scott Card</h1> 1951-08-24 ---<img src='http://commons.wikimedia.org/wiki/Special:FilePath/Orson_Scott_Card_at_BYU_Symposium_20080216_closeup.jpg?width=300'/><ul><li><i>\\\"V\u00e9gj\u00e1t\u00e9k (reg\u00e9ny)\\\"</i></li></ul><h1>Andrzej Sapkowski</h1> 1948-06-21 ---<img src='http://commons.wikimedia.org/wiki/Special:FilePath/Sapkowski.jpg?width=300'/><ul><li><i>\\\"Pani Jeziora (powie\u015b\u0107)\\\"</i></li></ul><h1>Jack London</h1> 1876-01-12 ---1916-11-22<img src='http://commons.wikimedia.org/wiki/Special:FilePath/JackLondon02.jpeg?width=300'/><ul><li><i>\\\"Bellew Zawierucha\\\"</i></li></ul><h1>Henning Mankell</h1> 1948-02-03 ---<img src='http://commons.wikimedia.org/wiki/Special:FilePath/Henning_Mankell_3_2011_Shankbone.jpg?width=300'/><ul><li><i>\\\"Fa\u0142szywy trop (powie\u015b\u0107)\\\"</i></li></ul><h1>Stanis\u0142aw Lem</h1> 1921-09-12 ---2006-03-27<img src='http://commons.wikimedia.org/wiki/Special:FilePath/Stanislaw_Lem_2.jpg?width=300'/><ul><li><i>\\\"Bajki robot\u00f3w\\\"</i></li></ul><ul><li><i>\\\"Solaris (powie\u015b\u0107)\\\"</i></li></ul><ul><li><i>\\\"Bezsenno\u015b\u0107 (zbi\u00f3r opowiada\u0144)\\\"</i></li></ul><ul><li><i>\\\"G\u0142os Pana\\\"</i></li></ul><ul><li><i>\\\"Inwazja z Aldebarana (zbi\u00f3r opowiada\u0144)\\\"</i></li></ul><ul><li><i>\\\"Katar (powie\u015b\u0107)\\\"</i></li></ul><ul><li><i>\\\"Ksi\u0119ga robot\u00f3w\\\"</i></li></ul><ul><li><i>\\\"Maska (zbi\u00f3r dzie\u0142)\\\"</i></li></ul><ul><li><i>\\\"Niezwyci\u0119\u017cony i inne opowiadania\\\"</i></li></ul><ul><li><i>\\\"Noc ksi\u0119\u017cycowa\\\"</i></li></ul><ul><li><i>\\\"Pami\u0119tnik znaleziony w wannie\\\"</i></li></ul><ul><li><i>\\\"Polowanie (zbi\u00f3r opowiada\u0144)\\\"</i></li></ul><ul><li><i>\\\"Powt\u00f3rka (zbi\u00f3r dzie\u0142)\\\"</i></li></ul><ul><li><i>\\\"Po\u017cytek ze smoka\\\"</i></li></ul><ul><li><i>\\\"Rasa drapie\u017cc\u00f3w. Teksty ostatnie\\\"</i></li></ul><ul><li><i>\\\"Sezam i inne opowiadania\\\"</i></li></ul><ul><li><i>\\\"Summa technologiae\\\"</i></li></ul><ul><li><i>\\\"Wizja lokalna (powie\u015b\u0107)\\\"</i></li></ul><h1>Antoni Go\u0142ubiew</h1> 1907-02-25 ---1979-06-27<img src='http://commons.wikimedia.org/wiki/Special:FilePath/Antoni_Golubiew.jpg?width=300'/><ul><li><i>\\\"Boles\u0142aw Chrobry (powie\u015b\u0107)\\\"</i></li></ul><h1>Miko\u0142aj Kopernik</h1> 1473-02-19 ---1543-05-24<img src='http://commons.wikimedia.org/wiki/Special:FilePath/Nikolaus_Kopernikus.jpg?width=300'/><ul><li><i>\\\"De revolutionibus orbium coelestium\\\"</i></li></ul><h1>Maria Franciszka Koz\u0142owska</h1> 1862-05-27 ---<img src='http://commons.wikimedia.org/wiki/Special:FilePath/Mateczk_Koz\u0142owska.JPG?width=300'/><ul><li><i>\\\"Dzie\u0142o Wielkiego Mi\u0142osierdzia\\\"</i></li></ul><h1>George Orwell</h1> 1903-06-25 ---1950-01-21<img src='http://commons.wikimedia.org/wiki/Special:FilePath/GeoreOrwell.jpg?width=300'/><ul><li><i>\\\"Folwark zwierz\u0119cy\\\"</i></li></ul><ul><li><i>\\\"Droga na molo w Wigan\\\"</i></li></ul><h1>William Szekspir</h1> 1564-04-23 ---1616-05-03<img src='http://commons.wikimedia.org/wiki/Special:FilePath/Shakespeare.jpg?width=300'/><ul><li><i>\\\"Hamlet\\\"</i></li></ul><ul><li><i>\\\"Romeo i Julia\\\"</i></li></ul><ul><li><i>\\\"Sen nocy letniej\\\"</i></li></ul><h1>J. K. Rowling</h1> 1965-07-31 ---<img src='http://commons.wikimedia.org/wiki/Special:FilePath/J._K._Rowling_2010.jpg?width=300'/><ul><li><i>\\\"Harry Potter\\\"</i></li></ul><h1>John Ronald Reuel Tolkien</h1> 1892-01-03 ---1973-09-02<img src='http://commons.wikimedia.org/wiki/Special:FilePath/Tolkien_1916.jpg?width=300'/><ul><li><i>\\\"Hobbit, czyli tam i z powrotem\\\"</i></li></ul><ul><li><i>\\\"Silmarillion\\\"</i></li></ul><ul><li><i>\\\"W\u0142adca Pier\u015bcieni\\\"</i></li></ul><h1>Aleksander Dumas (ojciec)</h1> 1802-07-24 ---1870-12-05<img src='http://commons.wikimedia.org/wiki/Special:FilePath/Dumas_by_Nadar,_1855.jpg?width=300'/><ul><li><i>\\\"Hrabia Monte Christo\\\"</i></li></ul><h1>Tadeusz Do\u0142\u0119ga-Mostowicz</h1> 1898-08-10 ---1939-09-20<img src='http://commons.wikimedia.org/wiki/Special:FilePath/Tadeusz_Dolega-Mostowicz.jpg?width=300'/><ul><li><i>\\\"Kariera Nikodema Dyzmy\\\"</i></li></ul><h1>Vladimir Nabokov</h1> 1899-04-22 ---1977-07-02<img src='http://commons.wikimedia.org/wiki/Special:FilePath/Monument_Nabokov_Montreux_23.12.2006.jpg?width=300'/><ul><li><i>\\\"Lolita\\\"</i></li></ul><h1>Adolf Hitler</h1> 1889-04-20 ---1945-04-30<img src='http://commons.wikimedia.org/wiki/Special:FilePath/Hitler_portrait_crop.jpg?width=300'/><ul><li><i>\\\"Mein Kampf\\\"</i></li></ul><h1>Christopher Tolkien</h1> 1924-11-21 ---<img src=''/><ul><li><i>\\\"Niedoko\u0144czone opowie\u015bci\\\"</i></li></ul><h1>Benedykt Chmielowski</h1> 1700-03-20 ---1763-04-07<img src='http://commons.wikimedia.org/wiki/Special:FilePath/POL_COA_Na\u0142\u0119cz.svg?width=300'/><ul><li><i>\\\"Nowe Ateny\\\"</i></li></ul><h1>Aldous Huxley</h1> 1894-07-26 ---1963-11-22<img src='http://commons.wikimedia.org/wiki/Special:FilePath/Aldous_Huxley.JPG?width=300'/><ul><li><i>\\\"Nowy wspania\u0142y \u015bwiat\\\"</i></li></ul><h1>Honor\u00e9 de Balzac</h1> 1799-05-20 ---1850-08-18<img src='http://commons.wikimedia.org/wiki/Special:FilePath/HBalzac.jpg?width=300'/><ul><li><i>\\\"Ojciec Goriot\\\"</i></li></ul><h1>Franz Kafka</h1> 1883-07-03 ---1924-06-03<img src='http://commons.wikimedia.org/wiki/Special:FilePath/Kafka1906.jpg?width=300'/><ul><li><i>\\\"Proces (powie\u015b\u0107)\\\"</i></li></ul><h1>Jan Kochanowski</h1>  ---1584-08-22<img src='http://commons.wikimedia.org/wiki/Special:FilePath/Jan_Kochanowski.png?width=300'/><ul><li><i>\\\"Psa\u0142terz Dawid\u00f3w\\\"</i></li></ul><h1>Howard Phillips Lovecraft</h1> 1890-08-20 ---1937-03-15<img src='http://commons.wikimedia.org/wiki/Special:FilePath/Howard_Phillips_Lovecraft_in_1915.jpg?width=300'/><ul><li><i>\\\"Zew Cthulhu (opowiadanie)\\\"</i></li></ul><h1>Karol Olgierd Borchardt</h1> 1905-03-25 ---1986-05-20<img src='http://commons.wikimedia.org/wiki/Special:FilePath/Karol_Olgierd_Borchardt's_house_in_Gdynia.jpg?width=300'/><ul><li><i>\\\"Znaczy Kapitan\\\"</i></li></ul><h1>Lew To\u0142stoj</h1> 1828-09-09 ---1910-11-20<img src='http://commons.wikimedia.org/wiki/Special:FilePath/Ilya_Efimovich_Repin_(1844-1930)_-_Portrait_of_Leo_Tolstoy_(1887).jpg?width=300'/><ul><li><i>\\\"Anna Karenina\\\"</i></li></ul><ul><li><i>\\\"Wojna i pok\u00f3j\\\"</i></li></ul><h1>Boris Akunin</h1> 1956-05-20 ---<img src='http://commons.wikimedia.org/wiki/Special:FilePath/Boris_Akunin_2012.jpg?width=300'/><ul><li><i>\\\"Azazel (powie\u015b\u0107)\\\"</i></li></ul><ul><li><i>\\\"Dekorator\\\"</i></li></ul><ul><li><i>\\\"Diamentowa karoca\\\"</i></li></ul><ul><li><i>\\\"Gambit turecki\\\"</i></li></ul><ul><li><i>\\\"Kochanek \u015amierci\\\"</i></li></ul><ul><li><i>\\\"Kochanka \u015amierci\\\"</i></li></ul><ul><li><i>\\\"Koronacja (powie\u015b\u0107)\\\"</i></li></ul><ul><li><i>\\\"Lewiatan (powie\u015b\u0107)\\\"</i></li></ul><ul><li><i>\\\"Radca stanu (powie\u015b\u0107)\\\"</i></li></ul><ul><li><i>\\\"Walet pikowy (powie\u015b\u0107)\\\"</i></li></ul><ul><li><i>\\\"\u015amier\u0107 Achillesa\\\"</i></li></ul><h1>Janusz Zajdel</h1> 1938-08-15 ---1985-07-19<img src='http://commons.wikimedia.org/wiki/Special:FilePath/Janusz_A_Zajdel.jpg?width=300'/><ul><li><i>\\\"Ca\u0142a prawda o planecie Ksi\\\"</i></li></ul><h1>Jan Pawe\u0142 II</h1> 1920-05-18 ---2005-04-02<img src='http://commons.wikimedia.org/wiki/Special:FilePath/John_Paul_II_Medal_of_Freedom_2004.jpg?width=300'/><ul><li><i>\\\"Dives in misericordia\\\"</i></li></ul><ul><li><i>\\\"Slavorum apostoli\\\"</i></li></ul><ul><li><i>\\\"Ut unum sint\\\"</i></li></ul><ul><li><i>\\\"Veritatis splendor\\\"</i></li></ul><h1>Isaac Asimov</h1> 1919-10-04 ---1992-04-06<img src='http://commons.wikimedia.org/wiki/Special:FilePath/Isaac.Asimov01.jpg?width=300'/><ul><li><i>\\\"Druga Fundacja\\\"</i></li></ul><ul><li><i>\\\"Fundacja (powie\u015b\u0107)\\\"</i></li></ul><ul><li><i>\\\"Fundacja i Imperium\\\"</i></li></ul><ul><li><i>\\\"Preludium Fundacji\\\"</i></li></ul><h1>Ilja Ilf</h1> 1897-10-15 ---1937-04-13<img src='http://commons.wikimedia.org/wiki/Special:FilePath/Ilya_Ilf.jpg?width=300'/><ul><li><i>\\\"Dwana\u015bcie krzese\u0142\\\"</i></li></ul><h1>Jewgienij Pietrow (pisarz)</h1> 1903-12-13 ---1942-07-02<img src='http://commons.wikimedia.org/wiki/Special:FilePath/Yevgeny_Petrov.jpg?width=300'/><h1>Gabriela Zapolska</h1> 1857-03-30 ---1921-12-17<img src='http://commons.wikimedia.org/wiki/Special:FilePath/Gabriela_Zapolska.PNG?width=300'/><ul><li><i>\\\"Ich czworo\\\"</i></li></ul><h1>Jeffery Deaver</h1> 1950-05-06 ---<img src='http://commons.wikimedia.org/wiki/Special:FilePath/Jeffery_Deaver_October_2006.jpg?width=300'/><ul><li><i>\\\"Kamienna ma\u0142pa\\\"</i></li></ul><ul><li><i>\\\"Mag (powie\u015b\u0107 J. Deavera)\\\"</i></li></ul><h1>Terry Pratchett</h1> 1948-04-28 ---<img src='http://commons.wikimedia.org/wiki/Special:FilePath/Terry_Pratchett,_September_2009_1.jpg?width=300'/><ul><li><i>\\\"Kot w stanie czystym\\\"</i></li></ul><h1>Clive Staples Lewis</h1> 1898-11-29 ---1963-11-22<img src='http://commons.wikimedia.org/wiki/Special:FilePath/Statue_of_C.S._Lewis,_Belfast.jpg?width=300'/><ul><li><i>\\\"Ko\u0144 i jego ch\u0142opiec\\\"</i></li></ul><h1>Adam Mickiewicz</h1> 1798-12-24 ---1855-11-26<img src='http://commons.wikimedia.org/wiki/Special:FilePath/Adam_Mickiewicz_by_Jan_Mieczkowski.jpg?width=300'/><ul><li><i>\\\"Ksi\u0119gi narodu polskiego i pielgrzymstwa polskiego\\\"</i></li></ul><h1>Andrzej Pilipiuk</h1> 1974-03-20 ---<img src='http://commons.wikimedia.org/wiki/Special:FilePath/Andrzej_Pilipiuk-Polcon2006.jpg?width=300'/><ul><li><i>\\\"Kuzynki\\\"</i></li></ul><h1>Ursula K. Le Guin</h1> 1929-10-21 ---<img src='http://commons.wikimedia.org/wiki/Special:FilePath/UrsulaLeGuin.01.jpg?width=300'/><ul><li><i>\\\"Lewa r\u0119ka ciemno\u015bci\\\"</i></li></ul><ul><li><i>\\\"Czarnoksi\u0119\u017cnik z Archipelagu\\\"</i></li></ul><h1>Iwan Turgieniew</h1> 1818-11-09 ---1883-09-03<img src='http://commons.wikimedia.org/wiki/Special:FilePath/Turgenev_by_Repin.jpg?width=300'/><ul><li><i>\\\"Ojcowie i dzieci\\\"</i></li></ul><h1>George R. R. Martin</h1> 1948-09-20 ---<img src='http://commons.wikimedia.org/wiki/Special:FilePath/George_R_R_Martin_2011_Shankbone.JPG?width=300'/><ul><li><i>\\\"Pie\u015b\u0144 Lodu i Ognia\\\"</i></li></ul><h1>Ryszard Kapu\u015bci\u0144ski</h1> 1932-03-04 ---2007-01-23<img src='http://commons.wikimedia.org/wiki/Special:FilePath/Ryszard_Kapuscinski_by_Kubik_17.05.1997_-_cropped.jpg?width=300'/><ul><li><i>\\\"Podr\u00f3\u017ce z Herodotem\\\"</i></li></ul><h1>Lucy Maud Montgomery</h1> 1874-11-30 ---1942-04-24<img src='http://commons.wikimedia.org/wiki/Special:FilePath/Lucy_Maud_Montgomery.JPG?width=300'/><ul><li><i>\\\"Rilla ze Z\u0142otego Brzegu\\\"</i></li></ul><h1>Dorota Terakowska</h1> 1938-08-30 ---2004-01-04<img src='http://commons.wikimedia.org/wiki/Special:FilePath/Dorota_Terakowska_grob.jpg?width=300'/><ul><li><i>\\\"Tam gdzie spadaj\u0105 anio\u0142y\\\"</i></li></ul><h1>Alfred Szklarski</h1> 1912-01-21 ---1992-04-09<img src='http://commons.wikimedia.org/wiki/Special:FilePath/Katowice_-_pomnik_Alfred_Szklarski.JPG?width=300'/><ul><li><i>\\\"Tomek u \u017ar\u00f3de\u0142 Amazonki\\\"</i></li></ul><ul><li><i>\\\"Tomek w Gran Chaco\\\"</i></li></ul><ul><li><i>\\\"Tomek w grobowcach faraon\u00f3w\\\"</i></li></ul><h1>Adam Zelga</h1> 1953-03-11 ---<img src=''/><h1>Rafa\u0142 A. Ziemkiewicz</h1> 1964-09-13 ---<img src='http://commons.wikimedia.org/wiki/Special:FilePath/Rafa\u0142_Ziemkiewicz.jpg?width=300'/><ul><li><i>\\\"Walc stulecia\\\"</i></li></ul><h1>Anne Rice</h1> 1941-10-04 ---<img src='http://commons.wikimedia.org/wiki/Special:FilePath/Anne_Rice.jpg?width=300'/><ul><li><i>\\\"Wampir Lestat\\\"</i></li></ul><h1>Aleksander Majkowski</h1> 1876-07-17 ---1938-02-10<img src='http://commons.wikimedia.org/wiki/Special:FilePath/POL_Polonia_Restituta_Oficerski_BAR.svg?width=300'/><ul><li><i>\\\"\u017bycie i przygody Remusa\\\"</i></li></ul><h1>Ian Fleming</h1> 1908-05-28 ---1964-08-12<img src='http://commons.wikimedia.org/wiki/Special:FilePath/For_Your_Eyes_Only.jpg?width=300'/><ul><li><i>\\\"Casino Royale (powie\u015b\u0107)\\\"</i></li></ul><h1>Gene Wolfe</h1> 1931-05-07 ---<img src='http://commons.wikimedia.org/wiki/Special:FilePath/Gene_Wolfe,_2005.png?width=300'/><ul><li><i>\\\"Cie\u0144 kata\\\"</i></li></ul><h1>Paulo Coelho</h1> 1947-08-24 ---<img src='http://commons.wikimedia.org/wiki/Special:FilePath/Paulo_Coelho_nrkbeta.jpg?width=300'/><ul><li><i>\\\"Czarownica z Portobello\\\"</i></li></ul><h1>Tom Clancy</h1> 1947-04-12 ---2013-10-01<img src='http://commons.wikimedia.org/wiki/Special:FilePath/Tom_Clancy_at_Burns_Library_cropped.jpg?width=300'/><ul><li><i>\\\"Czas patriot\u00f3w (powie\u015b\u0107)\\\"</i></li></ul>\""
       ]
      }
     ],
     "prompt_number": 3
    }
   ],
   "metadata": {}
  }
 ]
}