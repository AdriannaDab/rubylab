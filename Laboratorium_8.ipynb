{
 "cells": [
  {
   "cell_type": "markdown",
   "metadata": {},
   "source": [
    "# Zapytania złożone"
   ]
  },
  {
   "cell_type": "markdown",
   "metadata": {},
   "source": [
    "Przed rozpoczęciem pracy konieczne jest skonfigurowanie bazy oraz załadowanie danych:\n",
    "```ruby\n",
    "$:.unshift \".\"\n",
    "require 'db_setup'\n",
    "require 'db_load'\n",
    "```"
   ]
  },
  {
   "cell_type": "code",
   "execution_count": 1,
   "metadata": {
    "collapsed": false
   },
   "outputs": [
    {
     "name": "stdout",
     "output_type": "stream",
     "text": [
      "==  AddIndicesMigration: migrating ============================================\n",
      "==  AddIndicesMigration: migrated (0.0000s) ===================================\n",
      "\n"
     ]
    },
    {
     "data": {
      "text/plain": [
       "true"
      ]
     },
     "execution_count": 1,
     "metadata": {},
     "output_type": "execute_result"
    }
   ],
   "source": [
    "$:.unshift \".\"\n",
    "require 'db_setup'\n",
    "require 'db_load'\n"
   ]
  },
  {
   "cell_type": "markdown",
   "metadata": {},
   "source": [
    "W dalszych zadaniach będzie wykonywać polecenia korzystając z następujących klas, zmapowanych na odpowiadające im \n",
    "table w bazie danych:\n",
    "```ruby\n",
    "class Author < ActiveRecord::Base\n",
    "  # name      (string)\n",
    "  # surname   (string)\n",
    "  # born      (datetime) \n",
    "  # died      (datetime)\n",
    "  # image_url (string)\n",
    "  \n",
    "  has_many :books\n",
    "end\n",
    "\n",
    "class Book < ActiveRecord::Base\n",
    "  # title     (string)\n",
    "  # author    (Author)\n",
    "  # published (integer)\n",
    "\n",
    "  belongs_to :author\n",
    "end\n",
    "```"
   ]
  },
  {
   "cell_type": "markdown",
   "metadata": {},
   "source": [
    "ActiveRecord udostępnia interfejs pozwalający wyszukiwać dane w bazie również z wykorzystaniem związków zdefiniowanych pomiędzy\n",
    "klasami. Do definiowania tych związków służą polecenia `has_many`, `belongs_to`, `has_one` oraz `has_and_belongs_to_many`.\n",
    "Przykładowo jeśli chcemy dowiedzieć się kto był autorem pierwszej książki wykonujemy zapytanie:\n",
    "```ruby\n",
    "book = Book.first\n",
    "puts book.title\n",
    "puts book.author\n",
    "```"
   ]
  },
  {
   "cell_type": "code",
   "execution_count": 2,
   "metadata": {
    "collapsed": false
   },
   "outputs": [
    {
     "name": "stdout",
     "output_type": "stream",
     "text": [
      "Végjáték (regény)\n",
      "#<Author:0x00000002b19e08>\n"
     ]
    }
   ],
   "source": [
    "book = Book.first\n",
    "puts book.title\n",
    "puts book.author"
   ]
  },
  {
   "cell_type": "markdown",
   "metadata": {},
   "source": [
    "Niestety prezentowany wynik nie jest zbyt użyteczny. Ponieważ jednak metoda `author` zwraca obiekt, możemy na nim wywoływać \n",
    "metody - tak samo jak w przypadku autora załadowanego bezpośrednio z wykorzystaniem metod zdefiniowanych dla klasy `Author`\n",
    "```ruby\n",
    "book = Book.first\n",
    "puts book.title\n",
    "puts \"#{book.author.name} #{book.author.surname}\"\n",
    "```"
   ]
  },
  {
   "cell_type": "code",
   "execution_count": 3,
   "metadata": {
    "collapsed": false
   },
   "outputs": [
    {
     "name": "stdout",
     "output_type": "stream",
     "text": [
      "Végjáték (regény)\n",
      "Orson Scott Card\n"
     ]
    }
   ],
   "source": [
    "book = Book.first\n",
    "puts book.title\n",
    "puts \"#{book.author.name} #{book.author.surname}\""
   ]
  },
  {
   "cell_type": "markdown",
   "metadata": {},
   "source": [
    "Co więcej, jeśli mamy do czynienia ze związkiem jeden-do-wiele bądź wiele-do-wiele, możemy wywyływać wszystkie dotychczas poznane \n",
    "metody na kolekcji powiązanych obiektów. Istotnie ułatwia to wyszukiwanie potrzebnych danych:\n",
    "```ruby\n",
    "books = Book.where(\"title like 'A%'\")\n",
    "books.each do |book|\n",
    "  puts book.title\n",
    "end\n",
    "\n",
    "author = Author.where(surname: \"Tołstoj\").first\n",
    "books = author.books.where(\"title like 'A%'\")\n",
    "books.each do |book|\n",
    "  puts book.title\n",
    "end\n",
    "```"
   ]
  },
  {
   "cell_type": "code",
   "execution_count": 4,
   "metadata": {
    "collapsed": false
   },
   "outputs": [
    {
     "name": "stdout",
     "output_type": "stream",
     "text": [
      "Anna Karenina\n",
      "Azazel (powieść)\n",
      "Anna Karenina\n"
     ]
    },
    {
     "data": {
      "text/plain": [
       "[#<Book id: 33, title: \"Anna Karenina\", language: nil, author_id: 64, published: 1877, image_url: \"http://commons.wikimedia.org/wiki/Special:FilePath...\">]"
      ]
     },
     "execution_count": 4,
     "metadata": {},
     "output_type": "execute_result"
    }
   ],
   "source": [
    "books = Book.where(\"title like 'A%'\")\n",
    "books.each do |book|\n",
    "  puts book.title\n",
    "end\n",
    "\n",
    "author = Author.where(surname: \"Tołstoj\").first\n",
    "books = author.books.where(\"title like 'A%'\")\n",
    "books.each do |book|\n",
    "  puts book.title\n",
    "end"
   ]
  },
  {
   "cell_type": "code",
   "execution_count": 22,
   "metadata": {
    "collapsed": false
   },
   "outputs": [
    {
     "name": "stdout",
     "output_type": "stream",
     "text": [
      "Anna Karenina\n",
      "Azazel (powieść)\n"
     ]
    },
    {
     "data": {
      "text/plain": [
       "[#<Book id: 33, title: \"Anna Karenina\", language: nil, author_id: 64, published: 1877, image_url: \"http://commons.wikimedia.org/wiki/Special:FilePath...\">, #<Book id: 34, title: \"Azazel (powieść)\", language: nil, author_id: 65, published: 1998, image_url: nil>]"
      ]
     },
     "execution_count": 22,
     "metadata": {},
     "output_type": "execute_result"
    }
   ],
   "source": [
    "books = Book.where(\"title like 'A%'\")\n",
    "books.each do |book|\n",
    "  puts book.title\n",
    "end"
   ]
  },
  {
   "cell_type": "markdown",
   "metadata": {},
   "source": [
    "Różnica pomiędzy tymi zapytaniami polega na tym, że w pierwszym przypadku szukamy książki, których tytuł zaczyna się na \"A\" \n",
    "w całym zbiorze książek, a w drugi przypadku wśród książek napisanych przez Tołstoja."
   ]
  },
  {
   "cell_type": "markdown",
   "metadata": {},
   "source": [
    "Aby umożliwić formatowanie wyników zapytania, IRuby udostępnia metodę `IRuby.html`, która pozwala na wyświetlanie kodu\n",
    "HTML. Przykładowo\n",
    "```ruby\n",
    "IRuby.html \"<h1>Test HTML-a</h1>\"\n",
    "```"
   ]
  },
  {
   "cell_type": "code",
   "execution_count": 6,
   "metadata": {
    "collapsed": false
   },
   "outputs": [
    {
     "data": {
      "text/html": [
       "<h1>Test HTML-a</h1>"
      ],
      "text/plain": [
       "\"<h1>Test HTML-a</h1>\""
      ]
     },
     "execution_count": 6,
     "metadata": {},
     "output_type": "execute_result"
    }
   ],
   "source": [
    "IRuby.html \"<h1>Test HTML-a</h1>\""
   ]
  },
  {
   "cell_type": "markdown",
   "metadata": {},
   "source": [
    "Dzięki temu będziemy mogli formatować wyniki zapytań, a wszczególności wyświetlać obrazy przedstwiające autorów oraz książki. \n",
    "Należy jednak wziąć pod uwagę, że nie wszystkie książki oraz nie wszyscy autorzy posiadają odpowiadające im obrazki.\n",
    "Aby wyświetlić imię, nazwisko oraz obraz pierwszego autora piszemy:\n",
    "```ruby\n",
    "author = Author.where(\"image_url is not null\").first\n",
    "IRuby.html \"<h1>#{author.name} #{author.surname}</h1><img src='#{author.image_url}'/>\"\n",
    "```"
   ]
  },
  {
   "cell_type": "code",
   "execution_count": 30,
   "metadata": {
    "collapsed": false
   },
   "outputs": [
    {
     "data": {
      "text/html": [
       "<h1>Orson Scott Card</h1><img src='http://commons.wikimedia.org/wiki/Special:FilePath/Orson_Scott_Card_at_BYU_Symposium_20080216_closeup.jpg?width=300'/>"
      ],
      "text/plain": [
       "\"<h1>Orson Scott Card</h1><img src='http://commons.wikimedia.org/wiki/Special:FilePath/Orson_Scott_Card_at_BYU_Symposium_20080216_closeup.jpg?width=300'/>\""
      ]
     },
     "execution_count": 30,
     "metadata": {},
     "output_type": "execute_result"
    }
   ],
   "source": [
    "author = Author.where(\"image_url is not null\").first\n",
    "IRuby.html \"<h1>#{author.name} #{author.surname}</h1><img src='#{author.image_url}'/>\""
   ]
  },
  {
   "cell_type": "markdown",
   "metadata": {},
   "source": [
    "Możemy również zdefniować funkcję, np. `display_author`, której zadaniem będzie wyświetlenie autora w tej postaci. \n",
    "Jedyny problem polega na tym, że funkcja `IRuby.html` może być wywoływana tylko raz. Dlatego jeśli chcemy wyświetlić kilku autorów,\n",
    "musimy połączyć odpowiadające im kody HTML i wynik przekazać do funkcji `html`\n",
    "```ruby\n",
    "def display_author(author)\n",
    "  \"<h1>#{author.name} #{author.surname}</h1><img src='#{author.image_url}'/>\"\n",
    "end\n",
    "\n",
    "author_1 = Author.where(\"image_url is not null\").first\n",
    "author_2 = Author.where(\"image_url is not null\").offset(1).first\n",
    "document = display_author(author_1)\n",
    "document += display_author(author_2)\n",
    "IRuby.html document\n",
    "```"
   ]
  },
  {
   "cell_type": "code",
   "execution_count": 8,
   "metadata": {
    "collapsed": false
   },
   "outputs": [
    {
     "data": {
      "text/html": [
       "<h1>Orson Scott Card</h1><img src='http://commons.wikimedia.org/wiki/Special:FilePath/Orson_Scott_Card_at_BYU_Symposium_20080216_closeup.jpg?width=300'/><h1>Andrzej Sapkowski</h1><img src='http://commons.wikimedia.org/wiki/Special:FilePath/Sapkowski.jpg?width=300'/>"
      ],
      "text/plain": [
       "\"<h1>Orson Scott Card</h1><img src='http://commons.wikimedia.org/wiki/Special:FilePath/Orson_Scott_Card_at_BYU_Symposium_20080216_closeup.jpg?width=300'/><h1>Andrzej Sapkowski</h1><img src='http://commons.wikimedia.org/wiki/Special:FilePath/Sapkowski.jpg?width=300'/>\""
      ]
     },
     "execution_count": 8,
     "metadata": {},
     "output_type": "execute_result"
    }
   ],
   "source": [
    "def display_author(author)\n",
    "  \"<h1>#{author.name} #{author.surname}</h1><img src='#{author.image_url}'/>\"\n",
    "end\n",
    "\n",
    "author_1 = Author.where(\"image_url is not null\").first\n",
    "author_2 = Author.where(\"image_url is not null\").offset(1).first\n",
    "document = display_author(author_1)\n",
    "document += display_author(author_2)\n",
    "IRuby.html document"
   ]
  },
  {
   "cell_type": "markdown",
   "metadata": {},
   "source": [
    "## Zadania"
   ]
  },
  {
   "cell_type": "markdown",
   "metadata": {},
   "source": [
    "### Zadanie 1"
   ]
  },
  {
   "cell_type": "markdown",
   "metadata": {},
   "source": [
    "Wyświetl wszystkich autorów, którzy urodzili się przed rokiem 1900."
   ]
  },
  {
   "cell_type": "code",
   "execution_count": 9,
   "metadata": {
    "collapsed": false
   },
   "outputs": [
    {
     "name": "stdout",
     "output_type": "stream",
     "text": [
      "Juliusz Słowacki\n",
      "Henryk Sienkiewicz\n",
      "Eliza Orzeszkowa\n",
      "Adam Mickiweicz\n",
      "Jack London\n",
      "Mikołaj Kopernik\n",
      "Maria Franciszka Kozłowska\n",
      "William Szekspir\n",
      "John Ronald Reuel Tolkien\n",
      "Aleksander Dumas (ojciec)\n",
      "Tadeusz Dołęga-Mostowicz\n",
      "Vladimir Nabokov\n",
      "Adolf Hitler\n",
      "Benedykt Chmielowski\n",
      "Aldous Huxley\n",
      "Honoré de Balzac\n",
      "Franz Kafka\n",
      "Howard Phillips Lovecraft\n",
      "Lew Tołstoj\n",
      "Ilja Ilf\n",
      "Gabriela Zapolska\n",
      "Clive Staples Lewis\n",
      "Adam Mickiewicz\n",
      "Iwan Turgieniew\n",
      "Lucy Maud Montgomery\n",
      "Aleksander Majkowski\n"
     ]
    },
    {
     "data": {
      "text/plain": [
       "[#<Author id: 17, name: \"Juliusz\", surname: \"Słowacki\", born: \"1809-09-04\", died: \"1849-04-03\", image_url: nil>, #<Author id: 18, name: \"Henryk\", surname: \"Sienkiewicz\", born: \"1846-05-05\", died: \"1916-11-15\", image_url: nil>, #<Author id: 19, name: \"Eliza\", surname: \"Orzeszkowa\", born: \"1841-06-06\", died: \"1910-05-18\", image_url: nil>, #<Author id: 39, name: \"Adam\", surname: \"Mickiweicz\", born: \"1798-12-24\", died: \"1855-11-26\", image_url: nil>, #<Author id: 42, name: \"Jack\", surname: \"London\", born: \"1876-01-12\", died: \"1916-11-22\", image_url: \"http://commons.wikimedia.org/wiki/Special:FilePath...\">, #<Author id: 46, name: \"Mikołaj\", surname: \"Kopernik\", born: \"1473-02-19\", died: \"1543-05-24\", image_url: \"http://commons.wikimedia.org/wiki/Special:FilePath...\">, #<Author id: 47, name: \"Maria Franciszka\", surname: \"Kozłowska\", born: \"1862-05-27\", died: nil, image_url: \"http://commons.wikimedia.org/wiki/Special:FilePath...\">, #<Author id: 49, name: \"William\", surname: \"Szekspir\", born: \"1564-04-23\", died: \"1616-05-03\", image_url: \"http://commons.wikimedia.org/wiki/Special:FilePath...\">, #<Author id: 51, name: \"John Ronald Reuel\", surname: \"Tolkien\", born: \"1892-01-03\", died: \"1973-09-02\", image_url: \"http://commons.wikimedia.org/wiki/Special:FilePath...\">, #<Author id: 52, name: \"Aleksander Dumas\", surname: \"(ojciec)\", born: \"1802-07-24\", died: \"1870-12-05\", image_url: \"http://commons.wikimedia.org/wiki/Special:FilePath...\">, #<Author id: 53, name: \"Tadeusz\", surname: \"Dołęga-Mostowicz\", born: \"1898-08-10\", died: \"1939-09-20\", image_url: \"http://commons.wikimedia.org/wiki/Special:FilePath...\">, #<Author id: 54, name: \"Vladimir\", surname: \"Nabokov\", born: \"1899-04-22\", died: \"1977-07-02\", image_url: \"http://commons.wikimedia.org/wiki/Special:FilePath...\">, #<Author id: 55, name: \"Adolf\", surname: \"Hitler\", born: \"1889-04-20\", died: \"1945-04-30\", image_url: \"http://commons.wikimedia.org/wiki/Special:FilePath...\">, #<Author id: 57, name: \"Benedykt\", surname: \"Chmielowski\", born: \"1700-03-20\", died: \"1763-04-07\", image_url: \"http://commons.wikimedia.org/wiki/Special:FilePath...\">, #<Author id: 58, name: \"Aldous\", surname: \"Huxley\", born: \"1894-07-26\", died: \"1963-11-22\", image_url: \"http://commons.wikimedia.org/wiki/Special:FilePath...\">, #<Author id: 59, name: \"Honoré de\", surname: \"Balzac\", born: \"1799-05-20\", died: \"1850-08-18\", image_url: \"http://commons.wikimedia.org/wiki/Special:FilePath...\">, #<Author id: 60, name: \"Franz\", surname: \"Kafka\", born: \"1883-07-03\", died: \"1924-06-03\", image_url: \"http://commons.wikimedia.org/wiki/Special:FilePath...\">, #<Author id: 62, name: \"Howard Phillips\", surname: \"Lovecraft\", born: \"1890-08-20\", died: \"1937-03-15\", image_url: \"http://commons.wikimedia.org/wiki/Special:FilePath...\">, #<Author id: 64, name: \"Lew\", surname: \"Tołstoj\", born: \"1828-09-09\", died: \"1910-11-20\", image_url: \"http://commons.wikimedia.org/wiki/Special:FilePath...\">, #<Author id: 69, name: \"Ilja\", surname: \"Ilf\", born: \"1897-10-15\", died: \"1937-04-13\", image_url: \"http://commons.wikimedia.org/wiki/Special:FilePath...\">, #<Author id: 71, name: \"Gabriela\", surname: \"Zapolska\", born: \"1857-03-30\", died: \"1921-12-17\", image_url: \"http://commons.wikimedia.org/wiki/Special:FilePath...\">, #<Author id: 74, name: \"Clive Staples\", surname: \"Lewis\", born: \"1898-11-29\", died: \"1963-11-22\", image_url: \"http://commons.wikimedia.org/wiki/Special:FilePath...\">, #<Author id: 75, name: \"Adam\", surname: \"Mickiewicz\", born: \"1798-12-24\", died: \"1855-11-26\", image_url: \"http://commons.wikimedia.org/wiki/Special:FilePath...\">, #<Author id: 78, name: \"Iwan\", surname: \"Turgieniew\", born: \"1818-11-09\", died: \"1883-09-03\", image_url: \"http://commons.wikimedia.org/wiki/Special:FilePath...\">, #<Author id: 81, name: \"Lucy Maud\", surname: \"Montgomery\", born: \"1874-11-30\", died: \"1942-04-24\", image_url: \"http://commons.wikimedia.org/wiki/Special:FilePath...\">, #<Author id: 87, name: \"Aleksander\", surname: \"Majkowski\", born: \"1876-07-17\", died: \"1938-02-10\", image_url: \"http://commons.wikimedia.org/wiki/Special:FilePath...\">]"
      ]
     },
     "execution_count": 9,
     "metadata": {},
     "output_type": "execute_result"
    }
   ],
   "source": [
    "authors = Author.where('born < ?',Date.parse(\"1899-12-31\")).all\n",
    "if authors\n",
    "  authors.each do |author|\n",
    "    puts author.name + \" \" + author.surname \n",
    "    #IRuby.html \"<h1> #{author.name} #{author.surname}</h1>\"\n",
    "\n",
    "  end\n",
    "  else\n",
    "    puts \"Nie ma\"\n",
    "  end\n",
    "#IRuby.html \"<h1>#{author.name} #{author.surname}</h1><img src='#{author.image_url}'/>\""
   ]
  },
  {
   "cell_type": "markdown",
   "metadata": {},
   "source": [
    "### Zadanie 2"
   ]
  },
  {
   "cell_type": "markdown",
   "metadata": {},
   "source": [
    "Zmodyfikuj funkcję wyświetlającą autorów tak aby obejmowała ich datę urodzin i śmierci w formacie `dzień.miesiąc.rok`. Następnie wyświetl wszystkich autorów,\n",
    "którzy zmarli w XX wieku."
   ]
  },
  {
   "cell_type": "code",
   "execution_count": 21,
   "metadata": {
    "collapsed": false
   },
   "outputs": [
    {
     "name": "stdout",
     "output_type": "stream",
     "text": [
      "Henryk Sienkiewicz 05-05-1846 15-11-1916 \n",
      "Eliza Orzeszkowa 06-06-1841 18-05-1910 \n",
      "Jack London 12-01-1876 22-11-1916 \n",
      "Antoni Gołubiew 25-02-1907 27-06-1979 \n",
      "George Orwell 25-06-1903 21-01-1950 \n",
      "John Ronald Reuel Tolkien 03-01-1892 02-09-1973 \n",
      "Tadeusz Dołęga-Mostowicz 10-08-1898 20-09-1939 \n",
      "Vladimir Nabokov 22-04-1899 02-07-1977 \n",
      "Adolf Hitler 20-04-1889 30-04-1945 \n",
      "Aldous Huxley 26-07-1894 22-11-1963 \n",
      "Franz Kafka 03-07-1883 03-06-1924 \n",
      "Howard Phillips Lovecraft 20-08-1890 15-03-1937 \n",
      "Karol Olgierd Borchardt 25-03-1905 20-05-1986 \n",
      "Lew Tołstoj 09-09-1828 20-11-1910 \n",
      "Janusz Zajdel 15-08-1938 19-07-1985 \n",
      "Isaac Asimov 04-10-1919 06-04-1992 \n",
      "Ilja Ilf 15-10-1897 13-04-1937 \n",
      "Jewgienij Pietrow (pisarz) 13-12-1903 02-07-1942 \n",
      "Gabriela Zapolska 30-03-1857 17-12-1921 \n",
      "Clive Staples Lewis 29-11-1898 22-11-1963 \n",
      "Lucy Maud Montgomery 30-11-1874 24-04-1942 \n",
      "Alfred Szklarski 21-01-1912 09-04-1992 \n",
      "Aleksander Majkowski 17-07-1876 10-02-1938 \n",
      "Ian Fleming 28-05-1908 12-08-1964 \n"
     ]
    },
    {
     "data": {
      "text/plain": [
       "[#<Author id: 18, name: \"Henryk\", surname: \"Sienkiewicz\", born: \"1846-05-05\", died: \"1916-11-15\", image_url: nil>, #<Author id: 19, name: \"Eliza\", surname: \"Orzeszkowa\", born: \"1841-06-06\", died: \"1910-05-18\", image_url: nil>, #<Author id: 42, name: \"Jack\", surname: \"London\", born: \"1876-01-12\", died: \"1916-11-22\", image_url: \"http://commons.wikimedia.org/wiki/Special:FilePath...\">, #<Author id: 45, name: \"Antoni\", surname: \"Gołubiew\", born: \"1907-02-25\", died: \"1979-06-27\", image_url: \"http://commons.wikimedia.org/wiki/Special:FilePath...\">, #<Author id: 48, name: \"George\", surname: \"Orwell\", born: \"1903-06-25\", died: \"1950-01-21\", image_url: \"http://commons.wikimedia.org/wiki/Special:FilePath...\">, #<Author id: 51, name: \"John Ronald Reuel\", surname: \"Tolkien\", born: \"1892-01-03\", died: \"1973-09-02\", image_url: \"http://commons.wikimedia.org/wiki/Special:FilePath...\">, #<Author id: 53, name: \"Tadeusz\", surname: \"Dołęga-Mostowicz\", born: \"1898-08-10\", died: \"1939-09-20\", image_url: \"http://commons.wikimedia.org/wiki/Special:FilePath...\">, #<Author id: 54, name: \"Vladimir\", surname: \"Nabokov\", born: \"1899-04-22\", died: \"1977-07-02\", image_url: \"http://commons.wikimedia.org/wiki/Special:FilePath...\">, #<Author id: 55, name: \"Adolf\", surname: \"Hitler\", born: \"1889-04-20\", died: \"1945-04-30\", image_url: \"http://commons.wikimedia.org/wiki/Special:FilePath...\">, #<Author id: 58, name: \"Aldous\", surname: \"Huxley\", born: \"1894-07-26\", died: \"1963-11-22\", image_url: \"http://commons.wikimedia.org/wiki/Special:FilePath...\">, #<Author id: 60, name: \"Franz\", surname: \"Kafka\", born: \"1883-07-03\", died: \"1924-06-03\", image_url: \"http://commons.wikimedia.org/wiki/Special:FilePath...\">, #<Author id: 62, name: \"Howard Phillips\", surname: \"Lovecraft\", born: \"1890-08-20\", died: \"1937-03-15\", image_url: \"http://commons.wikimedia.org/wiki/Special:FilePath...\">, #<Author id: 63, name: \"Karol Olgierd\", surname: \"Borchardt\", born: \"1905-03-25\", died: \"1986-05-20\", image_url: \"http://commons.wikimedia.org/wiki/Special:FilePath...\">, #<Author id: 64, name: \"Lew\", surname: \"Tołstoj\", born: \"1828-09-09\", died: \"1910-11-20\", image_url: \"http://commons.wikimedia.org/wiki/Special:FilePath...\">, #<Author id: 66, name: \"Janusz\", surname: \"Zajdel\", born: \"1938-08-15\", died: \"1985-07-19\", image_url: \"http://commons.wikimedia.org/wiki/Special:FilePath...\">, #<Author id: 68, name: \"Isaac\", surname: \"Asimov\", born: \"1919-10-04\", died: \"1992-04-06\", image_url: \"http://commons.wikimedia.org/wiki/Special:FilePath...\">, #<Author id: 69, name: \"Ilja\", surname: \"Ilf\", born: \"1897-10-15\", died: \"1937-04-13\", image_url: \"http://commons.wikimedia.org/wiki/Special:FilePath...\">, #<Author id: 70, name: \"Jewgienij Pietrow\", surname: \"(pisarz)\", born: \"1903-12-13\", died: \"1942-07-02\", image_url: \"http://commons.wikimedia.org/wiki/Special:FilePath...\">, #<Author id: 71, name: \"Gabriela\", surname: \"Zapolska\", born: \"1857-03-30\", died: \"1921-12-17\", image_url: \"http://commons.wikimedia.org/wiki/Special:FilePath...\">, #<Author id: 74, name: \"Clive Staples\", surname: \"Lewis\", born: \"1898-11-29\", died: \"1963-11-22\", image_url: \"http://commons.wikimedia.org/wiki/Special:FilePath...\">, #<Author id: 81, name: \"Lucy Maud\", surname: \"Montgomery\", born: \"1874-11-30\", died: \"1942-04-24\", image_url: \"http://commons.wikimedia.org/wiki/Special:FilePath...\">, #<Author id: 83, name: \"Alfred\", surname: \"Szklarski\", born: \"1912-01-21\", died: \"1992-04-09\", image_url: \"http://commons.wikimedia.org/wiki/Special:FilePath...\">, #<Author id: 87, name: \"Aleksander\", surname: \"Majkowski\", born: \"1876-07-17\", died: \"1938-02-10\", image_url: \"http://commons.wikimedia.org/wiki/Special:FilePath...\">, #<Author id: 88, name: \"Ian\", surname: \"Fleming\", born: \"1908-05-28\", died: \"1964-08-12\", image_url: \"http://commons.wikimedia.org/wiki/Special:FilePath...\">]"
      ]
     },
     "execution_count": 21,
     "metadata": {},
     "output_type": "execute_result"
    }
   ],
   "source": [
    "authors = Author.where(died: (Date.parse(\"1901-1-1\")..Date.parse(\"2000-12-31\"))).all\n",
    "if authors\n",
    "  authors.each do |author|\n",
    "    puts \"#{author.name} #{author.surname} #{author.born.strftime(\"%d-%m-%Y\")} #{author.died.strftime(\"%d-%m-%Y\")} \" \n",
    "\n",
    "\n",
    "  end\n",
    "  else\n",
    "    puts \"Nie ma\"\n",
    "  end"
   ]
  },
  {
   "cell_type": "markdown",
   "metadata": {},
   "source": [
    "### Zadanie 3"
   ]
  },
  {
   "cell_type": "markdown",
   "metadata": {},
   "source": [
    "Wyświetl 5 najmłodszych autorów, którzy posiadają przypisane zdjęcie."
   ]
  },
  {
   "cell_type": "code",
   "execution_count": 41,
   "metadata": {
    "collapsed": false
   },
   "outputs": [
    {
     "data": {
      "text/html": [
       "<h1>Andrzej Pilipiuk</h1><img src='http://commons.wikimedia.org/wiki/Special:FilePath/Andrzej_Pilipiuk-Polcon2006.jpg?width=300'/><h1>J. K. Rowling</h1><img src='http://commons.wikimedia.org/wiki/Special:FilePath/J._K._Rowling_2010.jpg?width=300'/><h1>Rafał A. Ziemkiewicz</h1><img src='http://commons.wikimedia.org/wiki/Special:FilePath/Rafał_Ziemkiewicz.jpg?width=300'/><h1>Boris Akunin</h1><img src='http://commons.wikimedia.org/wiki/Special:FilePath/Boris_Akunin_2012.jpg?width=300'/><h1>Orson Scott Card</h1><img src='http://commons.wikimedia.org/wiki/Special:FilePath/Orson_Scott_Card_at_BYU_Symposium_20080216_closeup.jpg?width=300'/>"
      ],
      "text/plain": [
       "\"<h1>Andrzej Pilipiuk</h1><img src='http://commons.wikimedia.org/wiki/Special:FilePath/Andrzej_Pilipiuk-Polcon2006.jpg?width=300'/><h1>J. K. Rowling</h1><img src='http://commons.wikimedia.org/wiki/Special:FilePath/J._K._Rowling_2010.jpg?width=300'/><h1>Rafał A. Ziemkiewicz</h1><img src='http://commons.wikimedia.org/wiki/Special:FilePath/Rafał_Ziemkiewicz.jpg?width=300'/><h1>Boris Akunin</h1><img src='http://commons.wikimedia.org/wiki/Special:FilePath/Boris_Akunin_2012.jpg?width=300'/><h1>Orson Scott Card</h1><img src='http://commons.wikimedia.org/wiki/Special:FilePath/Orson_Scott_Card_at_BYU_Symposium_20080216_closeup.jpg?width=300'/>\""
      ]
     },
     "execution_count": 41,
     "metadata": {},
     "output_type": "execute_result"
    }
   ],
   "source": [
    "authors = Author.where(\"image_url is not null\").limit(5).order(\"born desc\")\n",
    "  authors_str = \"\"\n",
    "  authors.each do |author|\n",
    "  #puts \"#{author.name} #{author.surname} #{author.born.strftime(\"%d-%m-%Y\")} #{author.died.strftime(\"%d-%m-%Y\")} \" \n",
    "  authors_str << \"<h1>#{author.name} #{author.surname}</h1><img src='#{author.image_url}'/>\"\n",
    "end\n",
    "IRuby.html authors_str"
   ]
  },
  {
   "cell_type": "markdown",
   "metadata": {},
   "source": [
    "### Zadanie 4"
   ]
  },
  {
   "cell_type": "markdown",
   "metadata": {},
   "source": [
    "Zdefiniuj funkcję `display_book`, która będzie zwracała fragment kodu HTML obejmujący tytuł książki, rok jej wydania oraz\n",
    "przypisany obrazek.\n",
    "Wyświetl najwcześniej wydaną książkę."
   ]
  },
  {
   "cell_type": "code",
   "execution_count": 86,
   "metadata": {
    "collapsed": false
   },
   "outputs": [
    {
     "data": {
      "text/html": [
       "<h1>Ojcowie i dzieci 0</h1><img src='http://commons.wikimedia.org/wiki/Special:FilePath/Otsy1880.jpg?width=300'/>"
      ],
      "text/plain": [
       "\"<h1>Ojcowie i dzieci 0</h1><img src='http://commons.wikimedia.org/wiki/Special:FilePath/Otsy1880.jpg?width=300'/>\""
      ]
     },
     "execution_count": 86,
     "metadata": {},
     "output_type": "execute_result"
    }
   ],
   "source": [
    "def display_book(book)\n",
    "  \"<h1>#{book.title} #{book.published}</h1><img src='#{book.image_url}'/>\"\n",
    "end\n",
    "book = Book.where(\"image_url is not null\").where(\"published is not null\").order(\"published\").first\n",
    "\n",
    "IRuby.html display_book(book)\n"
   ]
  },
  {
   "cell_type": "markdown",
   "metadata": {},
   "source": [
    "### Zadanie 5"
   ]
  },
  {
   "cell_type": "code",
   "execution_count": 60,
   "metadata": {
    "collapsed": false
   },
   "outputs": [
    {
     "data": {
      "text/plain": [
       "#<ActiveRecord::Relation [#<Book id: 1, title: \"Végjáték (regény)\", language: nil, author_id: 40, published: nil, image_url: nil>, #<Book id: 2, title: \"Pani Jeziora (powieść)\", language: nil, author_id: 41, published: 1999, image_url: nil>, #<Book id: 3, title: \"Bellew Zawierucha\", language: nil, author_id: 42, published: 1912, image_url: nil>, #<Book id: 4, title: \"Fałszywy trop (powieść)\", language: nil, author_id: 43, published: 1995, image_url: nil>, #<Book id: 5, title: \"Bajki robotów\", language: nil, author_id: 44, published: 1964, image_url: nil>, #<Book id: 6, title: \"Bolesław Chrobry (powieść)\", language: nil, author_id: 45, published: 1947, image_url: nil>, #<Book id: 7, title: \"De revolutionibus orbium coelestium\", language: nil, author_id: 46, published: 1543, image_url: nil>, #<Book id: 8, title: \"Dzieło Wielkiego Miłosierdzia\", language: nil, author_id: 47, published: 1922, image_url: nil>, #<Book id: 9, title: \"Folwark zwierzęcy\", language: nil, author_id: 48, published: 1945, image_url: \"http://commons.wikimedia.org/wiki/Special:FilePath...\">, #<Book id: 10, title: \"Hamlet\", language: nil, author_id: 49, published: nil, image_url: \"http://commons.wikimedia.org/wiki/Special:FilePath...\">, ...]>"
      ]
     },
     "execution_count": 60,
     "metadata": {},
     "output_type": "execute_result"
    }
   ],
   "source": [
    "Book.all\n"
   ]
  },
  {
   "cell_type": "markdown",
   "metadata": {},
   "source": [
    "Wyświetl wszystkie książki, które nie mają przypisanego roku wydania."
   ]
  },
  {
   "cell_type": "code",
   "execution_count": 98,
   "metadata": {
    "collapsed": false
   },
   "outputs": [
    {
     "name": "stdout",
     "output_type": "stream",
     "text": [
      "2\n"
     ]
    },
    {
     "data": {
      "text/html": [
       "<h1>Végjáték (regény)</h1><img src='http://commons.wikimedia.org/wiki/Special:FilePath/Orson_Scott_Card_at_BYU_Symposium_20080216_closeup.jpg?width=300'/><h1>Hamlet</h1><img src='http://commons.wikimedia.org/wiki/Special:FilePath/Shakespeare.jpg?width=300'/>"
      ],
      "text/plain": [
       "\"<h1>Végjáték (regény)</h1><img src='http://commons.wikimedia.org/wiki/Special:FilePath/Orson_Scott_Card_at_BYU_Symposium_20080216_closeup.jpg?width=300'/><h1>Hamlet</h1><img src='http://commons.wikimedia.org/wiki/Special:FilePath/Shakespeare.jpg?width=300'/>\""
      ]
     },
     "execution_count": 98,
     "metadata": {},
     "output_type": "execute_result"
    }
   ],
   "source": [
    "def display_book1(book)\n",
    "  \"<h1>#{book.title}</h1><img src='#{book.author.image_url}'/>\"\n",
    "end\n",
    "books = Book.where(\"published is null\").all\n",
    "puts books.size\n",
    "str = \"\"\n",
    "books.each do |book|\n",
    "  str << display_book1(book)\n",
    "end\n",
    "\n",
    "IRuby.html str"
   ]
  },
  {
   "cell_type": "code",
   "execution_count": 2,
   "metadata": {
    "collapsed": false
   },
   "outputs": [
    {
     "name": "stdout",
     "output_type": "stream",
     "text": [
      "Végjáték (regény) brak roku wydania\n",
      "Hamlet brak roku wydania\n"
     ]
    },
    {
     "data": {
      "text/plain": [
       "[#<Book id: 1, title: \"Végjáték (regény)\", language: nil, author_id: 40, published: nil, image_url: nil>, #<Book id: 10, title: \"Hamlet\", language: nil, author_id: 49, published: nil, image_url: \"http://commons.wikimedia.org/wiki/Special:FilePath...\">]"
      ]
     },
     "execution_count": 2,
     "metadata": {},
     "output_type": "execute_result"
    }
   ],
   "source": [
    "Book.where('published is null').each do |book|\n",
    "  if book.published == nil\n",
    "    puts \"#{book.title} brak roku wydania\"\n",
    "  else\n",
    "    puts \"#{book.title} #{book.published}\"\n",
    "  end\n",
    "end"
   ]
  },
  {
   "cell_type": "markdown",
   "metadata": {},
   "source": [
    "### Zadanie 6"
   ]
  },
  {
   "cell_type": "markdown",
   "metadata": {},
   "source": [
    "Zmodyfikuj funkcję `display_author` tak, aby wyświetlała również wszystkie książki napisane przez autora. Użyj znacznika `<ul>`.\n",
    "Korzystając z tej funkcji wyświetl opis Stanisława Lema."
   ]
  },
  {
   "cell_type": "code",
   "execution_count": 110,
   "metadata": {
    "collapsed": false
   },
   "outputs": [
    {
     "data": {
      "text/html": [
       "<h1>Stanisław Lem</h1><img src='http://commons.wikimedia.org/wiki/Special:FilePath/Stanislaw_Lem_2.jpg?width=300'/><ul><li><i>\"Bajki robotów\"</i></li></ul><ul><li><i>\"Solaris (powieść)\"</i></li></ul><ul><li><i>\"Bezsenność (zbiór opowiadań)\"</i></li></ul><ul><li><i>\"Głos Pana\"</i></li></ul><ul><li><i>\"Inwazja z Aldebarana (zbiór opowiadań)\"</i></li></ul><ul><li><i>\"Katar (powieść)\"</i></li></ul><ul><li><i>\"Księga robotów\"</i></li></ul><ul><li><i>\"Maska (zbiór dzieł)\"</i></li></ul><ul><li><i>\"Niezwyciężony i inne opowiadania\"</i></li></ul><ul><li><i>\"Noc księżycowa\"</i></li></ul><ul><li><i>\"Pamiętnik znaleziony w wannie\"</i></li></ul><ul><li><i>\"Polowanie (zbiór opowiadań)\"</i></li></ul><ul><li><i>\"Powtórka (zbiór dzieł)\"</i></li></ul><ul><li><i>\"Pożytek ze smoka\"</i></li></ul><ul><li><i>\"Rasa drapieżców. Teksty ostatnie\"</i></li></ul><ul><li><i>\"Sezam i inne opowiadania\"</i></li></ul><ul><li><i>\"Summa technologiae\"</i></li></ul><ul><li><i>\"Wizja lokalna (powieść)\"</i></li></ul>"
      ],
      "text/plain": [
       "\"<h1>Stanisław Lem</h1><img src='http://commons.wikimedia.org/wiki/Special:FilePath/Stanislaw_Lem_2.jpg?width=300'/><ul><li><i>\\\"Bajki robotów\\\"</i></li></ul><ul><li><i>\\\"Solaris (powieść)\\\"</i></li></ul><ul><li><i>\\\"Bezsenność (zbiór opowiadań)\\\"</i></li></ul><ul><li><i>\\\"Głos Pana\\\"</i></li></ul><ul><li><i>\\\"Inwazja z Aldebarana (zbiór opowiadań)\\\"</i></li></ul><ul><li><i>\\\"Katar (powieść)\\\"</i></li></ul><ul><li><i>\\\"Księga robotów\\\"</i></li></ul><ul><li><i>\\\"Maska (zbiór dzieł)\\\"</i></li></ul><ul><li><i>\\\"Niezwyciężony i inne opowiadania\\\"</i></li></ul><ul><li><i>\\\"Noc księżycowa\\\"</i></li></ul><ul><li><i>\\\"Pamiętnik znaleziony w wannie\\\"</i></li></ul><ul><li><i>\\\"Polowanie (zbiór opowiadań)\\\"</i></li></ul><ul><li><i>\\\"Powtórka (zbiór dzieł)\\\"</i></li></ul><ul><li><i>\\\"Pożytek ze smoka\\\"</i></li></ul><ul><li><i>\\\"Rasa drapieżców. Teksty ostatnie\\\"</i></li></ul><ul><li><i>\\\"Sezam i inne opowiadania\\\"</i></li></ul><ul><li><i>\\\"Summa technologiae\\\"</i></li></ul><ul><li><i>\\\"Wizja lokalna (powieść)\\\"</i></li></ul>\""
      ]
     },
     "execution_count": 110,
     "metadata": {},
     "output_type": "execute_result"
    }
   ],
   "source": [
    "def display_author(author)\n",
    "  author = Author.where(surname: author).first\n",
    "  str = \"<h1>#{author.name} #{author.surname}</h1><img src='#{author.image_url}'/>\"\n",
    "  author.books.each do |book|\n",
    "    str << \"<ul><li><i>\\\"#{book.title}\\\"</i></li></ul>\"\n",
    "  end\n",
    "  str\n",
    "end\n",
    "\n",
    "document = display_author(\"Lem\")\n",
    "\n",
    "IRuby.html document"
   ]
  },
  {
   "cell_type": "markdown",
   "metadata": {},
   "source": [
    "### Zadanie 7"
   ]
  },
  {
   "cell_type": "markdown",
   "metadata": {},
   "source": [
    "Wśród książek napisanych przez Lema wyświetl wszystkie, które zawieraja w tytule słowo \"zbiór\"."
   ]
  },
  {
   "cell_type": "code",
   "execution_count": 100,
   "metadata": {
    "collapsed": false
   },
   "outputs": [
    {
     "data": {
      "text/html": [
       "<h1>Stanisław Lem</h1><img src='http://commons.wikimedia.org/wiki/Special:FilePath/Stanislaw_Lem_2.jpg?width=300'/><ul><li><i>\"Bezsenność (zbiór opowiadań)\"</i></li></ul><ul><li><i>\"Inwazja z Aldebarana (zbiór opowiadań)\"</i></li></ul><ul><li><i>\"Maska (zbiór dzieł)\"</i></li></ul><ul><li><i>\"Polowanie (zbiór opowiadań)\"</i></li></ul><ul><li><i>\"Powtórka (zbiór dzieł)\"</i></li></ul>"
      ],
      "text/plain": [
       "\"<h1>Stanisław Lem</h1><img src='http://commons.wikimedia.org/wiki/Special:FilePath/Stanislaw_Lem_2.jpg?width=300'/><ul><li><i>\\\"Bezsenność (zbiór opowiadań)\\\"</i></li></ul><ul><li><i>\\\"Inwazja z Aldebarana (zbiór opowiadań)\\\"</i></li></ul><ul><li><i>\\\"Maska (zbiór dzieł)\\\"</i></li></ul><ul><li><i>\\\"Polowanie (zbiór opowiadań)\\\"</i></li></ul><ul><li><i>\\\"Powtórka (zbiór dzieł)\\\"</i></li></ul>\""
      ]
     },
     "execution_count": 100,
     "metadata": {},
     "output_type": "execute_result"
    }
   ],
   "source": [
    "def display_author(author)\n",
    "  author = Author.where(surname: author).first\n",
    "  str = \"<h1>#{author.name} #{author.surname}</h1><img src='#{author.image_url}'/>\"\n",
    "  books = author.books.where(\"title like '%zbiór%'\")\n",
    "  books.each do |book|\n",
    "   str << \"<ul><li><i>\\\"#{book.title}\\\"</i></li></ul>\"\n",
    "  end\n",
    "  str\n",
    "end\n",
    "\n",
    "document = display_author(\"Lem\")\n",
    "\n",
    "IRuby.html document"
   ]
  },
  {
   "cell_type": "markdown",
   "metadata": {},
   "source": [
    "### Zadanie 8"
   ]
  },
  {
   "cell_type": "markdown",
   "metadata": {},
   "source": [
    "Wśród książek napisanych przez Lema wyświetl te, które zostały wydane w roku jego śmierci."
   ]
  },
  {
   "cell_type": "code",
   "execution_count": 99,
   "metadata": {
    "collapsed": false
   },
   "outputs": [
    {
     "data": {
      "text/html": [
       "<h1>Stanisław Lem</h1><img src='http://commons.wikimedia.org/wiki/Special:FilePath/Stanislaw_Lem_2.jpg?width=300'/><ul><li><i>\"Rasa drapieżców. Teksty ostatnie\"</i></li></ul>"
      ],
      "text/plain": [
       "\"<h1>Stanisław Lem</h1><img src='http://commons.wikimedia.org/wiki/Special:FilePath/Stanislaw_Lem_2.jpg?width=300'/><ul><li><i>\\\"Rasa drapieżców. Teksty ostatnie\\\"</i></li></ul>\""
      ]
     },
     "execution_count": 99,
     "metadata": {},
     "output_type": "execute_result"
    }
   ],
   "source": [
    "def display_author(author)\n",
    "  author = Author.where(surname: author).first\n",
    "  str = \"<h1>#{author.name} #{author.surname}</h1><img src='#{author.image_url}'/>\"\n",
    "  books = author.books.where(\"published == 2006\")\n",
    "  books.each do |book|\n",
    "   str << \"<ul><li><i>\\\"#{book.title}\\\"</i></li></ul>\"\n",
    "  end\n",
    "  str\n",
    "end\n",
    "\n",
    "document = display_author(\"Lem\")\n",
    "\n",
    "IRuby.html document"
   ]
  },
  {
   "cell_type": "code",
   "execution_count": 116,
   "metadata": {
    "collapsed": false
   },
   "outputs": [
    {
     "data": {
      "text/html": [
       "<h1>Stanisław Lem</h1><img src='http://commons.wikimedia.org/wiki/Special:FilePath/Stanislaw_Lem_2.jpg?width=300'/>"
      ],
      "text/plain": [
       "\"<h1>Stanisław Lem</h1><img src='http://commons.wikimedia.org/wiki/Special:FilePath/Stanislaw_Lem_2.jpg?width=300'/>\""
      ]
     },
     "execution_count": 116,
     "metadata": {},
     "output_type": "execute_result"
    }
   ],
   "source": [
    "def display_author(author)\n",
    "  author = Author.where(surname: author).first\n",
    "  str = \"<h1>#{author.name} #{author.surname}</h1><img src='#{author.image_url}'/>\"\n",
    "  books = Book.where(author: author)\n",
    "  books.each do |book|\n",
    "    if book.published == author.died.strftime(\"%Y\")\n",
    "    str << \"<ul><li><i>\\\"#{book.title}\\\"</i></li></ul>\"\n",
    "  end\n",
    "  end\n",
    "    str\n",
    "end\n",
    "document = display_author(\"Lem\")\n",
    "\n",
    "IRuby.html document\n",
    "\n"
   ]
  },
  {
   "cell_type": "markdown",
   "metadata": {},
   "source": [
    "### Zadanie 9"
   ]
  },
  {
   "cell_type": "markdown",
   "metadata": {},
   "source": [
    "Wyświetl wszystkie książki znajdujące się w bazie. Opis powinien zawierać tytuł, imię i nazwisko autora, rok wydania oraz \n",
    "obraz przedstawiający książkę (o ile istnieje)."
   ]
  },
  {
   "cell_type": "code",
   "execution_count": 7,
   "metadata": {
    "collapsed": false
   },
   "outputs": [
    {
     "name": "stdout",
     "output_type": "stream",
     "text": [
      "26\n"
     ]
    },
    {
     "data": {
      "text/html": [
       "<h1><i>\"Folwark zwierzęcy\"</i> Orwell</h1> - 1945<img src='http://commons.wikimedia.org/wiki/Special:FilePath/GeoreOrwell.jpg?width=300'/><h1><i>\"Harry Potter\"</i> Rowling</h1> - 1997<img src='http://commons.wikimedia.org/wiki/Special:FilePath/J._K._Rowling_2010.jpg?width=300'/><h1><i>\"Hrabia Monte Christo\"</i> (ojciec)</h1> - 1844<img src='http://commons.wikimedia.org/wiki/Special:FilePath/Dumas_by_Nadar,_1855.jpg?width=300'/><h1><i>\"Krzyżacy (powieść)\"</i> Sienkiewicz</h1> - 1900<img src=''/><h1><i>\"Mein Kampf\"</i> Hitler</h1> - 1925<img src='http://commons.wikimedia.org/wiki/Special:FilePath/Hitler_portrait_crop.jpg?width=300'/><h1><i>\"Nad Niemnem\"</i> Orzeszkowa</h1> - 1888<img src=''/><h1><i>\"Nowe Ateny\"</i> Chmielowski</h1> - 1745<img src='http://commons.wikimedia.org/wiki/Special:FilePath/POL_COA_Nałęcz.svg?width=300'/><h1><i>\"Ogniem i mieczem\"</i> Sienkiewicz</h1> - 1884<img src=''/><h1><i>\"Ojciec Goriot\"</i> Balzac</h1> - 1835<img src='http://commons.wikimedia.org/wiki/Special:FilePath/HBalzac.jpg?width=300'/><h1><i>\"Proces (powieść)\"</i> Kafka</h1> - 1925<img src='http://commons.wikimedia.org/wiki/Special:FilePath/Kafka1906.jpg?width=300'/><h1><i>\"Psałterz Dawidów\"</i> Kochanowski</h1> - 1579<img src='http://commons.wikimedia.org/wiki/Special:FilePath/Jan_Kochanowski.png?width=300'/><h1><i>\"Quo vadis\"</i> Sienkiewicz</h1> - 1896<img src=''/><h1><i>\"Romeo i Julia\"</i> Szekspir</h1> - 1597<img src='http://commons.wikimedia.org/wiki/Special:FilePath/Shakespeare.jpg?width=300'/><h1><i>\"Silmarillion\"</i> Tolkien</h1> - 1977<img src='http://commons.wikimedia.org/wiki/Special:FilePath/Tolkien_1916.jpg?width=300'/><h1><i>\"Solaris (powieść)\"</i> Lem</h1> - 1961<img src='http://commons.wikimedia.org/wiki/Special:FilePath/Stanislaw_Lem_2.jpg?width=300'/><h1><i>\"Władca Pierścieni\"</i> Tolkien</h1> - 1954<img src='http://commons.wikimedia.org/wiki/Special:FilePath/Tolkien_1916.jpg?width=300'/><h1><i>\"Anna Karenina\"</i> Tołstoj</h1> - 1877<img src='http://commons.wikimedia.org/wiki/Special:FilePath/Ilya_Efimovich_Repin_(1844-1930)_-_Portrait_of_Leo_Tolstoy_(1887).jpg?width=300'/><h1><i>\"Dives in misericordia\"</i> II</h1> - 1980<img src='http://commons.wikimedia.org/wiki/Special:FilePath/John_Paul_II_Medal_of_Freedom_2004.jpg?width=300'/><h1><i>\"Dwanaście krzeseł\"</i> Ilf</h1> - 1928<img src='http://commons.wikimedia.org/wiki/Special:FilePath/Ilya_Ilf.jpg?width=300'/><h1><i>\"Księgi narodu polskiego i pielgrzymstwa polskiego\"</i> Mickiewicz</h1> - 1832<img src='http://commons.wikimedia.org/wiki/Special:FilePath/Adam_Mickiewicz_by_Jan_Mieczkowski.jpg?width=300'/><h1><i>\"Ojcowie i dzieci\"</i> Turgieniew</h1> - 0<img src='http://commons.wikimedia.org/wiki/Special:FilePath/Turgenev_by_Repin.jpg?width=300'/><h1><i>\"Sen nocy letniej\"</i> Szekspir</h1> - 1600<img src='http://commons.wikimedia.org/wiki/Special:FilePath/Shakespeare.jpg?width=300'/><h1><i>\"Slavorum apostoli\"</i> II</h1> - 1985<img src='http://commons.wikimedia.org/wiki/Special:FilePath/John_Paul_II_Medal_of_Freedom_2004.jpg?width=300'/><h1><i>\"Ut unum sint\"</i> II</h1> - 1995<img src='http://commons.wikimedia.org/wiki/Special:FilePath/John_Paul_II_Medal_of_Freedom_2004.jpg?width=300'/><h1><i>\"Veritatis splendor\"</i> II</h1> - 1993<img src='http://commons.wikimedia.org/wiki/Special:FilePath/John_Paul_II_Medal_of_Freedom_2004.jpg?width=300'/><h1><i>\"Wojna i pokój\"</i> Tołstoj</h1> - 1865<img src='http://commons.wikimedia.org/wiki/Special:FilePath/Ilya_Efimovich_Repin_(1844-1930)_-_Portrait_of_Leo_Tolstoy_(1887).jpg?width=300'/>"
      ],
      "text/plain": [
       "\"<h1><i>\\\"Folwark zwierzęcy\\\"</i> Orwell</h1> - 1945<img src='http://commons.wikimedia.org/wiki/Special:FilePath/GeoreOrwell.jpg?width=300'/><h1><i>\\\"Harry Potter\\\"</i> Rowling</h1> - 1997<img src='http://commons.wikimedia.org/wiki/Special:FilePath/J._K._Rowling_2010.jpg?width=300'/><h1><i>\\\"Hrabia Monte Christo\\\"</i> (ojciec)</h1> - 1844<img src='http://commons.wikimedia.org/wiki/Special:FilePath/Dumas_by_Nadar,_1855.jpg?width=300'/><h1><i>\\\"Krzyżacy (powieść)\\\"</i> Sienkiewicz</h1> - 1900<img src=''/><h1><i>\\\"Mein Kampf\\\"</i> Hitler</h1> - 1925<img src='http://commons.wikimedia.org/wiki/Special:FilePath/Hitler_portrait_crop.jpg?width=300'/><h1><i>\\\"Nad Niemnem\\\"</i> Orzeszkowa</h1> - 1888<img src=''/><h1><i>\\\"Nowe Ateny\\\"</i> Chmielowski</h1> - 1745<img src='http://commons.wikimedia.org/wiki/Special:FilePath/POL_COA_Nałęcz.svg?width=300'/><h1><i>\\\"Ogniem i mieczem\\\"</i> Sienkiewicz</h1> - 1884<img src=''/><h1><i>\\\"Ojciec Goriot\\\"</i> Balzac</h1> - 1835<img src='http://commons.wikimedia.org/wiki/Special:FilePath/HBalzac.jpg?width=300'/><h1><i>\\\"Proces (powieść)\\\"</i> Kafka</h1> - 1925<img src='http://commons.wikimedia.org/wiki/Special:FilePath/Kafka1906.jpg?width=300'/><h1><i>\\\"Psałterz Dawidów\\\"</i> Kochanowski</h1> - 1579<img src='http://commons.wikimedia.org/wiki/Special:FilePath/Jan_Kochanowski.png?width=300'/><h1><i>\\\"Quo vadis\\\"</i> Sienkiewicz</h1> - 1896<img src=''/><h1><i>\\\"Romeo i Julia\\\"</i> Szekspir</h1> - 1597<img src='http://commons.wikimedia.org/wiki/Special:FilePath/Shakespeare.jpg?width=300'/><h1><i>\\\"Silmarillion\\\"</i> Tolkien</h1> - 1977<img src='http://commons.wikimedia.org/wiki/Special:FilePath/Tolkien_1916.jpg?width=300'/><h1><i>\\\"Solaris (powieść)\\\"</i> Lem</h1> - 1961<img src='http://commons.wikimedia.org/wiki/Special:FilePath/Stanislaw_Lem_2.jpg?width=300'/><h1><i>\\\"Władca Pierścieni\\\"</i> Tolkien</h1> - 1954<img src='http://commons.wikimedia.org/wiki/Special:FilePath/Tolkien_1916.jpg?width=300'/><h1><i>\\\"Anna Karenina\\\"</i> Tołstoj</h1> - 1877<img src='http://commons.wikimedia.org/wiki/Special:FilePath/Ilya_Efimovich_Repin_(1844-1930)_-_Portrait_of_Leo_Tolstoy_(1887).jpg?width=300'/><h1><i>\\\"Dives in misericordia\\\"</i> II</h1> - 1980<img src='http://commons.wikimedia.org/wiki/Special:FilePath/John_Paul_II_Medal_of_Freedom_2004.jpg?width=300'/><h1><i>\\\"Dwanaście krzeseł\\\"</i> Ilf</h1> - 1928<img src='http://commons.wikimedia.org/wiki/Special:FilePath/Ilya_Ilf.jpg?width=300'/><h1><i>\\\"Księgi narodu polskiego i pielgrzymstwa polskiego\\\"</i> Mickiewicz</h1> - 1832<img src='http://commons.wikimedia.org/wiki/Special:FilePath/Adam_Mickiewicz_by_Jan_Mieczkowski.jpg?width=300'/><h1><i>\\\"Ojcowie i dzieci\\\"</i> Turgieniew</h1> - 0<img src='http://commons.wikimedia.org/wiki/Special:FilePath/Turgenev_by_Repin.jpg?width=300'/><h1><i>\\\"Sen nocy letniej\\\"</i> Szekspir</h1> - 1600<img src='http://commons.wikimedia.org/wiki/Special:FilePath/Shakespeare.jpg?width=300'/><h1><i>\\\"Slavorum apostoli\\\"</i> II</h1> - 1985<img src='http://commons.wikimedia.org/wiki/Special:FilePath/John_Paul_II_Medal_of_Freedom_2004.jpg?width=300'/><h1><i>\\\"Ut unum sint\\\"</i> II</h1> - 1995<img src='http://commons.wikimedia.org/wiki/Special:FilePath/John_Paul_II_Medal_of_Freedom_2004.jpg?width=300'/><h1><i>\\\"Veritatis splendor\\\"</i> II</h1> - 1993<img src='http://commons.wikimedia.org/wiki/Special:FilePath/John_Paul_II_Medal_of_Freedom_2004.jpg?width=300'/><h1><i>\\\"Wojna i pokój\\\"</i> Tołstoj</h1> - 1865<img src='http://commons.wikimedia.org/wiki/Special:FilePath/Ilya_Efimovich_Repin_(1844-1930)_-_Portrait_of_Leo_Tolstoy_(1887).jpg?width=300'/>\""
      ]
     },
     "execution_count": 7,
     "metadata": {},
     "output_type": "execute_result"
    }
   ],
   "source": [
    "def display_book2(book)\n",
    "  \"<h1><i>\\\"#{book.title}\\\"</i> #{book.author.surname}</h1> - #{book.published}<img src='#{book.author.image_url}'/>\"\n",
    "end\n",
    "books = Book.where(\"image_url is not null\").where(\"published is not null\").all\n",
    "puts books.size\n",
    "str = \"\"\n",
    "books.each do |book|\n",
    "  str << display_book2(book)\n",
    "end\n",
    "\n",
    "IRuby.html str"
   ]
  },
  {
   "cell_type": "markdown",
   "metadata": {},
   "source": [
    "### Zadanie 10"
   ]
  },
  {
   "cell_type": "markdown",
   "metadata": {},
   "source": [
    "Wyświetl wszystkich autorów znajdujących się w bazie wraz z opisem zawierającym ich zdjęcie, datę urodzin i śmierci oraz spis \n",
    "opublikowanych książek. Pamiętaj o odpowiednim sformatowaniu dat oraz o tym, że nie wszyscy autorzy mają przypisane wszystkie\n",
    "informacje."
   ]
  },
  {
   "cell_type": "code",
   "execution_count": 131,
   "metadata": {
    "collapsed": false
   },
   "outputs": [
    {
     "data": {
      "text/html": [
       "<h1>Juliusz Słowacki</h1> 1809-09-04 ---1849-04-03<img src=''/><h1>Henryk Sienkiewicz</h1> 1846-05-05 ---1916-11-15<img src=''/><ul><li><i>\"Krzyżacy (powieść)\"</i></li></ul><ul><li><i>\"Ogniem i mieczem\"</i></li></ul><ul><li><i>\"Quo vadis\"</i></li></ul><h1>Eliza Orzeszkowa</h1> 1841-06-06 ---1910-05-18<img src=''/><ul><li><i>\"Nad Niemnem\"</i></li></ul><h1>Adam Mickiweicz</h1> 1798-12-24 ---1855-11-26<img src=''/><h1>Orson Scott Card</h1> 1951-08-24 ---<img src='http://commons.wikimedia.org/wiki/Special:FilePath/Orson_Scott_Card_at_BYU_Symposium_20080216_closeup.jpg?width=300'/><ul><li><i>\"Végjáték (regény)\"</i></li></ul><h1>Andrzej Sapkowski</h1> 1948-06-21 ---<img src='http://commons.wikimedia.org/wiki/Special:FilePath/Sapkowski.jpg?width=300'/><ul><li><i>\"Pani Jeziora (powieść)\"</i></li></ul><h1>Jack London</h1> 1876-01-12 ---1916-11-22<img src='http://commons.wikimedia.org/wiki/Special:FilePath/JackLondon02.jpeg?width=300'/><ul><li><i>\"Bellew Zawierucha\"</i></li></ul><h1>Henning Mankell</h1> 1948-02-03 ---<img src='http://commons.wikimedia.org/wiki/Special:FilePath/Henning_Mankell_3_2011_Shankbone.jpg?width=300'/><ul><li><i>\"Fałszywy trop (powieść)\"</i></li></ul><h1>Stanisław Lem</h1> 1921-09-12 ---2006-03-27<img src='http://commons.wikimedia.org/wiki/Special:FilePath/Stanislaw_Lem_2.jpg?width=300'/><ul><li><i>\"Bajki robotów\"</i></li></ul><ul><li><i>\"Solaris (powieść)\"</i></li></ul><ul><li><i>\"Bezsenność (zbiór opowiadań)\"</i></li></ul><ul><li><i>\"Głos Pana\"</i></li></ul><ul><li><i>\"Inwazja z Aldebarana (zbiór opowiadań)\"</i></li></ul><ul><li><i>\"Katar (powieść)\"</i></li></ul><ul><li><i>\"Księga robotów\"</i></li></ul><ul><li><i>\"Maska (zbiór dzieł)\"</i></li></ul><ul><li><i>\"Niezwyciężony i inne opowiadania\"</i></li></ul><ul><li><i>\"Noc księżycowa\"</i></li></ul><ul><li><i>\"Pamiętnik znaleziony w wannie\"</i></li></ul><ul><li><i>\"Polowanie (zbiór opowiadań)\"</i></li></ul><ul><li><i>\"Powtórka (zbiór dzieł)\"</i></li></ul><ul><li><i>\"Pożytek ze smoka\"</i></li></ul><ul><li><i>\"Rasa drapieżców. Teksty ostatnie\"</i></li></ul><ul><li><i>\"Sezam i inne opowiadania\"</i></li></ul><ul><li><i>\"Summa technologiae\"</i></li></ul><ul><li><i>\"Wizja lokalna (powieść)\"</i></li></ul><h1>Antoni Gołubiew</h1> 1907-02-25 ---1979-06-27<img src='http://commons.wikimedia.org/wiki/Special:FilePath/Antoni_Golubiew.jpg?width=300'/><ul><li><i>\"Bolesław Chrobry (powieść)\"</i></li></ul><h1>Mikołaj Kopernik</h1> 1473-02-19 ---1543-05-24<img src='http://commons.wikimedia.org/wiki/Special:FilePath/Nikolaus_Kopernikus.jpg?width=300'/><ul><li><i>\"De revolutionibus orbium coelestium\"</i></li></ul><h1>Maria Franciszka Kozłowska</h1> 1862-05-27 ---<img src='http://commons.wikimedia.org/wiki/Special:FilePath/Mateczk_Kozłowska.JPG?width=300'/><ul><li><i>\"Dzieło Wielkiego Miłosierdzia\"</i></li></ul><h1>George Orwell</h1> 1903-06-25 ---1950-01-21<img src='http://commons.wikimedia.org/wiki/Special:FilePath/GeoreOrwell.jpg?width=300'/><ul><li><i>\"Folwark zwierzęcy\"</i></li></ul><ul><li><i>\"Droga na molo w Wigan\"</i></li></ul><h1>William Szekspir</h1> 1564-04-23 ---1616-05-03<img src='http://commons.wikimedia.org/wiki/Special:FilePath/Shakespeare.jpg?width=300'/><ul><li><i>\"Hamlet\"</i></li></ul><ul><li><i>\"Romeo i Julia\"</i></li></ul><ul><li><i>\"Sen nocy letniej\"</i></li></ul><h1>J. K. Rowling</h1> 1965-07-31 ---<img src='http://commons.wikimedia.org/wiki/Special:FilePath/J._K._Rowling_2010.jpg?width=300'/><ul><li><i>\"Harry Potter\"</i></li></ul><h1>John Ronald Reuel Tolkien</h1> 1892-01-03 ---1973-09-02<img src='http://commons.wikimedia.org/wiki/Special:FilePath/Tolkien_1916.jpg?width=300'/><ul><li><i>\"Hobbit, czyli tam i z powrotem\"</i></li></ul><ul><li><i>\"Silmarillion\"</i></li></ul><ul><li><i>\"Władca Pierścieni\"</i></li></ul><h1>Aleksander Dumas (ojciec)</h1> 1802-07-24 ---1870-12-05<img src='http://commons.wikimedia.org/wiki/Special:FilePath/Dumas_by_Nadar,_1855.jpg?width=300'/><ul><li><i>\"Hrabia Monte Christo\"</i></li></ul><h1>Tadeusz Dołęga-Mostowicz</h1> 1898-08-10 ---1939-09-20<img src='http://commons.wikimedia.org/wiki/Special:FilePath/Tadeusz_Dolega-Mostowicz.jpg?width=300'/><ul><li><i>\"Kariera Nikodema Dyzmy\"</i></li></ul><h1>Vladimir Nabokov</h1> 1899-04-22 ---1977-07-02<img src='http://commons.wikimedia.org/wiki/Special:FilePath/Monument_Nabokov_Montreux_23.12.2006.jpg?width=300'/><ul><li><i>\"Lolita\"</i></li></ul><h1>Adolf Hitler</h1> 1889-04-20 ---1945-04-30<img src='http://commons.wikimedia.org/wiki/Special:FilePath/Hitler_portrait_crop.jpg?width=300'/><ul><li><i>\"Mein Kampf\"</i></li></ul><h1>Christopher Tolkien</h1> 1924-11-21 ---<img src=''/><ul><li><i>\"Niedokończone opowieści\"</i></li></ul><h1>Benedykt Chmielowski</h1> 1700-03-20 ---1763-04-07<img src='http://commons.wikimedia.org/wiki/Special:FilePath/POL_COA_Nałęcz.svg?width=300'/><ul><li><i>\"Nowe Ateny\"</i></li></ul><h1>Aldous Huxley</h1> 1894-07-26 ---1963-11-22<img src='http://commons.wikimedia.org/wiki/Special:FilePath/Aldous_Huxley.JPG?width=300'/><ul><li><i>\"Nowy wspaniały świat\"</i></li></ul><h1>Honoré de Balzac</h1> 1799-05-20 ---1850-08-18<img src='http://commons.wikimedia.org/wiki/Special:FilePath/HBalzac.jpg?width=300'/><ul><li><i>\"Ojciec Goriot\"</i></li></ul><h1>Franz Kafka</h1> 1883-07-03 ---1924-06-03<img src='http://commons.wikimedia.org/wiki/Special:FilePath/Kafka1906.jpg?width=300'/><ul><li><i>\"Proces (powieść)\"</i></li></ul><h1>Jan Kochanowski</h1>  ---1584-08-22<img src='http://commons.wikimedia.org/wiki/Special:FilePath/Jan_Kochanowski.png?width=300'/><ul><li><i>\"Psałterz Dawidów\"</i></li></ul><h1>Howard Phillips Lovecraft</h1> 1890-08-20 ---1937-03-15<img src='http://commons.wikimedia.org/wiki/Special:FilePath/Howard_Phillips_Lovecraft_in_1915.jpg?width=300'/><ul><li><i>\"Zew Cthulhu (opowiadanie)\"</i></li></ul><h1>Karol Olgierd Borchardt</h1> 1905-03-25 ---1986-05-20<img src='http://commons.wikimedia.org/wiki/Special:FilePath/Karol_Olgierd_Borchardt's_house_in_Gdynia.jpg?width=300'/><ul><li><i>\"Znaczy Kapitan\"</i></li></ul><h1>Lew Tołstoj</h1> 1828-09-09 ---1910-11-20<img src='http://commons.wikimedia.org/wiki/Special:FilePath/Ilya_Efimovich_Repin_(1844-1930)_-_Portrait_of_Leo_Tolstoy_(1887).jpg?width=300'/><ul><li><i>\"Anna Karenina\"</i></li></ul><ul><li><i>\"Wojna i pokój\"</i></li></ul><h1>Boris Akunin</h1> 1956-05-20 ---<img src='http://commons.wikimedia.org/wiki/Special:FilePath/Boris_Akunin_2012.jpg?width=300'/><ul><li><i>\"Azazel (powieść)\"</i></li></ul><ul><li><i>\"Dekorator\"</i></li></ul><ul><li><i>\"Diamentowa karoca\"</i></li></ul><ul><li><i>\"Gambit turecki\"</i></li></ul><ul><li><i>\"Kochanek Śmierci\"</i></li></ul><ul><li><i>\"Kochanka Śmierci\"</i></li></ul><ul><li><i>\"Koronacja (powieść)\"</i></li></ul><ul><li><i>\"Lewiatan (powieść)\"</i></li></ul><ul><li><i>\"Radca stanu (powieść)\"</i></li></ul><ul><li><i>\"Walet pikowy (powieść)\"</i></li></ul><ul><li><i>\"Śmierć Achillesa\"</i></li></ul><h1>Janusz Zajdel</h1> 1938-08-15 ---1985-07-19<img src='http://commons.wikimedia.org/wiki/Special:FilePath/Janusz_A_Zajdel.jpg?width=300'/><ul><li><i>\"Cała prawda o planecie Ksi\"</i></li></ul><h1>Jan Paweł II</h1> 1920-05-18 ---2005-04-02<img src='http://commons.wikimedia.org/wiki/Special:FilePath/John_Paul_II_Medal_of_Freedom_2004.jpg?width=300'/><ul><li><i>\"Dives in misericordia\"</i></li></ul><ul><li><i>\"Slavorum apostoli\"</i></li></ul><ul><li><i>\"Ut unum sint\"</i></li></ul><ul><li><i>\"Veritatis splendor\"</i></li></ul><h1>Isaac Asimov</h1> 1919-10-04 ---1992-04-06<img src='http://commons.wikimedia.org/wiki/Special:FilePath/Isaac.Asimov01.jpg?width=300'/><ul><li><i>\"Druga Fundacja\"</i></li></ul><ul><li><i>\"Fundacja (powieść)\"</i></li></ul><ul><li><i>\"Fundacja i Imperium\"</i></li></ul><ul><li><i>\"Preludium Fundacji\"</i></li></ul><h1>Ilja Ilf</h1> 1897-10-15 ---1937-04-13<img src='http://commons.wikimedia.org/wiki/Special:FilePath/Ilya_Ilf.jpg?width=300'/><ul><li><i>\"Dwanaście krzeseł\"</i></li></ul><h1>Jewgienij Pietrow (pisarz)</h1> 1903-12-13 ---1942-07-02<img src='http://commons.wikimedia.org/wiki/Special:FilePath/Yevgeny_Petrov.jpg?width=300'/><h1>Gabriela Zapolska</h1> 1857-03-30 ---1921-12-17<img src='http://commons.wikimedia.org/wiki/Special:FilePath/Gabriela_Zapolska.PNG?width=300'/><ul><li><i>\"Ich czworo\"</i></li></ul><h1>Jeffery Deaver</h1> 1950-05-06 ---<img src='http://commons.wikimedia.org/wiki/Special:FilePath/Jeffery_Deaver_October_2006.jpg?width=300'/><ul><li><i>\"Kamienna małpa\"</i></li></ul><ul><li><i>\"Mag (powieść J. Deavera)\"</i></li></ul><h1>Terry Pratchett</h1> 1948-04-28 ---<img src='http://commons.wikimedia.org/wiki/Special:FilePath/Terry_Pratchett,_September_2009_1.jpg?width=300'/><ul><li><i>\"Kot w stanie czystym\"</i></li></ul><h1>Clive Staples Lewis</h1> 1898-11-29 ---1963-11-22<img src='http://commons.wikimedia.org/wiki/Special:FilePath/Statue_of_C.S._Lewis,_Belfast.jpg?width=300'/><ul><li><i>\"Koń i jego chłopiec\"</i></li></ul><h1>Adam Mickiewicz</h1> 1798-12-24 ---1855-11-26<img src='http://commons.wikimedia.org/wiki/Special:FilePath/Adam_Mickiewicz_by_Jan_Mieczkowski.jpg?width=300'/><ul><li><i>\"Księgi narodu polskiego i pielgrzymstwa polskiego\"</i></li></ul><h1>Andrzej Pilipiuk</h1> 1974-03-20 ---<img src='http://commons.wikimedia.org/wiki/Special:FilePath/Andrzej_Pilipiuk-Polcon2006.jpg?width=300'/><ul><li><i>\"Kuzynki\"</i></li></ul><h1>Ursula K. Le Guin</h1> 1929-10-21 ---<img src='http://commons.wikimedia.org/wiki/Special:FilePath/UrsulaLeGuin.01.jpg?width=300'/><ul><li><i>\"Lewa ręka ciemności\"</i></li></ul><ul><li><i>\"Czarnoksiężnik z Archipelagu\"</i></li></ul><h1>Iwan Turgieniew</h1> 1818-11-09 ---1883-09-03<img src='http://commons.wikimedia.org/wiki/Special:FilePath/Turgenev_by_Repin.jpg?width=300'/><ul><li><i>\"Ojcowie i dzieci\"</i></li></ul><h1>George R. R. Martin</h1> 1948-09-20 ---<img src='http://commons.wikimedia.org/wiki/Special:FilePath/George_R_R_Martin_2011_Shankbone.JPG?width=300'/><ul><li><i>\"Pieśń Lodu i Ognia\"</i></li></ul><h1>Ryszard Kapuściński</h1> 1932-03-04 ---2007-01-23<img src='http://commons.wikimedia.org/wiki/Special:FilePath/Ryszard_Kapuscinski_by_Kubik_17.05.1997_-_cropped.jpg?width=300'/><ul><li><i>\"Podróże z Herodotem\"</i></li></ul><h1>Lucy Maud Montgomery</h1> 1874-11-30 ---1942-04-24<img src='http://commons.wikimedia.org/wiki/Special:FilePath/Lucy_Maud_Montgomery.JPG?width=300'/><ul><li><i>\"Rilla ze Złotego Brzegu\"</i></li></ul><h1>Dorota Terakowska</h1> 1938-08-30 ---2004-01-04<img src='http://commons.wikimedia.org/wiki/Special:FilePath/Dorota_Terakowska_grob.jpg?width=300'/><ul><li><i>\"Tam gdzie spadają anioły\"</i></li></ul><h1>Alfred Szklarski</h1> 1912-01-21 ---1992-04-09<img src='http://commons.wikimedia.org/wiki/Special:FilePath/Katowice_-_pomnik_Alfred_Szklarski.JPG?width=300'/><ul><li><i>\"Tomek u źródeł Amazonki\"</i></li></ul><ul><li><i>\"Tomek w Gran Chaco\"</i></li></ul><ul><li><i>\"Tomek w grobowcach faraonów\"</i></li></ul><h1>Adam Zelga</h1> 1953-03-11 ---<img src=''/><h1>Rafał A. Ziemkiewicz</h1> 1964-09-13 ---<img src='http://commons.wikimedia.org/wiki/Special:FilePath/Rafał_Ziemkiewicz.jpg?width=300'/><ul><li><i>\"Walc stulecia\"</i></li></ul><h1>Anne Rice</h1> 1941-10-04 ---<img src='http://commons.wikimedia.org/wiki/Special:FilePath/Anne_Rice.jpg?width=300'/><ul><li><i>\"Wampir Lestat\"</i></li></ul><h1>Aleksander Majkowski</h1> 1876-07-17 ---1938-02-10<img src='http://commons.wikimedia.org/wiki/Special:FilePath/POL_Polonia_Restituta_Oficerski_BAR.svg?width=300'/><ul><li><i>\"Życie i przygody Remusa\"</i></li></ul><h1>Ian Fleming</h1> 1908-05-28 ---1964-08-12<img src='http://commons.wikimedia.org/wiki/Special:FilePath/For_Your_Eyes_Only.jpg?width=300'/><ul><li><i>\"Casino Royale (powieść)\"</i></li></ul><h1>Gene Wolfe</h1> 1931-05-07 ---<img src='http://commons.wikimedia.org/wiki/Special:FilePath/Gene_Wolfe,_2005.png?width=300'/><ul><li><i>\"Cień kata\"</i></li></ul><h1>Paulo Coelho</h1> 1947-08-24 ---<img src='http://commons.wikimedia.org/wiki/Special:FilePath/Paulo_Coelho_nrkbeta.jpg?width=300'/><ul><li><i>\"Czarownica z Portobello\"</i></li></ul><h1>Tom Clancy</h1> 1947-04-12 ---2013-10-01<img src='http://commons.wikimedia.org/wiki/Special:FilePath/Tom_Clancy_at_Burns_Library_cropped.jpg?width=300'/><ul><li><i>\"Czas patriotów (powieść)\"</i></li></ul>"
      ],
      "text/plain": [
       "\"<h1>Juliusz Słowacki</h1> 1809-09-04 ---1849-04-03<img src=''/><h1>Henryk Sienkiewicz</h1> 1846-05-05 ---1916-11-15<img src=''/><ul><li><i>\\\"Krzyżacy (powieść)\\\"</i></li></ul><ul><li><i>\\\"Ogniem i mieczem\\\"</i></li></ul><ul><li><i>\\\"Quo vadis\\\"</i></li></ul><h1>Eliza Orzeszkowa</h1> 1841-06-06 ---1910-05-18<img src=''/><ul><li><i>\\\"Nad Niemnem\\\"</i></li></ul><h1>Adam Mickiweicz</h1> 1798-12-24 ---1855-11-26<img src=''/><h1>Orson Scott Card</h1> 1951-08-24 ---<img src='http://commons.wikimedia.org/wiki/Special:FilePath/Orson_Scott_Card_at_BYU_Symposium_20080216_closeup.jpg?width=300'/><ul><li><i>\\\"Végjáték (regény)\\\"</i></li></ul><h1>Andrzej Sapkowski</h1> 1948-06-21 ---<img src='http://commons.wikimedia.org/wiki/Special:FilePath/Sapkowski.jpg?width=300'/><ul><li><i>\\\"Pani Jeziora (powieść)\\\"</i></li></ul><h1>Jack London</h1> 1876-01-12 ---1916-11-22<img src='http://commons.wikimedia.org/wiki/Special:FilePath/JackLondon02.jpeg?width=300'/><ul><li><i>\\\"Bellew Zawierucha\\\"</i></li></ul><h1>Henning Mankell</h1> 1948-02-03 ---<img src='http://commons.wikimedia.org/wiki/Special:FilePath/Henning_Mankell_3_2011_Shankbone.jpg?width=300'/><ul><li><i>\\\"Fałszywy trop (powieść)\\\"</i></li></ul><h1>Stanisław Lem</h1> 1921-09-12 ---2006-03-27<img src='http://commons.wikimedia.org/wiki/Special:FilePath/Stanislaw_Lem_2.jpg?width=300'/><ul><li><i>\\\"Bajki robotów\\\"</i></li></ul><ul><li><i>\\\"Solaris (powieść)\\\"</i></li></ul><ul><li><i>\\\"Bezsenność (zbiór opowiadań)\\\"</i></li></ul><ul><li><i>\\\"Głos Pana\\\"</i></li></ul><ul><li><i>\\\"Inwazja z Aldebarana (zbiór opowiadań)\\\"</i></li></ul><ul><li><i>\\\"Katar (powieść)\\\"</i></li></ul><ul><li><i>\\\"Księga robotów\\\"</i></li></ul><ul><li><i>\\\"Maska (zbiór dzieł)\\\"</i></li></ul><ul><li><i>\\\"Niezwyciężony i inne opowiadania\\\"</i></li></ul><ul><li><i>\\\"Noc księżycowa\\\"</i></li></ul><ul><li><i>\\\"Pamiętnik znaleziony w wannie\\\"</i></li></ul><ul><li><i>\\\"Polowanie (zbiór opowiadań)\\\"</i></li></ul><ul><li><i>\\\"Powtórka (zbiór dzieł)\\\"</i></li></ul><ul><li><i>\\\"Pożytek ze smoka\\\"</i></li></ul><ul><li><i>\\\"Rasa drapieżców. Teksty ostatnie\\\"</i></li></ul><ul><li><i>\\\"Sezam i inne opowiadania\\\"</i></li></ul><ul><li><i>\\\"Summa technologiae\\\"</i></li></ul><ul><li><i>\\\"Wizja lokalna (powieść)\\\"</i></li></ul><h1>Antoni Gołubiew</h1> 1907-02-25 ---1979-06-27<img src='http://commons.wikimedia.org/wiki/Special:FilePath/Antoni_Golubiew.jpg?width=300'/><ul><li><i>\\\"Bolesław Chrobry (powieść)\\\"</i></li></ul><h1>Mikołaj Kopernik</h1> 1473-02-19 ---1543-05-24<img src='http://commons.wikimedia.org/wiki/Special:FilePath/Nikolaus_Kopernikus.jpg?width=300'/><ul><li><i>\\\"De revolutionibus orbium coelestium\\\"</i></li></ul><h1>Maria Franciszka Kozłowska</h1> 1862-05-27 ---<img src='http://commons.wikimedia.org/wiki/Special:FilePath/Mateczk_Kozłowska.JPG?width=300'/><ul><li><i>\\\"Dzieło Wielkiego Miłosierdzia\\\"</i></li></ul><h1>George Orwell</h1> 1903-06-25 ---1950-01-21<img src='http://commons.wikimedia.org/wiki/Special:FilePath/GeoreOrwell.jpg?width=300'/><ul><li><i>\\\"Folwark zwierzęcy\\\"</i></li></ul><ul><li><i>\\\"Droga na molo w Wigan\\\"</i></li></ul><h1>William Szekspir</h1> 1564-04-23 ---1616-05-03<img src='http://commons.wikimedia.org/wiki/Special:FilePath/Shakespeare.jpg?width=300'/><ul><li><i>\\\"Hamlet\\\"</i></li></ul><ul><li><i>\\\"Romeo i Julia\\\"</i></li></ul><ul><li><i>\\\"Sen nocy letniej\\\"</i></li></ul><h1>J. K. Rowling</h1> 1965-07-31 ---<img src='http://commons.wikimedia.org/wiki/Special:FilePath/J._K._Rowling_2010.jpg?width=300'/><ul><li><i>\\\"Harry Potter\\\"</i></li></ul><h1>John Ronald Reuel Tolkien</h1> 1892-01-03 ---1973-09-02<img src='http://commons.wikimedia.org/wiki/Special:FilePath/Tolkien_1916.jpg?width=300'/><ul><li><i>\\\"Hobbit, czyli tam i z powrotem\\\"</i></li></ul><ul><li><i>\\\"Silmarillion\\\"</i></li></ul><ul><li><i>\\\"Władca Pierścieni\\\"</i></li></ul><h1>Aleksander Dumas (ojciec)</h1> 1802-07-24 ---1870-12-05<img src='http://commons.wikimedia.org/wiki/Special:FilePath/Dumas_by_Nadar,_1855.jpg?width=300'/><ul><li><i>\\\"Hrabia Monte Christo\\\"</i></li></ul><h1>Tadeusz Dołęga-Mostowicz</h1> 1898-08-10 ---1939-09-20<img src='http://commons.wikimedia.org/wiki/Special:FilePath/Tadeusz_Dolega-Mostowicz.jpg?width=300'/><ul><li><i>\\\"Kariera Nikodema Dyzmy\\\"</i></li></ul><h1>Vladimir Nabokov</h1> 1899-04-22 ---1977-07-02<img src='http://commons.wikimedia.org/wiki/Special:FilePath/Monument_Nabokov_Montreux_23.12.2006.jpg?width=300'/><ul><li><i>\\\"Lolita\\\"</i></li></ul><h1>Adolf Hitler</h1> 1889-04-20 ---1945-04-30<img src='http://commons.wikimedia.org/wiki/Special:FilePath/Hitler_portrait_crop.jpg?width=300'/><ul><li><i>\\\"Mein Kampf\\\"</i></li></ul><h1>Christopher Tolkien</h1> 1924-11-21 ---<img src=''/><ul><li><i>\\\"Niedokończone opowieści\\\"</i></li></ul><h1>Benedykt Chmielowski</h1> 1700-03-20 ---1763-04-07<img src='http://commons.wikimedia.org/wiki/Special:FilePath/POL_COA_Nałęcz.svg?width=300'/><ul><li><i>\\\"Nowe Ateny\\\"</i></li></ul><h1>Aldous Huxley</h1> 1894-07-26 ---1963-11-22<img src='http://commons.wikimedia.org/wiki/Special:FilePath/Aldous_Huxley.JPG?width=300'/><ul><li><i>\\\"Nowy wspaniały świat\\\"</i></li></ul><h1>Honoré de Balzac</h1> 1799-05-20 ---1850-08-18<img src='http://commons.wikimedia.org/wiki/Special:FilePath/HBalzac.jpg?width=300'/><ul><li><i>\\\"Ojciec Goriot\\\"</i></li></ul><h1>Franz Kafka</h1> 1883-07-03 ---1924-06-03<img src='http://commons.wikimedia.org/wiki/Special:FilePath/Kafka1906.jpg?width=300'/><ul><li><i>\\\"Proces (powieść)\\\"</i></li></ul><h1>Jan Kochanowski</h1>  ---1584-08-22<img src='http://commons.wikimedia.org/wiki/Special:FilePath/Jan_Kochanowski.png?width=300'/><ul><li><i>\\\"Psałterz Dawidów\\\"</i></li></ul><h1>Howard Phillips Lovecraft</h1> 1890-08-20 ---1937-03-15<img src='http://commons.wikimedia.org/wiki/Special:FilePath/Howard_Phillips_Lovecraft_in_1915.jpg?width=300'/><ul><li><i>\\\"Zew Cthulhu (opowiadanie)\\\"</i></li></ul><h1>Karol Olgierd Borchardt</h1> 1905-03-25 ---1986-05-20<img src='http://commons.wikimedia.org/wiki/Special:FilePath/Karol_Olgierd_Borchardt's_house_in_Gdynia.jpg?width=300'/><ul><li><i>\\\"Znaczy Kapitan\\\"</i></li></ul><h1>Lew Tołstoj</h1> 1828-09-09 ---1910-11-20<img src='http://commons.wikimedia.org/wiki/Special:FilePath/Ilya_Efimovich_Repin_(1844-1930)_-_Portrait_of_Leo_Tolstoy_(1887).jpg?width=300'/><ul><li><i>\\\"Anna Karenina\\\"</i></li></ul><ul><li><i>\\\"Wojna i pokój\\\"</i></li></ul><h1>Boris Akunin</h1> 1956-05-20 ---<img src='http://commons.wikimedia.org/wiki/Special:FilePath/Boris_Akunin_2012.jpg?width=300'/><ul><li><i>\\\"Azazel (powieść)\\\"</i></li></ul><ul><li><i>\\\"Dekorator\\\"</i></li></ul><ul><li><i>\\\"Diamentowa karoca\\\"</i></li></ul><ul><li><i>\\\"Gambit turecki\\\"</i></li></ul><ul><li><i>\\\"Kochanek Śmierci\\\"</i></li></ul><ul><li><i>\\\"Kochanka Śmierci\\\"</i></li></ul><ul><li><i>\\\"Koronacja (powieść)\\\"</i></li></ul><ul><li><i>\\\"Lewiatan (powieść)\\\"</i></li></ul><ul><li><i>\\\"Radca stanu (powieść)\\\"</i></li></ul><ul><li><i>\\\"Walet pikowy (powieść)\\\"</i></li></ul><ul><li><i>\\\"Śmierć Achillesa\\\"</i></li></ul><h1>Janusz Zajdel</h1> 1938-08-15 ---1985-07-19<img src='http://commons.wikimedia.org/wiki/Special:FilePath/Janusz_A_Zajdel.jpg?width=300'/><ul><li><i>\\\"Cała prawda o planecie Ksi\\\"</i></li></ul><h1>Jan Paweł II</h1> 1920-05-18 ---2005-04-02<img src='http://commons.wikimedia.org/wiki/Special:FilePath/John_Paul_II_Medal_of_Freedom_2004.jpg?width=300'/><ul><li><i>\\\"Dives in misericordia\\\"</i></li></ul><ul><li><i>\\\"Slavorum apostoli\\\"</i></li></ul><ul><li><i>\\\"Ut unum sint\\\"</i></li></ul><ul><li><i>\\\"Veritatis splendor\\\"</i></li></ul><h1>Isaac Asimov</h1> 1919-10-04 ---1992-04-06<img src='http://commons.wikimedia.org/wiki/Special:FilePath/Isaac.Asimov01.jpg?width=300'/><ul><li><i>\\\"Druga Fundacja\\\"</i></li></ul><ul><li><i>\\\"Fundacja (powieść)\\\"</i></li></ul><ul><li><i>\\\"Fundacja i Imperium\\\"</i></li></ul><ul><li><i>\\\"Preludium Fundacji\\\"</i></li></ul><h1>Ilja Ilf</h1> 1897-10-15 ---1937-04-13<img src='http://commons.wikimedia.org/wiki/Special:FilePath/Ilya_Ilf.jpg?width=300'/><ul><li><i>\\\"Dwanaście krzeseł\\\"</i></li></ul><h1>Jewgienij Pietrow (pisarz)</h1> 1903-12-13 ---1942-07-02<img src='http://commons.wikimedia.org/wiki/Special:FilePath/Yevgeny_Petrov.jpg?width=300'/><h1>Gabriela Zapolska</h1> 1857-03-30 ---1921-12-17<img src='http://commons.wikimedia.org/wiki/Special:FilePath/Gabriela_Zapolska.PNG?width=300'/><ul><li><i>\\\"Ich czworo\\\"</i></li></ul><h1>Jeffery Deaver</h1> 1950-05-06 ---<img src='http://commons.wikimedia.org/wiki/Special:FilePath/Jeffery_Deaver_October_2006.jpg?width=300'/><ul><li><i>\\\"Kamienna małpa\\\"</i></li></ul><ul><li><i>\\\"Mag (powieść J. Deavera)\\\"</i></li></ul><h1>Terry Pratchett</h1> 1948-04-28 ---<img src='http://commons.wikimedia.org/wiki/Special:FilePath/Terry_Pratchett,_September_2009_1.jpg?width=300'/><ul><li><i>\\\"Kot w stanie czystym\\\"</i></li></ul><h1>Clive Staples Lewis</h1> 1898-11-29 ---1963-11-22<img src='http://commons.wikimedia.org/wiki/Special:FilePath/Statue_of_C.S._Lewis,_Belfast.jpg?width=300'/><ul><li><i>\\\"Koń i jego chłopiec\\\"</i></li></ul><h1>Adam Mickiewicz</h1> 1798-12-24 ---1855-11-26<img src='http://commons.wikimedia.org/wiki/Special:FilePath/Adam_Mickiewicz_by_Jan_Mieczkowski.jpg?width=300'/><ul><li><i>\\\"Księgi narodu polskiego i pielgrzymstwa polskiego\\\"</i></li></ul><h1>Andrzej Pilipiuk</h1> 1974-03-20 ---<img src='http://commons.wikimedia.org/wiki/Special:FilePath/Andrzej_Pilipiuk-Polcon2006.jpg?width=300'/><ul><li><i>\\\"Kuzynki\\\"</i></li></ul><h1>Ursula K. Le Guin</h1> 1929-10-21 ---<img src='http://commons.wikimedia.org/wiki/Special:FilePath/UrsulaLeGuin.01.jpg?width=300'/><ul><li><i>\\\"Lewa ręka ciemności\\\"</i></li></ul><ul><li><i>\\\"Czarnoksiężnik z Archipelagu\\\"</i></li></ul><h1>Iwan Turgieniew</h1> 1818-11-09 ---1883-09-03<img src='http://commons.wikimedia.org/wiki/Special:FilePath/Turgenev_by_Repin.jpg?width=300'/><ul><li><i>\\\"Ojcowie i dzieci\\\"</i></li></ul><h1>George R. R. Martin</h1> 1948-09-20 ---<img src='http://commons.wikimedia.org/wiki/Special:FilePath/George_R_R_Martin_2011_Shankbone.JPG?width=300'/><ul><li><i>\\\"Pieśń Lodu i Ognia\\\"</i></li></ul><h1>Ryszard Kapuściński</h1> 1932-03-04 ---2007-01-23<img src='http://commons.wikimedia.org/wiki/Special:FilePath/Ryszard_Kapuscinski_by_Kubik_17.05.1997_-_cropped.jpg?width=300'/><ul><li><i>\\\"Podróże z Herodotem\\\"</i></li></ul><h1>Lucy Maud Montgomery</h1> 1874-11-30 ---1942-04-24<img src='http://commons.wikimedia.org/wiki/Special:FilePath/Lucy_Maud_Montgomery.JPG?width=300'/><ul><li><i>\\\"Rilla ze Złotego Brzegu\\\"</i></li></ul><h1>Dorota Terakowska</h1> 1938-08-30 ---2004-01-04<img src='http://commons.wikimedia.org/wiki/Special:FilePath/Dorota_Terakowska_grob.jpg?width=300'/><ul><li><i>\\\"Tam gdzie spadają anioły\\\"</i></li></ul><h1>Alfred Szklarski</h1> 1912-01-21 ---1992-04-09<img src='http://commons.wikimedia.org/wiki/Special:FilePath/Katowice_-_pomnik_Alfred_Szklarski.JPG?width=300'/><ul><li><i>\\\"Tomek u źródeł Amazonki\\\"</i></li></ul><ul><li><i>\\\"Tomek w Gran Chaco\\\"</i></li></ul><ul><li><i>\\\"Tomek w grobowcach faraonów\\\"</i></li></ul><h1>Adam Zelga</h1> 1953-03-11 ---<img src=''/><h1>Rafał A. Ziemkiewicz</h1> 1964-09-13 ---<img src='http://commons.wikimedia.org/wiki/Special:FilePath/Rafał_Ziemkiewicz.jpg?width=300'/><ul><li><i>\\\"Walc stulecia\\\"</i></li></ul><h1>Anne Rice</h1> 1941-10-04 ---<img src='http://commons.wikimedia.org/wiki/Special:FilePath/Anne_Rice.jpg?width=300'/><ul><li><i>\\\"Wampir Lestat\\\"</i></li></ul><h1>Aleksander Majkowski</h1> 1876-07-17 ---1938-02-10<img src='http://commons.wikimedia.org/wiki/Special:FilePath/POL_Polonia_Restituta_Oficerski_BAR.svg?width=300'/><ul><li><i>\\\"Życie i przygody Remusa\\\"</i></li></ul><h1>Ian Fleming</h1> 1908-05-28 ---1964-08-12<img src='http://commons.wikimedia.org/wiki/Special:FilePath/For_Your_Eyes_Only.jpg?width=300'/><ul><li><i>\\\"Casino Royale (powieść)\\\"</i></li></ul><h1>Gene Wolfe</h1> 1931-05-07 ---<img src='http://commons.wikimedia.org/wiki/Special:FilePath/Gene_Wolfe,_2005.png?width=300'/><ul><li><i>\\\"Cień kata\\\"</i></li></ul><h1>Paulo Coelho</h1> 1947-08-24 ---<img src='http://commons.wikimedia.org/wiki/Special:FilePath/Paulo_Coelho_nrkbeta.jpg?width=300'/><ul><li><i>\\\"Czarownica z Portobello\\\"</i></li></ul><h1>Tom Clancy</h1> 1947-04-12 ---2013-10-01<img src='http://commons.wikimedia.org/wiki/Special:FilePath/Tom_Clancy_at_Burns_Library_cropped.jpg?width=300'/><ul><li><i>\\\"Czas patriotów (powieść)\\\"</i></li></ul>\""
      ]
     },
     "execution_count": 131,
     "metadata": {},
     "output_type": "execute_result"
    }
   ],
   "source": [
    "def display_authors\n",
    "  author = Author.all\n",
    "  str = \"\"\n",
    "  author.each do |author|\n",
    "    str << \"<h1>#{author.name} #{author.surname}</h1> #{author.born} ---#{author.died}<img src='#{author.image_url}'/>\"\n",
    "\n",
    "  author.books.each do |book|\n",
    "    str << \"<ul><li><i>\\\"#{book.title}\\\"</i></li></ul>\"\n",
    "  end\n",
    "end\n",
    "  str\n",
    "end\n",
    "\n",
    "document = display_authors\n",
    "\n",
    "IRuby.html document"
   ]
  }
 ],
 "metadata": {
  "kernelspec": {
   "display_name": "Ruby 2.2.3",
   "language": "ruby",
   "name": "ruby"
  },
  "language_info": {
   "file_extension": "rb",
   "mimetype": "application/x-ruby",
   "name": "ruby",
   "version": "2.2.3"
  }
 },
 "nbformat": 4,
 "nbformat_minor": 0
}
